{
 "cells": [
  {
   "cell_type": "markdown",
   "metadata": {},
   "source": [
    "## ****Problem 1****"
   ]
  },
  {
   "cell_type": "markdown",
   "metadata": {},
   "source": [
    "**Task 1**\n",
    "\n",
    "You task here is to go through [this link](https://www.kaggle.com/datasets/andonians/random-linear-regression) and perform simple linear regression using sklearn. Then you must submit your work here as well as on the dataset above in kaggle website. Share the link of your notebook on kaggle along with your notebook on github."
   ]
  },
  {
   "cell_type": "markdown",
   "metadata": {},
   "source": [
    "Solution:<br>\n",
    "The kaggle [link](https://www.kaggle.com/kaiju8/ml-1-assignment-problem-1-task-1) to the notebook"
   ]
  },
  {
   "cell_type": "markdown",
   "metadata": {},
   "source": [
    "**Task 2**"
   ]
  },
  {
   "cell_type": "markdown",
   "metadata": {},
   "source": [
    "Apply polynomial regression on this [link](https://www.kaggle.com/datasets/shubhankitsirvaiya06/diamond-price-prediction). Submit your notebook to github as well as kaggle. Share kaggle link."
   ]
  },
  {
   "cell_type": "markdown",
   "metadata": {},
   "source": [
    "Solution:<br>\n",
    "The kaggle [link](https://www.kaggle.com/code/kaiju8/ml-1-assignment-problem-1-task-2) to the notebook"
   ]
  },
  {
   "cell_type": "markdown",
   "metadata": {},
   "source": [
    "**Task 3**"
   ]
  },
  {
   "cell_type": "markdown",
   "metadata": {},
   "source": [
    "Go through [this notebook](https://www.kaggle.com/code/shrutimechlearn/step-by-step-assumptions-linear-regression/notebook). No need to code :P . Just see why the assumptions to linear regression are important as discussed in the lecture."
   ]
  },
  {
   "cell_type": "markdown",
   "metadata": {},
   "source": [
    "## **Problem 2**"
   ]
  },
  {
   "cell_type": "markdown",
   "metadata": {},
   "source": [
    "Pendigits is a handwritten digits dataset. The train set can be accessed [here](http://archive.ics.uci.edu/ml/machine-learning-databases/pendigits/pendigits.tra) and the test set can be accessed [here](http://archive.ics.uci.edu/ml/machine-learning-databases/pendigits/pendigits.tes). The dataset is available as a text file (can be opened in Notepad)."
   ]
  },
  {
   "cell_type": "markdown",
   "metadata": {},
   "source": [
    "**Task 1**"
   ]
  },
  {
   "cell_type": "markdown",
   "metadata": {},
   "source": [
    "Your first task is to parse this text based data into a pandas dataframe.\n",
    "\n",
    "Also, to impress Ajit sir, plot one digit each of label 4, 0, 8 using matplotlib."
   ]
  },
  {
   "cell_type": "markdown",
   "metadata": {},
   "source": [
    "Solution"
   ]
  },
  {
   "cell_type": "code",
   "execution_count": 1,
   "metadata": {},
   "outputs": [],
   "source": [
    "import pandas as pd\n",
    "import matplotlib.pyplot as plt\n",
    "import numpy as np\n",
    "\n",
    "import scipy.stats"
   ]
  },
  {
   "cell_type": "code",
   "execution_count": 2,
   "metadata": {},
   "outputs": [],
   "source": [
    "train_url = (\"http://archive.ics.uci.edu/ml/machine-learning-databases/pendigits/pendigits.tra\")\n",
    "test_url = (\"http://archive.ics.uci.edu/ml/machine-learning-databases/pendigits/pendigits.tes\")\n",
    "#column_url = (\"https://archive.ics.uci.edu/ml/machine-learning-databases/pendigits/pendigits.names\")\n",
    "\n",
    "train_data=pd.read_csv(train_url,header=None)\n",
    "test_data=pd.read_csv(test_url,header=None)\n",
    "#columns=pd.read_csv(column_url)"
   ]
  },
  {
   "cell_type": "code",
   "execution_count": 3,
   "metadata": {},
   "outputs": [],
   "source": [
    "#Renaming Columns\n",
    "train_data.columns = ['x1','y1','x2','y2','x3','y3','x4','y4','x5','y5','x6','y6','x7','y7','x8','y8','digit']\n",
    "test_data.columns = ['x1','y1','x2','y2','x3','y3','x4','y4','x5','y5','x6','y6','x7','y7','x8','y8','digit']\n",
    "X_columns = ['x1','y1','x2','y2','x3','y3','x4','y4','x5','y5','x6','y6','x7','y7','x8','y8']\n",
    "y_columns = ['digit']"
   ]
  },
  {
   "cell_type": "code",
   "execution_count": 4,
   "metadata": {},
   "outputs": [
    {
     "data": {
      "text/html": [
       "<div>\n",
       "<style scoped>\n",
       "    .dataframe tbody tr th:only-of-type {\n",
       "        vertical-align: middle;\n",
       "    }\n",
       "\n",
       "    .dataframe tbody tr th {\n",
       "        vertical-align: top;\n",
       "    }\n",
       "\n",
       "    .dataframe thead th {\n",
       "        text-align: right;\n",
       "    }\n",
       "</style>\n",
       "<table border=\"1\" class=\"dataframe\">\n",
       "  <thead>\n",
       "    <tr style=\"text-align: right;\">\n",
       "      <th></th>\n",
       "      <th>x1</th>\n",
       "      <th>y1</th>\n",
       "      <th>x2</th>\n",
       "      <th>y2</th>\n",
       "      <th>x3</th>\n",
       "      <th>y3</th>\n",
       "      <th>x4</th>\n",
       "      <th>y4</th>\n",
       "      <th>x5</th>\n",
       "      <th>y5</th>\n",
       "      <th>x6</th>\n",
       "      <th>y6</th>\n",
       "      <th>x7</th>\n",
       "      <th>y7</th>\n",
       "      <th>x8</th>\n",
       "      <th>y8</th>\n",
       "      <th>digit</th>\n",
       "    </tr>\n",
       "  </thead>\n",
       "  <tbody>\n",
       "    <tr>\n",
       "      <th>0</th>\n",
       "      <td>88</td>\n",
       "      <td>92</td>\n",
       "      <td>2</td>\n",
       "      <td>99</td>\n",
       "      <td>16</td>\n",
       "      <td>66</td>\n",
       "      <td>94</td>\n",
       "      <td>37</td>\n",
       "      <td>70</td>\n",
       "      <td>0</td>\n",
       "      <td>0</td>\n",
       "      <td>24</td>\n",
       "      <td>42</td>\n",
       "      <td>65</td>\n",
       "      <td>100</td>\n",
       "      <td>100</td>\n",
       "      <td>8</td>\n",
       "    </tr>\n",
       "    <tr>\n",
       "      <th>1</th>\n",
       "      <td>80</td>\n",
       "      <td>100</td>\n",
       "      <td>18</td>\n",
       "      <td>98</td>\n",
       "      <td>60</td>\n",
       "      <td>66</td>\n",
       "      <td>100</td>\n",
       "      <td>29</td>\n",
       "      <td>42</td>\n",
       "      <td>0</td>\n",
       "      <td>0</td>\n",
       "      <td>23</td>\n",
       "      <td>42</td>\n",
       "      <td>61</td>\n",
       "      <td>56</td>\n",
       "      <td>98</td>\n",
       "      <td>8</td>\n",
       "    </tr>\n",
       "    <tr>\n",
       "      <th>2</th>\n",
       "      <td>0</td>\n",
       "      <td>94</td>\n",
       "      <td>9</td>\n",
       "      <td>57</td>\n",
       "      <td>20</td>\n",
       "      <td>19</td>\n",
       "      <td>7</td>\n",
       "      <td>0</td>\n",
       "      <td>20</td>\n",
       "      <td>36</td>\n",
       "      <td>70</td>\n",
       "      <td>68</td>\n",
       "      <td>100</td>\n",
       "      <td>100</td>\n",
       "      <td>18</td>\n",
       "      <td>92</td>\n",
       "      <td>8</td>\n",
       "    </tr>\n",
       "    <tr>\n",
       "      <th>3</th>\n",
       "      <td>95</td>\n",
       "      <td>82</td>\n",
       "      <td>71</td>\n",
       "      <td>100</td>\n",
       "      <td>27</td>\n",
       "      <td>77</td>\n",
       "      <td>77</td>\n",
       "      <td>73</td>\n",
       "      <td>100</td>\n",
       "      <td>80</td>\n",
       "      <td>93</td>\n",
       "      <td>42</td>\n",
       "      <td>56</td>\n",
       "      <td>13</td>\n",
       "      <td>0</td>\n",
       "      <td>0</td>\n",
       "      <td>9</td>\n",
       "    </tr>\n",
       "    <tr>\n",
       "      <th>4</th>\n",
       "      <td>68</td>\n",
       "      <td>100</td>\n",
       "      <td>6</td>\n",
       "      <td>88</td>\n",
       "      <td>47</td>\n",
       "      <td>75</td>\n",
       "      <td>87</td>\n",
       "      <td>82</td>\n",
       "      <td>85</td>\n",
       "      <td>56</td>\n",
       "      <td>100</td>\n",
       "      <td>29</td>\n",
       "      <td>75</td>\n",
       "      <td>6</td>\n",
       "      <td>0</td>\n",
       "      <td>0</td>\n",
       "      <td>9</td>\n",
       "    </tr>\n",
       "  </tbody>\n",
       "</table>\n",
       "</div>"
      ],
      "text/plain": [
       "   x1   y1  x2   y2  x3  y3   x4  y4   x5  y5   x6  y6   x7   y7   x8   y8  \\\n",
       "0  88   92   2   99  16  66   94  37   70   0    0  24   42   65  100  100   \n",
       "1  80  100  18   98  60  66  100  29   42   0    0  23   42   61   56   98   \n",
       "2   0   94   9   57  20  19    7   0   20  36   70  68  100  100   18   92   \n",
       "3  95   82  71  100  27  77   77  73  100  80   93  42   56   13    0    0   \n",
       "4  68  100   6   88  47  75   87  82   85  56  100  29   75    6    0    0   \n",
       "\n",
       "   digit  \n",
       "0      8  \n",
       "1      8  \n",
       "2      8  \n",
       "3      9  \n",
       "4      9  "
      ]
     },
     "execution_count": 4,
     "metadata": {},
     "output_type": "execute_result"
    }
   ],
   "source": [
    "test_data.head()"
   ]
  },
  {
   "cell_type": "code",
   "execution_count": 5,
   "metadata": {},
   "outputs": [],
   "source": [
    "#train_data.sort_values(by=['digit'])"
   ]
  },
  {
   "cell_type": "code",
   "execution_count": 6,
   "metadata": {},
   "outputs": [],
   "source": [
    "def toget(x):\n",
    "    datax_train = train_data.loc[train_data['digit'] == x]\n",
    "    datax_train = datax_train.sample(frac = 1)\n",
    "    datax_train_random = datax_train.iloc[0,:-1]\n",
    "    draw(datax_train_random)"
   ]
  },
  {
   "cell_type": "code",
   "execution_count": 7,
   "metadata": {},
   "outputs": [],
   "source": [
    "def draw(df):\n",
    "    X=[df.loc[x] for x in ['x1','x2','x3','x4','x5','x6','x7','x8']]\n",
    "    Y=[df.loc[y] for y in ['y1','y2','y3','y4','y5','y6','y7','y8']]\n",
    "    plt.plot(X,Y)\n",
    "    plt.show()"
   ]
  },
  {
   "cell_type": "code",
   "execution_count": 8,
   "metadata": {},
   "outputs": [
    {
     "data": {
      "image/png": "[encoded data removed]",
      "text/plain": [
       "<Figure size 432x288 with 1 Axes>"
      ]
     },
     "metadata": {
      "needs_background": "light"
     },
     "output_type": "display_data"
    },
    {
     "data": {
      "image/png": "[encoded data removed]",
      "text/plain": [
       "<Figure size 432x288 with 1 Axes>"
      ]
     },
     "metadata": {
      "needs_background": "light"
     },
     "output_type": "display_data"
    },
    {
     "data": {
      "image/png": "[encoded data removed]",
      "text/plain": [
       "<Figure size 432x288 with 1 Axes>"
      ]
     },
     "metadata": {
      "needs_background": "light"
     },
     "output_type": "display_data"
    }
   ],
   "source": [
    "for i in [4,0,8]:\n",
    "    toget(i)"
   ]
  },
  {
   "cell_type": "markdown",
   "metadata": {},
   "source": [
    "**Task 2**"
   ]
  },
  {
   "cell_type": "markdown",
   "metadata": {},
   "source": [
    "Next, train a logistic classifier on these digits and find the accuracy on the test set. For this, you can use any Python library available 🤟."
   ]
  },
  {
   "cell_type": "markdown",
   "metadata": {},
   "source": [
    "Solution:"
   ]
  },
  {
   "cell_type": "code",
   "execution_count": 9,
   "metadata": {},
   "outputs": [],
   "source": [
    "X_train = np.array(train_data.loc[:,X_columns])\n",
    "y_train = np.array(train_data.loc[:,y_columns])"
   ]
  },
  {
   "cell_type": "code",
   "execution_count": 10,
   "metadata": {},
   "outputs": [],
   "source": [
    "X_test = np.array(test_data.loc[:,X_columns])\n",
    "y_test = np.array(test_data.loc[:,y_columns])"
   ]
  },
  {
   "cell_type": "code",
   "execution_count": 11,
   "metadata": {},
   "outputs": [],
   "source": [
    "from sklearn.linear_model import LogisticRegression\n",
    "logistic_r_model=LogisticRegression().fit(X_train, y_train.ravel())\n",
    "y_pred_logistic = logistic_r_model.predict(X_test)"
   ]
  },
  {
   "cell_type": "code",
   "execution_count": 12,
   "metadata": {},
   "outputs": [
    {
     "name": "stdout",
     "output_type": "stream",
     "text": [
      "The R2 score on train set  0.9471577261809447\n"
     ]
    }
   ],
   "source": [
    "train_score = logistic_r_model.score(X_train,y_train)\n",
    "print(\"The R2 score on train set \",train_score)"
   ]
  },
  {
   "cell_type": "code",
   "execution_count": 13,
   "metadata": {},
   "outputs": [
    {
     "name": "stdout",
     "output_type": "stream",
     "text": [
      "The R2 score on test set  0.8902229845626072\n"
     ]
    }
   ],
   "source": [
    "test_score = logistic_r_model.score(X_test,y_test)\n",
    "print(\"The R2 score on test set \",test_score)"
   ]
  },
  {
   "cell_type": "code",
   "execution_count": 14,
   "metadata": {},
   "outputs": [
    {
     "name": "stdout",
     "output_type": "stream",
     "text": [
      "             precision    recall  f1-score   support\n",
      "\n",
      "          0       0.97      0.88      0.92       363\n",
      "          1       0.76      0.77      0.77       364\n",
      "          2       0.94      0.98      0.96       364\n",
      "          3       0.96      0.98      0.97       336\n",
      "          4       0.95      0.95      0.95       364\n",
      "          5       0.72      0.83      0.77       335\n",
      "          6       0.99      0.96      0.98       336\n",
      "          7       0.99      0.82      0.90       364\n",
      "          8       0.83      0.90      0.86       336\n",
      "          9       0.85      0.84      0.84       336\n",
      "\n",
      "avg / total       0.90      0.89      0.89      3498\n",
      "\n"
     ]
    }
   ],
   "source": [
    "from sklearn.metrics import classification_report\n",
    "print(classification_report(y_test,y_pred_logistic))"
   ]
  },
  {
   "cell_type": "markdown",
   "metadata": {},
   "source": [
    "We can see that this model has certain issues"
   ]
  },
  {
   "cell_type": "code",
   "execution_count": 15,
   "metadata": {},
   "outputs": [],
   "source": [
    "from sklearn.metrics import confusion_matrix\n",
    "matrix_lr = confusion_matrix(y_test, y_pred_logistic)"
   ]
  },
  {
   "cell_type": "code",
   "execution_count": 16,
   "metadata": {},
   "outputs": [
    {
     "data": {
      "image/png": "[encoded data removed]",
      "text/plain": [
       "<Figure size 720x576 with 2 Axes>"
      ]
     },
     "metadata": {
      "needs_background": "light"
     },
     "output_type": "display_data"
    }
   ],
   "source": [
    "import seaborn as sn\n",
    "\n",
    "df_cm = pd.DataFrame(matrix_lr, index = [i for i in \"0123456789\"],columns = [i for i in \"0123456789\"])\n",
    "plt.figure(figsize = (10,8))\n",
    "plt.ylabel('True label')\n",
    "plt.xlabel('Predicted label')\n",
    "sn.heatmap(df_cm, annot=True)\n",
    "plt.show()"
   ]
  },
  {
   "cell_type": "markdown",
   "metadata": {},
   "source": [
    "We can see certain patterns in the misclassifications"
   ]
  },
  {
   "cell_type": "markdown",
   "metadata": {},
   "source": [
    "**Task 3**"
   ]
  },
  {
   "cell_type": "markdown",
   "metadata": {},
   "source": [
    "Next, you need to use the KNN classifier on this dataset. Use k = 1.\n",
    "\n",
    "For this, you need to implement your solution as a Python class with the following format:\n",
    "\n",
    "class KNN:\n",
    "    def __init__(self, k, ...):\n",
    "        # initialize data parameters\n",
    "        ...\n",
    "        \n",
    "    def load(self, dataset):\n",
    "        # store dataset\n",
    "        ...\n",
    "        \n",
    "    def distance(self, p1, p2):\n",
    "        # calculate L2 distance\n",
    "        ...\n",
    "        \n",
    "    def predict(self, test_point):\n",
    "        # predict the class of the test_point\n",
    "        ...\n",
    "Also, make sure to find the accuracy on the test set.\n"
   ]
  },
  {
   "cell_type": "code",
   "execution_count": 17,
   "metadata": {},
   "outputs": [],
   "source": [
    "class KNN:\n",
    "    def __init__(self, k):\n",
    "        # initialize data parameters\n",
    "        self.k=k\n",
    "        \n",
    "    def load(self, dataset, X_columns, y_columns):\n",
    "        # store dataset\n",
    "        self.X = np.array(dataset.loc[:,X_columns])\n",
    "        self.y = np.array(dataset.loc[:,y_columns])\n",
    "        \n",
    "    def distance(self, p1, p2):\n",
    "        # calculate L2 distance\n",
    "        dist=[]\n",
    "        for p in p1:\n",
    "            dist.append(np.linalg.norm(p - p2))\n",
    "            \n",
    "        return np.array(dist)\n",
    "    \n",
    "    def predict(self, test_point):\n",
    "        # predict the class of the test_point\n",
    "        \n",
    "        y_pred=[]\n",
    "        for point in test_point:\n",
    "            distances = self.distance(self.X ,point)\n",
    "            #print(distances)\n",
    "            \n",
    "            nearest_neighbors_id = distances.argsort()[:self.k]\n",
    "            nearest_neighbors_y = self.y[nearest_neighbors_id]\n",
    "            y_prediction_i = scipy.stats.mode(nearest_neighbors_y).mode[0]\n",
    "            y_pred.append(y_prediction_i)\n",
    "            #print(y_pred)\n",
    "        return y_pred"
   ]
  },
  {
   "cell_type": "code",
   "execution_count": 18,
   "metadata": {},
   "outputs": [],
   "source": [
    "knn_model=KNN(1)\n",
    "knn_model.load(train_data, X_columns, y_columns)\n",
    "y_pred_knn = np.array(knn_model.predict(X_test))"
   ]
  },
  {
   "cell_type": "code",
   "execution_count": 19,
   "metadata": {},
   "outputs": [
    {
     "name": "stdout",
     "output_type": "stream",
     "text": [
      "The R2 score is  0.9774156660949114\n"
     ]
    }
   ],
   "source": [
    "from sklearn.metrics import accuracy_score\n",
    "print(\"The R2 score is \",accuracy_score(y_test, y_pred_knn))"
   ]
  },
  {
   "cell_type": "code",
   "execution_count": 20,
   "metadata": {},
   "outputs": [
    {
     "name": "stdout",
     "output_type": "stream",
     "text": [
      "             precision    recall  f1-score   support\n",
      "\n",
      "          0       1.00      0.98      0.99       363\n",
      "          1       0.96      0.96      0.96       364\n",
      "          2       0.96      0.99      0.98       364\n",
      "          3       0.97      0.99      0.98       336\n",
      "          4       1.00      0.98      0.99       364\n",
      "          5       0.96      0.97      0.96       335\n",
      "          6       0.98      1.00      0.99       336\n",
      "          7       0.99      0.96      0.97       364\n",
      "          8       0.99      1.00      0.99       336\n",
      "          9       0.98      0.96      0.97       336\n",
      "\n",
      "avg / total       0.98      0.98      0.98      3498\n",
      "\n"
     ]
    }
   ],
   "source": [
    "from sklearn.metrics import classification_report\n",
    "print(classification_report(y_test,np.array(y_pred_knn)))\n"
   ]
  },
  {
   "cell_type": "code",
   "execution_count": 21,
   "metadata": {},
   "outputs": [],
   "source": [
    "from sklearn.metrics import confusion_matrix\n",
    "matrix_knn = confusion_matrix(y_test, y_pred_knn)"
   ]
  },
  {
   "cell_type": "code",
   "execution_count": 22,
   "metadata": {},
   "outputs": [
    {
     "data": {
      "text/plain": [
       "<matplotlib.axes._subplots.AxesSubplot at 0x7fe2e7b64550>"
      ]
     },
     "execution_count": 22,
     "metadata": {},
     "output_type": "execute_result"
    },
    {
     "data": {
      "image/png": "[encoded data removed]",
      "text/plain": [
       "<Figure size 720x576 with 2 Axes>"
      ]
     },
     "metadata": {
      "needs_background": "light"
     },
     "output_type": "display_data"
    }
   ],
   "source": [
    "import seaborn as sn\n",
    "\n",
    "df_cm = pd.DataFrame(matrix_knn, index = [i for i in \"0123456789\"],columns = [i for i in \"0123456789\"])\n",
    "plt.figure(figsize = (10,8))\n",
    "plt.ylabel('True label')\n",
    "plt.xlabel('Predicted label')\n",
    "sn.heatmap(df_cm, annot=True)"
   ]
  },
  {
   "cell_type": "markdown",
   "metadata": {},
   "source": [
    "Much better than the one with Logistic Regression"
   ]
  },
  {
   "cell_type": "markdown",
   "metadata": {},
   "source": [
    "**Task 4**"
   ]
  },
  {
   "cell_type": "markdown",
   "metadata": {},
   "source": [
    "As in all neural network training, you need to find the optimal values of your hyperparameters.\n",
    "\n",
    "Plot a graph of test accuracy vs k for a lot of values of k and decide the best k."
   ]
  },
  {
   "cell_type": "markdown",
   "metadata": {},
   "source": [
    "Solution:"
   ]
  },
  {
   "cell_type": "code",
   "execution_count": 23,
   "metadata": {},
   "outputs": [],
   "source": [
    "#Score=[]\n",
    "#for i in range(1,50):\n",
    "    #knn_model=KNN(i)\n",
    "    #knn_model.load(train_data, X_columns, y_columns)\n",
    "    #y_pred = knn_model.predict(X_test)\n",
    "    \n",
    "    #score = accuracy_score(y_test,y_pred)\n",
    "    #print(\"For k = \", i, \" the score is \",score)\n",
    "    \n",
    "#plt.plot(Score)"
   ]
  },
  {
   "cell_type": "markdown",
   "metadata": {},
   "source": [
    "The code I wrote was taking way too much time to calculate the accuracy.<br> That is why I decided use the scikit library"
   ]
  },
  {
   "cell_type": "code",
   "execution_count": 24,
   "metadata": {},
   "outputs": [
    {
     "data": {
      "text/plain": [
       "[<matplotlib.lines.Line2D at 0x7fe2e33062b0>]"
      ]
     },
     "execution_count": 24,
     "metadata": {},
     "output_type": "execute_result"
    },
    {
     "data": {
      "image/png": "[encoded data removed]",
      "text/plain": [
       "<Figure size 432x288 with 1 Axes>"
      ]
     },
     "metadata": {
      "needs_background": "light"
     },
     "output_type": "display_data"
    }
   ],
   "source": [
    "Scores = []\n",
    "n=50\n",
    "\n",
    "#print(y_test)\n",
    "\n",
    "for i in range(1,n):\n",
    "    from sklearn.neighbors import KNeighborsRegressor\n",
    "    #from sklearn.metrics import mean_squared_error\n",
    "    \n",
    "    knn_model_scikit = KNeighborsRegressor(n_neighbors=i)\n",
    "    knn_model_scikit.fit(X_train, y_train)\n",
    "    y_pred = knn_model_scikit.predict(X_test)\n",
    "    \n",
    "    #mse = mean_squared_error(y_test, y_pred)\n",
    "    #print(\"For k = \", i, \" the score is \",mse)\n",
    "    #print(y_pred.astype(int),\" \")\n",
    "    #print(\" \")\n",
    "    \n",
    "    from sklearn.metrics import accuracy_score\n",
    "    Scores.append(accuracy_score(y_test, y_pred.astype(int)))\n",
    "    \n",
    "plt.plot(Scores)"
   ]
  },
  {
   "cell_type": "markdown",
   "metadata": {},
   "source": [
    "As we can see that the value of k that gives best accuracy is near 1\n",
    "hence k=1 is best option we can use"
   ]
  },
  {
   "cell_type": "markdown",
   "metadata": {},
   "source": [
    "**Task 5**"
   ]
  },
  {
   "cell_type": "markdown",
   "metadata": {},
   "source": [
    "Good job until now! But, to decide the hyperparameters using the test accuracy is not the best way. Why?"
   ]
  },
  {
   "cell_type": "markdown",
   "metadata": {},
   "source": [
    "Solution:\n",
    "\n",
    "Deciding hyperparameters using test accuracy is not a good, it may seem like we are using a completely new data, but as the test data 'used' to decide tune the parameter, it is no longer independent. That is why something like cross validation error is used"
   ]
  }
 ],
 "metadata": {
  "kernelspec": {
   "display_name": "Python 3",
   "language": "python",
   "name": "python3"
  },
  "language_info": {
   "codemirror_mode": {
    "name": "ipython",
    "version": 3
   },
   "file_extension": ".py",
   "mimetype": "text/x-python",
   "name": "python",
   "nbconvert_exporter": "python",
   "pygments_lexer": "ipython3",
   "version": "3.7.0"
  }
 },
 "nbformat": 4,
 "nbformat_minor": 2
}
