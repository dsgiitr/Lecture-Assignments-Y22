{
 "cells": [
  {
   "cell_type": "markdown",
   "id": "5041cd9d",
   "metadata": {},
   "source": [
    "# Problem 1:"
   ]
  },
  {
   "cell_type": "markdown",
   "id": "39cd6279",
   "metadata": {},
   "source": [
    "# Task 1"
   ]
  },
  {
   "cell_type": "code",
   "execution_count": 1,
   "id": "8980543d",
   "metadata": {},
   "outputs": [],
   "source": [
    "import numpy as np\n",
    "import pandas as pd\n",
    "import matplotlib.pyplot as plt"
   ]
  },
  {
   "cell_type": "code",
   "execution_count": 2,
   "id": "609bf71f",
   "metadata": {},
   "outputs": [
    {
     "data": {
      "text/html": [
       "<div>\n",
       "<style scoped>\n",
       "    .dataframe tbody tr th:only-of-type {\n",
       "        vertical-align: middle;\n",
       "    }\n",
       "\n",
       "    .dataframe tbody tr th {\n",
       "        vertical-align: top;\n",
       "    }\n",
       "\n",
       "    .dataframe thead th {\n",
       "        text-align: right;\n",
       "    }\n",
       "</style>\n",
       "<table border=\"1\" class=\"dataframe\">\n",
       "  <thead>\n",
       "    <tr style=\"text-align: right;\">\n",
       "      <th></th>\n",
       "      <th>x</th>\n",
       "      <th>y</th>\n",
       "    </tr>\n",
       "  </thead>\n",
       "  <tbody>\n",
       "    <tr>\n",
       "      <th>0</th>\n",
       "      <td>77</td>\n",
       "      <td>79.775152</td>\n",
       "    </tr>\n",
       "    <tr>\n",
       "      <th>1</th>\n",
       "      <td>21</td>\n",
       "      <td>23.177279</td>\n",
       "    </tr>\n",
       "    <tr>\n",
       "      <th>2</th>\n",
       "      <td>22</td>\n",
       "      <td>25.609262</td>\n",
       "    </tr>\n",
       "    <tr>\n",
       "      <th>3</th>\n",
       "      <td>20</td>\n",
       "      <td>17.857388</td>\n",
       "    </tr>\n",
       "    <tr>\n",
       "      <th>4</th>\n",
       "      <td>36</td>\n",
       "      <td>41.849864</td>\n",
       "    </tr>\n",
       "  </tbody>\n",
       "</table>\n",
       "</div>"
      ],
      "text/plain": [
       "    x          y\n",
       "0  77  79.775152\n",
       "1  21  23.177279\n",
       "2  22  25.609262\n",
       "3  20  17.857388\n",
       "4  36  41.849864"
      ]
     },
     "execution_count": 2,
     "metadata": {},
     "output_type": "execute_result"
    }
   ],
   "source": [
    "data = pd.read_csv('test.csv')\n",
    "data.head()"
   ]
  },
  {
   "cell_type": "code",
   "execution_count": 3,
   "id": "0d37ac53",
   "metadata": {},
   "outputs": [
    {
     "data": {
      "image/png": "[encoded data removed]",
      "text/plain": [
       "<Figure size 432x288 with 1 Axes>"
      ]
     },
     "metadata": {
      "needs_background": "light"
     },
     "output_type": "display_data"
    }
   ],
   "source": [
    "data.plot(x='x', y='y', style='o')\n",
    "plt.title('Linear Regression Data')\n",
    "plt.show()"
   ]
  },
  {
   "cell_type": "code",
   "execution_count": 4,
   "id": "ef24382c",
   "metadata": {},
   "outputs": [],
   "source": [
    "#Preaparing the Data\n",
    "#Dividing into \"attributes\" and \"labels\"\n",
    "X= data.iloc[:, :-1].values\n",
    "Y= data.iloc[:, 1].values\n",
    "\n",
    "#splitting data into training and test sets\n",
    "from sklearn.model_selection import train_test_split\n",
    "X_train, X_test, Y_train, Y_test = train_test_split(X, Y, test_size=0.2, random_state=0)"
   ]
  },
  {
   "cell_type": "code",
   "execution_count": 5,
   "id": "83d02c9d",
   "metadata": {},
   "outputs": [
    {
     "name": "stdout",
     "output_type": "stream",
     "text": [
      "-0.5333242119059278\n",
      "[1.0144497]\n"
     ]
    }
   ],
   "source": [
    "#Training the Algorithm\n",
    "from sklearn.linear_model import LinearRegression\n",
    "reg = LinearRegression()\n",
    "reg.fit(X_train, Y_train)\n",
    "print(reg.intercept_)\n",
    "print(reg.coef_)"
   ]
  },
  {
   "cell_type": "code",
   "execution_count": 6,
   "id": "234de7b0",
   "metadata": {},
   "outputs": [
    {
     "data": {
      "text/html": [
       "<div>\n",
       "<style scoped>\n",
       "    .dataframe tbody tr th:only-of-type {\n",
       "        vertical-align: middle;\n",
       "    }\n",
       "\n",
       "    .dataframe tbody tr th {\n",
       "        vertical-align: top;\n",
       "    }\n",
       "\n",
       "    .dataframe thead th {\n",
       "        text-align: right;\n",
       "    }\n",
       "</style>\n",
       "<table border=\"1\" class=\"dataframe\">\n",
       "  <thead>\n",
       "    <tr style=\"text-align: right;\">\n",
       "      <th></th>\n",
       "      <th>Actual</th>\n",
       "      <th>Predicted</th>\n",
       "    </tr>\n",
       "  </thead>\n",
       "  <tbody>\n",
       "    <tr>\n",
       "      <th>0</th>\n",
       "      <td>68.488207</td>\n",
       "      <td>67.434805</td>\n",
       "    </tr>\n",
       "    <tr>\n",
       "      <th>1</th>\n",
       "      <td>30.494129</td>\n",
       "      <td>26.856818</td>\n",
       "    </tr>\n",
       "    <tr>\n",
       "      <th>2</th>\n",
       "      <td>95.149072</td>\n",
       "      <td>96.853847</td>\n",
       "    </tr>\n",
       "    <tr>\n",
       "      <th>3</th>\n",
       "      <td>103.526616</td>\n",
       "      <td>100.911645</td>\n",
       "    </tr>\n",
       "    <tr>\n",
       "      <th>4</th>\n",
       "      <td>28.156685</td>\n",
       "      <td>27.871267</td>\n",
       "    </tr>\n",
       "    <tr>\n",
       "      <th>5</th>\n",
       "      <td>68.946998</td>\n",
       "      <td>65.405906</td>\n",
       "    </tr>\n",
       "    <tr>\n",
       "      <th>6</th>\n",
       "      <td>40.007096</td>\n",
       "      <td>37.001315</td>\n",
       "    </tr>\n",
       "    <tr>\n",
       "      <th>7</th>\n",
       "      <td>48.098431</td>\n",
       "      <td>40.044664</td>\n",
       "    </tr>\n",
       "    <tr>\n",
       "      <th>8</th>\n",
       "      <td>54.081706</td>\n",
       "      <td>52.218060</td>\n",
       "    </tr>\n",
       "    <tr>\n",
       "      <th>9</th>\n",
       "      <td>87.457216</td>\n",
       "      <td>89.752699</td>\n",
       "    </tr>\n",
       "    <tr>\n",
       "      <th>10</th>\n",
       "      <td>91.308637</td>\n",
       "      <td>92.796048</td>\n",
       "    </tr>\n",
       "    <tr>\n",
       "      <th>11</th>\n",
       "      <td>14.822486</td>\n",
       "      <td>14.683421</td>\n",
       "    </tr>\n",
       "    <tr>\n",
       "      <th>12</th>\n",
       "      <td>34.124732</td>\n",
       "      <td>37.001315</td>\n",
       "    </tr>\n",
       "    <tr>\n",
       "      <th>13</th>\n",
       "      <td>89.899991</td>\n",
       "      <td>90.767148</td>\n",
       "    </tr>\n",
       "    <tr>\n",
       "      <th>14</th>\n",
       "      <td>89.826344</td>\n",
       "      <td>89.752699</td>\n",
       "    </tr>\n",
       "    <tr>\n",
       "      <th>15</th>\n",
       "      <td>13.256906</td>\n",
       "      <td>14.683421</td>\n",
       "    </tr>\n",
       "    <tr>\n",
       "      <th>16</th>\n",
       "      <td>55.816285</td>\n",
       "      <td>55.261409</td>\n",
       "    </tr>\n",
       "    <tr>\n",
       "      <th>17</th>\n",
       "      <td>67.021506</td>\n",
       "      <td>67.434805</td>\n",
       "    </tr>\n",
       "    <tr>\n",
       "      <th>18</th>\n",
       "      <td>12.426246</td>\n",
       "      <td>13.668972</td>\n",
       "    </tr>\n",
       "    <tr>\n",
       "      <th>19</th>\n",
       "      <td>52.286206</td>\n",
       "      <td>49.174711</td>\n",
       "    </tr>\n",
       "    <tr>\n",
       "      <th>20</th>\n",
       "      <td>89.731536</td>\n",
       "      <td>92.796048</td>\n",
       "    </tr>\n",
       "    <tr>\n",
       "      <th>21</th>\n",
       "      <td>75.692986</td>\n",
       "      <td>74.535953</td>\n",
       "    </tr>\n",
       "    <tr>\n",
       "      <th>22</th>\n",
       "      <td>45.445996</td>\n",
       "      <td>41.059113</td>\n",
       "    </tr>\n",
       "    <tr>\n",
       "      <th>23</th>\n",
       "      <td>26.494880</td>\n",
       "      <td>28.885717</td>\n",
       "    </tr>\n",
       "    <tr>\n",
       "      <th>24</th>\n",
       "      <td>47.410067</td>\n",
       "      <td>48.160261</td>\n",
       "    </tr>\n",
       "    <tr>\n",
       "      <th>25</th>\n",
       "      <td>13.413108</td>\n",
       "      <td>16.712321</td>\n",
       "    </tr>\n",
       "    <tr>\n",
       "      <th>26</th>\n",
       "      <td>60.071375</td>\n",
       "      <td>61.348107</td>\n",
       "    </tr>\n",
       "    <tr>\n",
       "      <th>27</th>\n",
       "      <td>16.749239</td>\n",
       "      <td>15.697871</td>\n",
       "    </tr>\n",
       "    <tr>\n",
       "      <th>28</th>\n",
       "      <td>66.614996</td>\n",
       "      <td>65.405906</td>\n",
       "    </tr>\n",
       "    <tr>\n",
       "      <th>29</th>\n",
       "      <td>68.545888</td>\n",
       "      <td>71.492604</td>\n",
       "    </tr>\n",
       "    <tr>\n",
       "      <th>30</th>\n",
       "      <td>58.614669</td>\n",
       "      <td>63.377007</td>\n",
       "    </tr>\n",
       "    <tr>\n",
       "      <th>31</th>\n",
       "      <td>38.688887</td>\n",
       "      <td>41.059113</td>\n",
       "    </tr>\n",
       "    <tr>\n",
       "      <th>32</th>\n",
       "      <td>18.395127</td>\n",
       "      <td>19.755670</td>\n",
       "    </tr>\n",
       "    <tr>\n",
       "      <th>33</th>\n",
       "      <td>95.580172</td>\n",
       "      <td>98.882746</td>\n",
       "    </tr>\n",
       "    <tr>\n",
       "      <th>34</th>\n",
       "      <td>7.646530</td>\n",
       "      <td>3.524475</td>\n",
       "    </tr>\n",
       "    <tr>\n",
       "      <th>35</th>\n",
       "      <td>59.831397</td>\n",
       "      <td>60.333658</td>\n",
       "    </tr>\n",
       "    <tr>\n",
       "      <th>36</th>\n",
       "      <td>57.487414</td>\n",
       "      <td>58.304758</td>\n",
       "    </tr>\n",
       "    <tr>\n",
       "      <th>37</th>\n",
       "      <td>99.435779</td>\n",
       "      <td>93.810498</td>\n",
       "    </tr>\n",
       "    <tr>\n",
       "      <th>38</th>\n",
       "      <td>52.459467</td>\n",
       "      <td>47.145811</td>\n",
       "    </tr>\n",
       "    <tr>\n",
       "      <th>39</th>\n",
       "      <td>9.805235</td>\n",
       "      <td>14.683421</td>\n",
       "    </tr>\n",
       "    <tr>\n",
       "      <th>40</th>\n",
       "      <td>42.038358</td>\n",
       "      <td>42.073563</td>\n",
       "    </tr>\n",
       "    <tr>\n",
       "      <th>41</th>\n",
       "      <td>48.672526</td>\n",
       "      <td>43.088013</td>\n",
       "    </tr>\n",
       "    <tr>\n",
       "      <th>42</th>\n",
       "      <td>23.444792</td>\n",
       "      <td>26.856818</td>\n",
       "    </tr>\n",
       "    <tr>\n",
       "      <th>43</th>\n",
       "      <td>33.071128</td>\n",
       "      <td>27.871267</td>\n",
       "    </tr>\n",
       "    <tr>\n",
       "      <th>44</th>\n",
       "      <td>-1.040114</td>\n",
       "      <td>-0.533324</td>\n",
       "    </tr>\n",
       "    <tr>\n",
       "      <th>45</th>\n",
       "      <td>60.207583</td>\n",
       "      <td>53.232510</td>\n",
       "    </tr>\n",
       "    <tr>\n",
       "      <th>46</th>\n",
       "      <td>57.191035</td>\n",
       "      <td>56.275859</td>\n",
       "    </tr>\n",
       "    <tr>\n",
       "      <th>47</th>\n",
       "      <td>85.455042</td>\n",
       "      <td>82.651551</td>\n",
       "    </tr>\n",
       "    <tr>\n",
       "      <th>48</th>\n",
       "      <td>97.617937</td>\n",
       "      <td>95.839397</td>\n",
       "    </tr>\n",
       "    <tr>\n",
       "      <th>49</th>\n",
       "      <td>36.113348</td>\n",
       "      <td>37.001315</td>\n",
       "    </tr>\n",
       "    <tr>\n",
       "      <th>50</th>\n",
       "      <td>50.170086</td>\n",
       "      <td>53.232510</td>\n",
       "    </tr>\n",
       "    <tr>\n",
       "      <th>51</th>\n",
       "      <td>45.963969</td>\n",
       "      <td>44.102462</td>\n",
       "    </tr>\n",
       "    <tr>\n",
       "      <th>52</th>\n",
       "      <td>54.554470</td>\n",
       "      <td>56.275859</td>\n",
       "    </tr>\n",
       "    <tr>\n",
       "      <th>53</th>\n",
       "      <td>0.275307</td>\n",
       "      <td>0.481125</td>\n",
       "    </tr>\n",
       "    <tr>\n",
       "      <th>54</th>\n",
       "      <td>56.148341</td>\n",
       "      <td>57.290308</td>\n",
       "    </tr>\n",
       "    <tr>\n",
       "      <th>55</th>\n",
       "      <td>60.111350</td>\n",
       "      <td>60.333658</td>\n",
       "    </tr>\n",
       "    <tr>\n",
       "      <th>56</th>\n",
       "      <td>18.983223</td>\n",
       "      <td>20.770119</td>\n",
       "    </tr>\n",
       "    <tr>\n",
       "      <th>57</th>\n",
       "      <td>78.310565</td>\n",
       "      <td>79.608202</td>\n",
       "    </tr>\n",
       "    <tr>\n",
       "      <th>58</th>\n",
       "      <td>60.917927</td>\n",
       "      <td>59.319208</td>\n",
       "    </tr>\n",
       "    <tr>\n",
       "      <th>59</th>\n",
       "      <td>85.186573</td>\n",
       "      <td>84.680450</td>\n",
       "    </tr>\n",
       "  </tbody>\n",
       "</table>\n",
       "</div>"
      ],
      "text/plain": [
       "        Actual   Predicted\n",
       "0    68.488207   67.434805\n",
       "1    30.494129   26.856818\n",
       "2    95.149072   96.853847\n",
       "3   103.526616  100.911645\n",
       "4    28.156685   27.871267\n",
       "5    68.946998   65.405906\n",
       "6    40.007096   37.001315\n",
       "7    48.098431   40.044664\n",
       "8    54.081706   52.218060\n",
       "9    87.457216   89.752699\n",
       "10   91.308637   92.796048\n",
       "11   14.822486   14.683421\n",
       "12   34.124732   37.001315\n",
       "13   89.899991   90.767148\n",
       "14   89.826344   89.752699\n",
       "15   13.256906   14.683421\n",
       "16   55.816285   55.261409\n",
       "17   67.021506   67.434805\n",
       "18   12.426246   13.668972\n",
       "19   52.286206   49.174711\n",
       "20   89.731536   92.796048\n",
       "21   75.692986   74.535953\n",
       "22   45.445996   41.059113\n",
       "23   26.494880   28.885717\n",
       "24   47.410067   48.160261\n",
       "25   13.413108   16.712321\n",
       "26   60.071375   61.348107\n",
       "27   16.749239   15.697871\n",
       "28   66.614996   65.405906\n",
       "29   68.545888   71.492604\n",
       "30   58.614669   63.377007\n",
       "31   38.688887   41.059113\n",
       "32   18.395127   19.755670\n",
       "33   95.580172   98.882746\n",
       "34    7.646530    3.524475\n",
       "35   59.831397   60.333658\n",
       "36   57.487414   58.304758\n",
       "37   99.435779   93.810498\n",
       "38   52.459467   47.145811\n",
       "39    9.805235   14.683421\n",
       "40   42.038358   42.073563\n",
       "41   48.672526   43.088013\n",
       "42   23.444792   26.856818\n",
       "43   33.071128   27.871267\n",
       "44   -1.040114   -0.533324\n",
       "45   60.207583   53.232510\n",
       "46   57.191035   56.275859\n",
       "47   85.455042   82.651551\n",
       "48   97.617937   95.839397\n",
       "49   36.113348   37.001315\n",
       "50   50.170086   53.232510\n",
       "51   45.963969   44.102462\n",
       "52   54.554470   56.275859\n",
       "53    0.275307    0.481125\n",
       "54   56.148341   57.290308\n",
       "55   60.111350   60.333658\n",
       "56   18.983223   20.770119\n",
       "57   78.310565   79.608202\n",
       "58   60.917927   59.319208\n",
       "59   85.186573   84.680450"
      ]
     },
     "execution_count": 6,
     "metadata": {},
     "output_type": "execute_result"
    }
   ],
   "source": [
    "#Predictions\n",
    "Y_pred = reg.predict(X_test)\n",
    "df = pd.DataFrame({'Actual': Y_test, 'Predicted': Y_pred})\n",
    "df"
   ]
  },
  {
   "cell_type": "code",
   "execution_count": 7,
   "id": "e476ac97",
   "metadata": {},
   "outputs": [
    {
     "name": "stdout",
     "output_type": "stream",
     "text": [
      "Mean Absolute Error:  2.2723148666042317\n",
      "Mean Square Error:  8.388794074847828\n",
      "Root Mean Squared Error:  2.8963414983126263\n"
     ]
    }
   ],
   "source": [
    "#Evalutation of the Algorithm \n",
    "from sklearn import metrics\n",
    "print('Mean Absolute Error: ', metrics.mean_absolute_error(Y_test, Y_pred))\n",
    "print('Mean Square Error: ', metrics.mean_squared_error(Y_test, Y_pred))\n",
    "print('Root Mean Squared Error: ', np.sqrt(metrics.mean_squared_error(Y_test, Y_pred)))"
   ]
  },
  {
   "cell_type": "markdown",
   "id": "a948c487",
   "metadata": {},
   "source": [
    "Looking at the root mean squared error and mean value of percentages of all students, our algorithm did a decent job.\n",
    "Kaggle Link : https://www.kaggle.com/code/janhavighogare/linear-regression-j"
   ]
  },
  {
   "cell_type": "markdown",
   "id": "f8f16bb3",
   "metadata": {},
   "source": [
    "# TASK 2"
   ]
  },
  {
   "cell_type": "code",
   "execution_count": 8,
   "id": "ea1e3590",
   "metadata": {},
   "outputs": [],
   "source": [
    "# Polynomial Regression\n",
    "import numpy as np\n",
    "import pandas as pd\n",
    "import matplotlib.pyplot as plt\n",
    "import seaborn as sb"
   ]
  },
  {
   "cell_type": "code",
   "execution_count": 9,
   "id": "28f15154",
   "metadata": {
    "scrolled": true
   },
   "outputs": [
    {
     "data": {
      "text/html": [
       "<div>\n",
       "<style scoped>\n",
       "    .dataframe tbody tr th:only-of-type {\n",
       "        vertical-align: middle;\n",
       "    }\n",
       "\n",
       "    .dataframe tbody tr th {\n",
       "        vertical-align: top;\n",
       "    }\n",
       "\n",
       "    .dataframe thead th {\n",
       "        text-align: right;\n",
       "    }\n",
       "</style>\n",
       "<table border=\"1\" class=\"dataframe\">\n",
       "  <thead>\n",
       "    <tr style=\"text-align: right;\">\n",
       "      <th></th>\n",
       "      <th>carat</th>\n",
       "      <th>cut</th>\n",
       "      <th>color</th>\n",
       "      <th>clarity</th>\n",
       "      <th>depth</th>\n",
       "      <th>table</th>\n",
       "      <th>price</th>\n",
       "      <th>x</th>\n",
       "      <th>y</th>\n",
       "      <th>z</th>\n",
       "    </tr>\n",
       "  </thead>\n",
       "  <tbody>\n",
       "    <tr>\n",
       "      <th>0</th>\n",
       "      <td>0.23</td>\n",
       "      <td>Ideal</td>\n",
       "      <td>E</td>\n",
       "      <td>SI2</td>\n",
       "      <td>61.5</td>\n",
       "      <td>55.0</td>\n",
       "      <td>326</td>\n",
       "      <td>3.95</td>\n",
       "      <td>3.98</td>\n",
       "      <td>2.43</td>\n",
       "    </tr>\n",
       "    <tr>\n",
       "      <th>1</th>\n",
       "      <td>0.21</td>\n",
       "      <td>Premium</td>\n",
       "      <td>E</td>\n",
       "      <td>SI1</td>\n",
       "      <td>59.8</td>\n",
       "      <td>61.0</td>\n",
       "      <td>326</td>\n",
       "      <td>3.89</td>\n",
       "      <td>3.84</td>\n",
       "      <td>2.31</td>\n",
       "    </tr>\n",
       "    <tr>\n",
       "      <th>2</th>\n",
       "      <td>0.23</td>\n",
       "      <td>Good</td>\n",
       "      <td>E</td>\n",
       "      <td>VS1</td>\n",
       "      <td>56.9</td>\n",
       "      <td>65.0</td>\n",
       "      <td>327</td>\n",
       "      <td>4.05</td>\n",
       "      <td>4.07</td>\n",
       "      <td>2.31</td>\n",
       "    </tr>\n",
       "    <tr>\n",
       "      <th>3</th>\n",
       "      <td>0.29</td>\n",
       "      <td>Premium</td>\n",
       "      <td>I</td>\n",
       "      <td>VS2</td>\n",
       "      <td>62.4</td>\n",
       "      <td>58.0</td>\n",
       "      <td>334</td>\n",
       "      <td>4.20</td>\n",
       "      <td>4.23</td>\n",
       "      <td>2.63</td>\n",
       "    </tr>\n",
       "    <tr>\n",
       "      <th>4</th>\n",
       "      <td>0.31</td>\n",
       "      <td>Good</td>\n",
       "      <td>J</td>\n",
       "      <td>SI2</td>\n",
       "      <td>63.3</td>\n",
       "      <td>58.0</td>\n",
       "      <td>335</td>\n",
       "      <td>4.34</td>\n",
       "      <td>4.35</td>\n",
       "      <td>2.75</td>\n",
       "    </tr>\n",
       "  </tbody>\n",
       "</table>\n",
       "</div>"
      ],
      "text/plain": [
       "   carat      cut color clarity  depth  table  price     x     y     z\n",
       "0   0.23    Ideal     E     SI2   61.5   55.0    326  3.95  3.98  2.43\n",
       "1   0.21  Premium     E     SI1   59.8   61.0    326  3.89  3.84  2.31\n",
       "2   0.23     Good     E     VS1   56.9   65.0    327  4.05  4.07  2.31\n",
       "3   0.29  Premium     I     VS2   62.4   58.0    334  4.20  4.23  2.63\n",
       "4   0.31     Good     J     SI2   63.3   58.0    335  4.34  4.35  2.75"
      ]
     },
     "execution_count": 9,
     "metadata": {},
     "output_type": "execute_result"
    }
   ],
   "source": [
    "d = pd.read_csv('diamonds.csv')\n",
    "d.head()"
   ]
  },
  {
   "cell_type": "code",
   "execution_count": 10,
   "id": "0281e5aa",
   "metadata": {},
   "outputs": [
    {
     "name": "stdout",
     "output_type": "stream",
     "text": [
      "<class 'pandas.core.frame.DataFrame'>\n",
      "RangeIndex: 53940 entries, 0 to 53939\n",
      "Data columns (total 10 columns):\n",
      " #   Column   Non-Null Count  Dtype  \n",
      "---  ------   --------------  -----  \n",
      " 0   carat    53940 non-null  float64\n",
      " 1   cut      53940 non-null  object \n",
      " 2   color    53940 non-null  object \n",
      " 3   clarity  53940 non-null  object \n",
      " 4   depth    53940 non-null  float64\n",
      " 5   table    53940 non-null  float64\n",
      " 6   price    53940 non-null  int64  \n",
      " 7   x        53940 non-null  float64\n",
      " 8   y        53940 non-null  float64\n",
      " 9   z        53940 non-null  float64\n",
      "dtypes: float64(6), int64(1), object(3)\n",
      "memory usage: 4.1+ MB\n"
     ]
    },
    {
     "data": {
      "text/html": [
       "<div>\n",
       "<style scoped>\n",
       "    .dataframe tbody tr th:only-of-type {\n",
       "        vertical-align: middle;\n",
       "    }\n",
       "\n",
       "    .dataframe tbody tr th {\n",
       "        vertical-align: top;\n",
       "    }\n",
       "\n",
       "    .dataframe thead th {\n",
       "        text-align: right;\n",
       "    }\n",
       "</style>\n",
       "<table border=\"1\" class=\"dataframe\">\n",
       "  <thead>\n",
       "    <tr style=\"text-align: right;\">\n",
       "      <th></th>\n",
       "      <th>carat</th>\n",
       "      <th>depth</th>\n",
       "      <th>table</th>\n",
       "      <th>price</th>\n",
       "      <th>x</th>\n",
       "      <th>y</th>\n",
       "      <th>z</th>\n",
       "    </tr>\n",
       "  </thead>\n",
       "  <tbody>\n",
       "    <tr>\n",
       "      <th>count</th>\n",
       "      <td>53940.000000</td>\n",
       "      <td>53940.000000</td>\n",
       "      <td>53940.000000</td>\n",
       "      <td>53940.000000</td>\n",
       "      <td>53940.000000</td>\n",
       "      <td>53940.000000</td>\n",
       "      <td>53940.000000</td>\n",
       "    </tr>\n",
       "    <tr>\n",
       "      <th>mean</th>\n",
       "      <td>0.797940</td>\n",
       "      <td>61.749405</td>\n",
       "      <td>57.457184</td>\n",
       "      <td>3932.799722</td>\n",
       "      <td>5.731157</td>\n",
       "      <td>5.734526</td>\n",
       "      <td>3.538734</td>\n",
       "    </tr>\n",
       "    <tr>\n",
       "      <th>std</th>\n",
       "      <td>0.474011</td>\n",
       "      <td>1.432621</td>\n",
       "      <td>2.234491</td>\n",
       "      <td>3989.439738</td>\n",
       "      <td>1.121761</td>\n",
       "      <td>1.142135</td>\n",
       "      <td>0.705699</td>\n",
       "    </tr>\n",
       "    <tr>\n",
       "      <th>min</th>\n",
       "      <td>0.200000</td>\n",
       "      <td>43.000000</td>\n",
       "      <td>43.000000</td>\n",
       "      <td>326.000000</td>\n",
       "      <td>0.000000</td>\n",
       "      <td>0.000000</td>\n",
       "      <td>0.000000</td>\n",
       "    </tr>\n",
       "    <tr>\n",
       "      <th>25%</th>\n",
       "      <td>0.400000</td>\n",
       "      <td>61.000000</td>\n",
       "      <td>56.000000</td>\n",
       "      <td>950.000000</td>\n",
       "      <td>4.710000</td>\n",
       "      <td>4.720000</td>\n",
       "      <td>2.910000</td>\n",
       "    </tr>\n",
       "    <tr>\n",
       "      <th>50%</th>\n",
       "      <td>0.700000</td>\n",
       "      <td>61.800000</td>\n",
       "      <td>57.000000</td>\n",
       "      <td>2401.000000</td>\n",
       "      <td>5.700000</td>\n",
       "      <td>5.710000</td>\n",
       "      <td>3.530000</td>\n",
       "    </tr>\n",
       "    <tr>\n",
       "      <th>75%</th>\n",
       "      <td>1.040000</td>\n",
       "      <td>62.500000</td>\n",
       "      <td>59.000000</td>\n",
       "      <td>5324.250000</td>\n",
       "      <td>6.540000</td>\n",
       "      <td>6.540000</td>\n",
       "      <td>4.040000</td>\n",
       "    </tr>\n",
       "    <tr>\n",
       "      <th>max</th>\n",
       "      <td>5.010000</td>\n",
       "      <td>79.000000</td>\n",
       "      <td>95.000000</td>\n",
       "      <td>18823.000000</td>\n",
       "      <td>10.740000</td>\n",
       "      <td>58.900000</td>\n",
       "      <td>31.800000</td>\n",
       "    </tr>\n",
       "  </tbody>\n",
       "</table>\n",
       "</div>"
      ],
      "text/plain": [
       "              carat         depth         table         price             x  \\\n",
       "count  53940.000000  53940.000000  53940.000000  53940.000000  53940.000000   \n",
       "mean       0.797940     61.749405     57.457184   3932.799722      5.731157   \n",
       "std        0.474011      1.432621      2.234491   3989.439738      1.121761   \n",
       "min        0.200000     43.000000     43.000000    326.000000      0.000000   \n",
       "25%        0.400000     61.000000     56.000000    950.000000      4.710000   \n",
       "50%        0.700000     61.800000     57.000000   2401.000000      5.700000   \n",
       "75%        1.040000     62.500000     59.000000   5324.250000      6.540000   \n",
       "max        5.010000     79.000000     95.000000  18823.000000     10.740000   \n",
       "\n",
       "                  y             z  \n",
       "count  53940.000000  53940.000000  \n",
       "mean       5.734526      3.538734  \n",
       "std        1.142135      0.705699  \n",
       "min        0.000000      0.000000  \n",
       "25%        4.720000      2.910000  \n",
       "50%        5.710000      3.530000  \n",
       "75%        6.540000      4.040000  \n",
       "max       58.900000     31.800000  "
      ]
     },
     "execution_count": 10,
     "metadata": {},
     "output_type": "execute_result"
    }
   ],
   "source": [
    "# DATA ANALYSIS\n",
    "d.info()\n",
    "d.describe()"
   ]
  },
  {
   "cell_type": "code",
   "execution_count": 11,
   "id": "95359887",
   "metadata": {
    "scrolled": true
   },
   "outputs": [
    {
     "data": {
      "text/html": [
       "<div>\n",
       "<style scoped>\n",
       "    .dataframe tbody tr th:only-of-type {\n",
       "        vertical-align: middle;\n",
       "    }\n",
       "\n",
       "    .dataframe tbody tr th {\n",
       "        vertical-align: top;\n",
       "    }\n",
       "\n",
       "    .dataframe thead th {\n",
       "        text-align: right;\n",
       "    }\n",
       "</style>\n",
       "<table border=\"1\" class=\"dataframe\">\n",
       "  <thead>\n",
       "    <tr style=\"text-align: right;\">\n",
       "      <th></th>\n",
       "      <th>carat</th>\n",
       "      <th>depth</th>\n",
       "      <th>table</th>\n",
       "      <th>price</th>\n",
       "      <th>x</th>\n",
       "      <th>y</th>\n",
       "      <th>z</th>\n",
       "    </tr>\n",
       "  </thead>\n",
       "  <tbody>\n",
       "    <tr>\n",
       "      <th>count</th>\n",
       "      <td>53920.000000</td>\n",
       "      <td>53920.000000</td>\n",
       "      <td>53920.000000</td>\n",
       "      <td>53920.000000</td>\n",
       "      <td>53920.000000</td>\n",
       "      <td>53920.000000</td>\n",
       "      <td>53920.000000</td>\n",
       "    </tr>\n",
       "    <tr>\n",
       "      <th>mean</th>\n",
       "      <td>0.797698</td>\n",
       "      <td>61.749514</td>\n",
       "      <td>57.456834</td>\n",
       "      <td>3930.993231</td>\n",
       "      <td>5.731627</td>\n",
       "      <td>5.734887</td>\n",
       "      <td>3.540046</td>\n",
       "    </tr>\n",
       "    <tr>\n",
       "      <th>std</th>\n",
       "      <td>0.473795</td>\n",
       "      <td>1.432331</td>\n",
       "      <td>2.234064</td>\n",
       "      <td>3987.280446</td>\n",
       "      <td>1.119423</td>\n",
       "      <td>1.140126</td>\n",
       "      <td>0.702530</td>\n",
       "    </tr>\n",
       "    <tr>\n",
       "      <th>min</th>\n",
       "      <td>0.200000</td>\n",
       "      <td>43.000000</td>\n",
       "      <td>43.000000</td>\n",
       "      <td>326.000000</td>\n",
       "      <td>3.730000</td>\n",
       "      <td>3.680000</td>\n",
       "      <td>1.070000</td>\n",
       "    </tr>\n",
       "    <tr>\n",
       "      <th>25%</th>\n",
       "      <td>0.400000</td>\n",
       "      <td>61.000000</td>\n",
       "      <td>56.000000</td>\n",
       "      <td>949.000000</td>\n",
       "      <td>4.710000</td>\n",
       "      <td>4.720000</td>\n",
       "      <td>2.910000</td>\n",
       "    </tr>\n",
       "    <tr>\n",
       "      <th>50%</th>\n",
       "      <td>0.700000</td>\n",
       "      <td>61.800000</td>\n",
       "      <td>57.000000</td>\n",
       "      <td>2401.000000</td>\n",
       "      <td>5.700000</td>\n",
       "      <td>5.710000</td>\n",
       "      <td>3.530000</td>\n",
       "    </tr>\n",
       "    <tr>\n",
       "      <th>75%</th>\n",
       "      <td>1.040000</td>\n",
       "      <td>62.500000</td>\n",
       "      <td>59.000000</td>\n",
       "      <td>5323.250000</td>\n",
       "      <td>6.540000</td>\n",
       "      <td>6.540000</td>\n",
       "      <td>4.040000</td>\n",
       "    </tr>\n",
       "    <tr>\n",
       "      <th>max</th>\n",
       "      <td>5.010000</td>\n",
       "      <td>79.000000</td>\n",
       "      <td>95.000000</td>\n",
       "      <td>18823.000000</td>\n",
       "      <td>10.740000</td>\n",
       "      <td>58.900000</td>\n",
       "      <td>31.800000</td>\n",
       "    </tr>\n",
       "  </tbody>\n",
       "</table>\n",
       "</div>"
      ],
      "text/plain": [
       "              carat         depth         table         price             x  \\\n",
       "count  53920.000000  53920.000000  53920.000000  53920.000000  53920.000000   \n",
       "mean       0.797698     61.749514     57.456834   3930.993231      5.731627   \n",
       "std        0.473795      1.432331      2.234064   3987.280446      1.119423   \n",
       "min        0.200000     43.000000     43.000000    326.000000      3.730000   \n",
       "25%        0.400000     61.000000     56.000000    949.000000      4.710000   \n",
       "50%        0.700000     61.800000     57.000000   2401.000000      5.700000   \n",
       "75%        1.040000     62.500000     59.000000   5323.250000      6.540000   \n",
       "max        5.010000     79.000000     95.000000  18823.000000     10.740000   \n",
       "\n",
       "                  y             z  \n",
       "count  53920.000000  53920.000000  \n",
       "mean       5.734887      3.540046  \n",
       "std        1.140126      0.702530  \n",
       "min        3.680000      1.070000  \n",
       "25%        4.720000      2.910000  \n",
       "50%        5.710000      3.530000  \n",
       "75%        6.540000      4.040000  \n",
       "max       58.900000     31.800000  "
      ]
     },
     "execution_count": 11,
     "metadata": {},
     "output_type": "execute_result"
    }
   ],
   "source": [
    "# Min values of x,y,and z = 0 don't make sense. Hence, we drop them\n",
    "d = d.loc[(d[['x','y','z']]!=0).all(axis=1)]\n",
    "d.describe()"
   ]
  },
  {
   "cell_type": "code",
   "execution_count": 12,
   "id": "5fb8f0a3",
   "metadata": {
    "scrolled": false
   },
   "outputs": [
    {
     "data": {
      "image/png": "[encoded data removed]",
      "text/plain": [
       "<Figure size 1440x1080 with 9 Axes>"
      ]
     },
     "metadata": {
      "needs_background": "light"
     },
     "output_type": "display_data"
    },
    {
     "data": {
      "text/plain": [
       "<AxesSubplot:>"
      ]
     },
     "execution_count": 12,
     "metadata": {},
     "output_type": "execute_result"
    },
    {
     "data": {
      "image/png": "[encoded data removed]",
      "text/plain": [
       "<Figure size 720x360 with 2 Axes>"
      ]
     },
     "metadata": {
      "needs_background": "light"
     },
     "output_type": "display_data"
    }
   ],
   "source": [
    "#Preliminary data exploration\n",
    "\n",
    "# Plotting Graphs\n",
    "d.hist(bins=50, figsize=(20,15))\n",
    "plt.show()\n",
    "\n",
    "# Identifying the correlation\n",
    "plt.figure(figsize = (10,5))\n",
    "sb.heatmap(d.corr(), annot = True)"
   ]
  },
  {
   "cell_type": "code",
   "execution_count": 13,
   "id": "e3fdc078",
   "metadata": {},
   "outputs": [
    {
     "name": "stdout",
     "output_type": "stream",
     "text": [
      "cut ['Ideal' 'Premium' 'Good' 'Very Good' 'Fair']\n",
      "color ['E' 'I' 'J' 'H' 'F' 'G' 'D']\n",
      "clarity ['SI2' 'SI1' 'VS1' 'VS2' 'VVS2' 'VVS1' 'I1' 'IF']\n"
     ]
    }
   ],
   "source": [
    "print('cut', d['cut'].unique())\n",
    "print('color', d['color'].unique())\n",
    "print('clarity', d['clarity'].unique())"
   ]
  },
  {
   "cell_type": "markdown",
   "id": "21893268",
   "metadata": {},
   "source": [
    "We can conclude that x,y,z have quite a strong correlation with carat and price variable but not so much with depth and table as indicated by the color scheme."
   ]
  },
  {
   "cell_type": "code",
   "execution_count": 36,
   "id": "ed9be888",
   "metadata": {},
   "outputs": [],
   "source": [
    "val_percent = 0.20\n",
    "batch_size = 16\n"
   ]
  },
  {
   "cell_type": "code",
   "execution_count": 38,
   "id": "d95352dd",
   "metadata": {},
   "outputs": [
    {
     "data": {
      "text/html": [
       "<div>\n",
       "<style scoped>\n",
       "    .dataframe tbody tr th:only-of-type {\n",
       "        vertical-align: middle;\n",
       "    }\n",
       "\n",
       "    .dataframe tbody tr th {\n",
       "        vertical-align: top;\n",
       "    }\n",
       "\n",
       "    .dataframe thead th {\n",
       "        text-align: right;\n",
       "    }\n",
       "</style>\n",
       "<table border=\"1\" class=\"dataframe\">\n",
       "  <thead>\n",
       "    <tr style=\"text-align: right;\">\n",
       "      <th></th>\n",
       "      <th>carat</th>\n",
       "      <th>depth</th>\n",
       "      <th>table</th>\n",
       "      <th>price</th>\n",
       "      <th>x</th>\n",
       "      <th>y</th>\n",
       "      <th>z</th>\n",
       "      <th>cut_Fair</th>\n",
       "      <th>cut_Good</th>\n",
       "      <th>cut_Ideal</th>\n",
       "      <th>...</th>\n",
       "      <th>color_I</th>\n",
       "      <th>color_J</th>\n",
       "      <th>clarity_I1</th>\n",
       "      <th>clarity_IF</th>\n",
       "      <th>clarity_SI1</th>\n",
       "      <th>clarity_SI2</th>\n",
       "      <th>clarity_VS1</th>\n",
       "      <th>clarity_VS2</th>\n",
       "      <th>clarity_VVS1</th>\n",
       "      <th>clarity_VVS2</th>\n",
       "    </tr>\n",
       "  </thead>\n",
       "  <tbody>\n",
       "    <tr>\n",
       "      <th>0</th>\n",
       "      <td>0.23</td>\n",
       "      <td>61.5</td>\n",
       "      <td>55.0</td>\n",
       "      <td>326</td>\n",
       "      <td>3.95</td>\n",
       "      <td>3.98</td>\n",
       "      <td>2.43</td>\n",
       "      <td>0</td>\n",
       "      <td>0</td>\n",
       "      <td>1</td>\n",
       "      <td>...</td>\n",
       "      <td>0</td>\n",
       "      <td>0</td>\n",
       "      <td>0</td>\n",
       "      <td>0</td>\n",
       "      <td>0</td>\n",
       "      <td>1</td>\n",
       "      <td>0</td>\n",
       "      <td>0</td>\n",
       "      <td>0</td>\n",
       "      <td>0</td>\n",
       "    </tr>\n",
       "    <tr>\n",
       "      <th>1</th>\n",
       "      <td>0.21</td>\n",
       "      <td>59.8</td>\n",
       "      <td>61.0</td>\n",
       "      <td>326</td>\n",
       "      <td>3.89</td>\n",
       "      <td>3.84</td>\n",
       "      <td>2.31</td>\n",
       "      <td>0</td>\n",
       "      <td>0</td>\n",
       "      <td>0</td>\n",
       "      <td>...</td>\n",
       "      <td>0</td>\n",
       "      <td>0</td>\n",
       "      <td>0</td>\n",
       "      <td>0</td>\n",
       "      <td>1</td>\n",
       "      <td>0</td>\n",
       "      <td>0</td>\n",
       "      <td>0</td>\n",
       "      <td>0</td>\n",
       "      <td>0</td>\n",
       "    </tr>\n",
       "    <tr>\n",
       "      <th>2</th>\n",
       "      <td>0.23</td>\n",
       "      <td>56.9</td>\n",
       "      <td>65.0</td>\n",
       "      <td>327</td>\n",
       "      <td>4.05</td>\n",
       "      <td>4.07</td>\n",
       "      <td>2.31</td>\n",
       "      <td>0</td>\n",
       "      <td>1</td>\n",
       "      <td>0</td>\n",
       "      <td>...</td>\n",
       "      <td>0</td>\n",
       "      <td>0</td>\n",
       "      <td>0</td>\n",
       "      <td>0</td>\n",
       "      <td>0</td>\n",
       "      <td>0</td>\n",
       "      <td>1</td>\n",
       "      <td>0</td>\n",
       "      <td>0</td>\n",
       "      <td>0</td>\n",
       "    </tr>\n",
       "    <tr>\n",
       "      <th>3</th>\n",
       "      <td>0.29</td>\n",
       "      <td>62.4</td>\n",
       "      <td>58.0</td>\n",
       "      <td>334</td>\n",
       "      <td>4.20</td>\n",
       "      <td>4.23</td>\n",
       "      <td>2.63</td>\n",
       "      <td>0</td>\n",
       "      <td>0</td>\n",
       "      <td>0</td>\n",
       "      <td>...</td>\n",
       "      <td>1</td>\n",
       "      <td>0</td>\n",
       "      <td>0</td>\n",
       "      <td>0</td>\n",
       "      <td>0</td>\n",
       "      <td>0</td>\n",
       "      <td>0</td>\n",
       "      <td>1</td>\n",
       "      <td>0</td>\n",
       "      <td>0</td>\n",
       "    </tr>\n",
       "    <tr>\n",
       "      <th>4</th>\n",
       "      <td>0.31</td>\n",
       "      <td>63.3</td>\n",
       "      <td>58.0</td>\n",
       "      <td>335</td>\n",
       "      <td>4.34</td>\n",
       "      <td>4.35</td>\n",
       "      <td>2.75</td>\n",
       "      <td>0</td>\n",
       "      <td>1</td>\n",
       "      <td>0</td>\n",
       "      <td>...</td>\n",
       "      <td>0</td>\n",
       "      <td>1</td>\n",
       "      <td>0</td>\n",
       "      <td>0</td>\n",
       "      <td>0</td>\n",
       "      <td>1</td>\n",
       "      <td>0</td>\n",
       "      <td>0</td>\n",
       "      <td>0</td>\n",
       "      <td>0</td>\n",
       "    </tr>\n",
       "  </tbody>\n",
       "</table>\n",
       "<p>5 rows × 27 columns</p>\n",
       "</div>"
      ],
      "text/plain": [
       "   carat  depth  table  price     x     y     z  cut_Fair  cut_Good  \\\n",
       "0   0.23   61.5   55.0    326  3.95  3.98  2.43         0         0   \n",
       "1   0.21   59.8   61.0    326  3.89  3.84  2.31         0         0   \n",
       "2   0.23   56.9   65.0    327  4.05  4.07  2.31         0         1   \n",
       "3   0.29   62.4   58.0    334  4.20  4.23  2.63         0         0   \n",
       "4   0.31   63.3   58.0    335  4.34  4.35  2.75         0         1   \n",
       "\n",
       "   cut_Ideal  ...  color_I  color_J  clarity_I1  clarity_IF  clarity_SI1  \\\n",
       "0          1  ...        0        0           0           0            0   \n",
       "1          0  ...        0        0           0           0            1   \n",
       "2          0  ...        0        0           0           0            0   \n",
       "3          0  ...        1        0           0           0            0   \n",
       "4          0  ...        0        1           0           0            0   \n",
       "\n",
       "   clarity_SI2  clarity_VS1  clarity_VS2  clarity_VVS1  clarity_VVS2  \n",
       "0            1            0            0             0             0  \n",
       "1            0            0            0             0             0  \n",
       "2            0            1            0             0             0  \n",
       "3            0            0            1             0             0  \n",
       "4            1            0            0             0             0  \n",
       "\n",
       "[5 rows x 27 columns]"
      ]
     },
     "execution_count": 38,
     "metadata": {},
     "output_type": "execute_result"
    }
   ],
   "source": [
    "data_one_hot_encoding = pd.get_dummies(d)\n",
    "data_one_hot_encoding.head()\n"
   ]
  },
  {
   "cell_type": "code",
   "execution_count": 39,
   "id": "d0d9061b",
   "metadata": {},
   "outputs": [],
   "source": [
    "#selected input cols to predict the diamond price\n",
    "# Converting the dataframe columns to list\n",
    "input_cols = data_one_hot_encoding.columns.values.tolist() \n",
    "input_cols.remove('price')\n",
    "input_cols.remove('depth')\n",
    "\n",
    "#Price is the target variable\n",
    "output_col = ['price']"
   ]
  },
  {
   "cell_type": "code",
   "execution_count": 40,
   "id": "585af7b0",
   "metadata": {},
   "outputs": [
    {
     "data": {
      "text/plain": [
       "((53920, 25), (53920, 1))"
      ]
     },
     "execution_count": 40,
     "metadata": {},
     "output_type": "execute_result"
    }
   ],
   "source": [
    "def dataframe_to_arrays(d):\n",
    "    # Make a copy of the original dataframe\n",
    "    dataframe1 = d.copy(deep=True)\n",
    "    # Extract input & outupts as numpy arrays\n",
    "    inputs_array = d[input_cols].to_numpy() #converting dataframes to numpy arrays\n",
    "    targets_array = d[output_col].to_numpy()\n",
    "    return inputs_array, targets_array\n",
    "\n",
    "inputs_array, targets_array = dataframe_to_arrays(data_one_hot_encoding)\n",
    "\n",
    "inputs_array.shape , targets_array.shape"
   ]
  },
  {
   "cell_type": "code",
   "execution_count": 41,
   "id": "cecbe242",
   "metadata": {},
   "outputs": [],
   "source": [
    "from sklearn.model_selection import train_test_split\n",
    "X_train, X_test, y_train, y_test = train_test_split(inputs_array, targets_array, test_size=0.33, random_state=42)\n"
   ]
  },
  {
   "cell_type": "code",
   "execution_count": 42,
   "id": "7cc097d9",
   "metadata": {},
   "outputs": [],
   "source": [
    "from sklearn.linear_model import LinearRegression \n",
    "model = LinearRegression().fit(X_train, y_train)"
   ]
  },
  {
   "cell_type": "code",
   "execution_count": 43,
   "id": "8bba92ff",
   "metadata": {},
   "outputs": [
    {
     "data": {
      "text/plain": [
       "0.9187861605360313"
      ]
     },
     "execution_count": 43,
     "metadata": {},
     "output_type": "execute_result"
    }
   ],
   "source": [
    "#Training score\n",
    "model.score(X_train, y_train)"
   ]
  },
  {
   "cell_type": "code",
   "execution_count": 44,
   "id": "00299607",
   "metadata": {},
   "outputs": [
    {
     "data": {
      "text/plain": [
       "0.9187543064435191"
      ]
     },
     "execution_count": 44,
     "metadata": {},
     "output_type": "execute_result"
    }
   ],
   "source": [
    "#Test score\n",
    "model.score(X_test, y_test)"
   ]
  },
  {
   "cell_type": "markdown",
   "id": "a7d0a56c",
   "metadata": {},
   "source": [
    "Kaggle link: https://www.kaggle.com/code/janhavighogare/polynomialreg"
   ]
  },
  {
   "cell_type": "markdown",
   "id": "ec9be32a",
   "metadata": {},
   "source": [
    "# Problem 2:"
   ]
  },
  {
   "cell_type": "markdown",
   "id": "f1e85b68",
   "metadata": {},
   "source": [
    "# Task 1"
   ]
  },
  {
   "cell_type": "code",
   "execution_count": 14,
   "id": "d65fbbd5",
   "metadata": {},
   "outputs": [
    {
     "name": "stdout",
     "output_type": "stream",
     "text": [
      "Training Dataset :\n",
      "    x1   y1  x2   y2   x3   y3   x4   y4  x5  y5   x6  y6   x7  y7   x8  y8  \\\n",
      "0  47  100  27   81   57   37   26    0   0  23   56  53  100  90   40  98   \n",
      "1   0   89  27  100   42   75   29   45  15  15   37   0   69   2  100   6   \n",
      "2   0   57  31   68   72   90  100  100  76  75   50  51   28  25   16   0   \n",
      "3   0  100   7   92    5   68   19   45  86  34  100  45   74  23   67   0   \n",
      "4   0   67  49   83  100  100   81   80  60  60   40  40   33  20   47   0   \n",
      "\n",
      "   Res  \n",
      "0    8  \n",
      "1    2  \n",
      "2    1  \n",
      "3    4  \n",
      "4    1  \n",
      "Testing Dataset :\n",
      "    x1   y1  x2   y2  x3  y3   x4  y4   x5  y5   x6  y6   x7   y7   x8   y8  \\\n",
      "0  88   92   2   99  16  66   94  37   70   0    0  24   42   65  100  100   \n",
      "1  80  100  18   98  60  66  100  29   42   0    0  23   42   61   56   98   \n",
      "2   0   94   9   57  20  19    7   0   20  36   70  68  100  100   18   92   \n",
      "3  95   82  71  100  27  77   77  73  100  80   93  42   56   13    0    0   \n",
      "4  68  100   6   88  47  75   87  82   85  56  100  29   75    6    0    0   \n",
      "\n",
      "   Res  \n",
      "0    8  \n",
      "1    8  \n",
      "2    8  \n",
      "3    9  \n",
      "4    9  \n"
     ]
    }
   ],
   "source": [
    "import pandas as pd\n",
    "train = pd.read_csv(\"93201943110413967pendigits.tra\", sep=\",\", header = None)\n",
    "test = pd.read_csv(\"-2846160376108234339pendigits.tes\", sep=\",\", header = None)\n",
    "train.columns =['x1', 'y1', 'x2', 'y2', 'x3', 'y3', 'x4', 'y4', 'x5', 'y5', 'x6', 'y6', 'x7', 'y7', 'x8', 'y8', 'Res']\n",
    "test.columns =['x1', 'y1', 'x2', 'y2', 'x3', 'y3', 'x4', 'y4', 'x5', 'y5', 'x6', 'y6', 'x7', 'y7', 'x8', 'y8', 'Res']\n",
    "print(\"Training Dataset :\\n\", train.head())\n",
    "print(\"Testing Dataset :\\n\", test.head())"
   ]
  },
  {
   "cell_type": "code",
   "execution_count": 15,
   "id": "844a56b7",
   "metadata": {},
   "outputs": [
    {
     "data": {
      "image/png": "[encoded data removed]",
      "text/plain": [
       "<Figure size 432x288 with 1 Axes>"
      ]
     },
     "metadata": {
      "needs_background": "light"
     },
     "output_type": "display_data"
    },
    {
     "data": {
      "image/png": "[encoded data removed]",
      "text/plain": [
       "<Figure size 432x288 with 1 Axes>"
      ]
     },
     "metadata": {
      "needs_background": "light"
     },
     "output_type": "display_data"
    },
    {
     "data": {
      "image/png": "[encoded data removed]",
      "text/plain": [
       "<Figure size 432x288 with 1 Axes>"
      ]
     },
     "metadata": {
      "needs_background": "light"
     },
     "output_type": "display_data"
    },
    {
     "data": {
      "image/png": "[encoded data removed]",
      "text/plain": [
       "<Figure size 432x288 with 1 Axes>"
      ]
     },
     "metadata": {
      "needs_background": "light"
     },
     "output_type": "display_data"
    },
    {
     "data": {
      "image/png": "[encoded data removed]",
      "text/plain": [
       "<Figure size 432x288 with 1 Axes>"
      ]
     },
     "metadata": {
      "needs_background": "light"
     },
     "output_type": "display_data"
    },
    {
     "data": {
      "image/png": "[encoded data removed]",
      "text/plain": [
       "<Figure size 432x288 with 1 Axes>"
      ]
     },
     "metadata": {
      "needs_background": "light"
     },
     "output_type": "display_data"
    },
    {
     "data": {
      "image/png": "[encoded data removed]",
      "text/plain": [
       "<Figure size 432x288 with 1 Axes>"
      ]
     },
     "metadata": {
      "needs_background": "light"
     },
     "output_type": "display_data"
    },
    {
     "data": {
      "image/png": "[encoded data removed]",
      "text/plain": [
       "<Figure size 432x288 with 1 Axes>"
      ]
     },
     "metadata": {
      "needs_background": "light"
     },
     "output_type": "display_data"
    },
    {
     "data": {
      "image/png": "[encoded data removed]",
      "text/plain": [
       "<Figure size 432x288 with 1 Axes>"
      ]
     },
     "metadata": {
      "needs_background": "light"
     },
     "output_type": "display_data"
    },
    {
     "data": {
      "image/png": "[encoded data removed]",
      "text/plain": [
       "<Figure size 432x288 with 1 Axes>"
      ]
     },
     "metadata": {
      "needs_background": "light"
     },
     "output_type": "display_data"
    }
   ],
   "source": [
    "import matplotlib.pyplot as plt\n",
    "\n",
    "X_train=train.iloc[:,:-1]\n",
    "y_train=train.iloc[:,-1]\n",
    "X_test=test.iloc[:,:-1]\n",
    "y_test=test.iloc[:,-1]\n",
    "\n",
    "def draw(d,n):\n",
    "    X=[d.iloc[n,x] for x in range(0,15,2)]\n",
    "    Y=[d.iloc[n,x] for x in range(1,16,2)]\n",
    "    plt.plot(X,Y, linestyle='dashed')\n",
    "    plt.show()\n",
    "    \n",
    "for i in range(10):\n",
    "    x=(y_train==i).idxmax()\n",
    "    draw(X_train,x)"
   ]
  },
  {
   "cell_type": "markdown",
   "id": "03c7a066",
   "metadata": {},
   "source": [
    "# Task 2"
   ]
  },
  {
   "cell_type": "code",
   "execution_count": 16,
   "id": "b51d3e36",
   "metadata": {},
   "outputs": [
    {
     "name": "stdout",
     "output_type": "stream",
     "text": [
      "   x1   y1  x2   y2   x3   y3   x4   y4  x5  y5   x6  y6   x7  y7   x8  y8\n",
      "0  47  100  27   81   57   37   26    0   0  23   56  53  100  90   40  98\n",
      "1   0   89  27  100   42   75   29   45  15  15   37   0   69   2  100   6\n",
      "2   0   57  31   68   72   90  100  100  76  75   50  51   28  25   16   0\n",
      "3   0  100   7   92    5   68   19   45  86  34  100  45   74  23   67   0\n",
      "4   0   67  49   83  100  100   81   80  60  60   40  40   33  20   47   0\n",
      "0    8\n",
      "1    2\n",
      "2    1\n",
      "3    4\n",
      "4    1\n",
      "Name: Res, dtype: int64\n",
      "   x1   y1  x2   y2  x3  y3   x4  y4   x5  y5   x6  y6   x7   y7   x8   y8\n",
      "0  88   92   2   99  16  66   94  37   70   0    0  24   42   65  100  100\n",
      "1  80  100  18   98  60  66  100  29   42   0    0  23   42   61   56   98\n",
      "2   0   94   9   57  20  19    7   0   20  36   70  68  100  100   18   92\n",
      "3  95   82  71  100  27  77   77  73  100  80   93  42   56   13    0    0\n",
      "4  68  100   6   88  47  75   87  82   85  56  100  29   75    6    0    0\n",
      "0    8\n",
      "1    8\n",
      "2    8\n",
      "3    9\n",
      "4    9\n",
      "Name: Res, dtype: int64\n"
     ]
    }
   ],
   "source": [
    "print(X_train.head())\n",
    "print(y_train.head())\n",
    "print(X_test.head())\n",
    "print(y_test.head())"
   ]
  },
  {
   "cell_type": "code",
   "execution_count": 17,
   "id": "e15ce0e1",
   "metadata": {},
   "outputs": [
    {
     "data": {
      "text/plain": [
       "LogisticRegression(max_iter=1000000, random_state=0, solver='liblinear')"
      ]
     },
     "execution_count": 17,
     "metadata": {},
     "output_type": "execute_result"
    }
   ],
   "source": [
    "from sklearn.linear_model import LogisticRegression\n",
    "logistic = LogisticRegression()\n",
    "\n",
    "# Training the model on data\n",
    "model = LogisticRegression(solver='liblinear', random_state=0, max_iter=1000000)\n",
    "model.fit(X_train, y_train)"
   ]
  },
  {
   "cell_type": "code",
   "execution_count": 18,
   "id": "b31d86fe",
   "metadata": {},
   "outputs": [
    {
     "data": {
      "text/plain": [
       "0.9471577261809447"
      ]
     },
     "execution_count": 18,
     "metadata": {},
     "output_type": "execute_result"
    }
   ],
   "source": [
    "model.score(X_train, y_train)"
   ]
  },
  {
   "cell_type": "code",
   "execution_count": 19,
   "id": "32f024a2",
   "metadata": {},
   "outputs": [
    {
     "data": {
      "text/plain": [
       "0.8905088622069754"
      ]
     },
     "execution_count": 19,
     "metadata": {},
     "output_type": "execute_result"
    }
   ],
   "source": [
    "model.score(X_test, y_test)"
   ]
  },
  {
   "cell_type": "code",
   "execution_count": 20,
   "id": "89defd8a",
   "metadata": {},
   "outputs": [
    {
     "data": {
      "text/plain": [
       "0.8905088622069754"
      ]
     },
     "execution_count": 20,
     "metadata": {},
     "output_type": "execute_result"
    }
   ],
   "source": [
    "from sklearn.metrics import accuracy_score\n",
    "accuracy_score(y_test,model.predict(X_test))"
   ]
  },
  {
   "cell_type": "code",
   "execution_count": 21,
   "id": "b7315a4f",
   "metadata": {},
   "outputs": [
    {
     "name": "stdout",
     "output_type": "stream",
     "text": [
      "Accuracy of logistic regression classifier on test set: 0.89\n"
     ]
    }
   ],
   "source": [
    "y_pred = model.predict(X_test)\n",
    "print('Accuracy of logistic regression classifier on test set: {:.2f}'.format(model.score(X_test, y_test)))"
   ]
  },
  {
   "cell_type": "code",
   "execution_count": 22,
   "id": "0346790b",
   "metadata": {},
   "outputs": [
    {
     "name": "stdout",
     "output_type": "stream",
     "text": [
      "[[739   0   0   0   4   3   2   0  27   5]\n",
      " [  0 698  21  14   3  24   1   7   0  11]\n",
      " [  0   8 771   0   0   1   0   0   0   0]\n",
      " [  0   4   1 713   1   0   0   0   0   0]\n",
      " [  0   0   0   0 771   1   1   1   0   6]\n",
      " [  0   3   0   5   0 621   0   7  10  74]\n",
      " [  0   0   0   0   5   1 708   0   6   0]\n",
      " [  0   3   1   3   0   7   0 757   4   3]\n",
      " [ 15   1   0   0   0  28   0   2 658  15]\n",
      " [  5  11   1   5   2  21   0   0  12 662]]\n"
     ]
    }
   ],
   "source": [
    "from sklearn.metrics import classification_report, confusion_matrix\n",
    "cm = confusion_matrix(y_train, model.predict(X_train))\n",
    "print(cm)"
   ]
  },
  {
   "cell_type": "code",
   "execution_count": 23,
   "id": "0195af1c",
   "metadata": {},
   "outputs": [
    {
     "data": {
      "text/plain": [
       "Text(0.5, 1.0, 'Accuracy Score: 0.8905088622069754')"
      ]
     },
     "execution_count": 23,
     "metadata": {},
     "output_type": "execute_result"
    },
    {
     "data": {
      "image/png": "[encoded data removed]",
      "text/plain": [
       "<Figure size 720x720 with 2 Axes>"
      ]
     },
     "metadata": {
      "needs_background": "light"
     },
     "output_type": "display_data"
    }
   ],
   "source": [
    "# Testing the accuracy using confusion matrix \n",
    "import seaborn as sb\n",
    "plt.figure(figsize=(10,10))\n",
    "sb.heatmap(cm, annot=True, fmt=\".3f\", linewidths=.5, square = True, cmap = 'Reds_r')\n",
    "plt.ylabel('Actual label')\n",
    "plt.xlabel('Predicted label')\n",
    "all_sample_title = 'Accuracy Score: {0}'.format(model.score(X_test, y_test))\n",
    "plt.title(all_sample_title, size = 15)"
   ]
  },
  {
   "cell_type": "markdown",
   "id": "d19c6977",
   "metadata": {},
   "source": [
    "# Task 3"
   ]
  },
  {
   "cell_type": "code",
   "execution_count": 59,
   "id": "94ef329b",
   "metadata": {},
   "outputs": [],
   "source": [
    "import scipy.stats\n",
    "X_train=train.iloc[:,:-1]\n",
    "y_train=train.iloc[:,-1]\n",
    "X_test=test.iloc[:,:-1]\n",
    "y_test=test.iloc[:,-1]\n",
    "\n",
    "class KNN:\n",
    "    def __init__(self, k):\n",
    "        self.k = k\n",
    "        \n",
    "    def load(self, dataset):\n",
    "        [self.X,self.y]=dataset\n",
    "        \n",
    "    def distance(self, p1, p2):\n",
    "        # calculate L2 distance\n",
    "        return (p1-p2)**2\n",
    "    \n",
    "    def score(self,X_test,y_test):\n",
    "        return accuracy_score(y_test,self.predict(X_test))\n",
    "\n",
    "    def predict(self, test):\n",
    "        # predict the class of the test_point\n",
    "        y_pred=[]\n",
    "        for test_point in test.to_numpy():\n",
    "            distances = np.linalg.norm(self.X - test_point, axis=1)\n",
    "            nearest_neighbors_id = distances.argsort()[:self.k]\n",
    "            nearest_neighbors_y=self.y[nearest_neighbors_id]\n",
    "            #print(scipy.stats.mode(nearest_neighbors_y).mode[0])\n",
    "            y_pred.append(scipy.stats.mode(nearest_neighbors_y).mode[0])\n",
    "        return y_pred"
   ]
  },
  {
   "cell_type": "code",
   "execution_count": 60,
   "id": "dee29528",
   "metadata": {},
   "outputs": [
    {
     "data": {
      "text/plain": [
       "0.9774156660949114"
      ]
     },
     "execution_count": 60,
     "metadata": {},
     "output_type": "execute_result"
    }
   ],
   "source": [
    "model=KNN(1)\n",
    "model.load([X_train, y_train])\n",
    "model.score(X_test, y_test)"
   ]
  },
  {
   "cell_type": "markdown",
   "id": "52a93e4a",
   "metadata": {},
   "source": [
    "# Task 4"
   ]
  },
  {
   "cell_type": "code",
   "execution_count": null,
   "id": "0b2b28c5",
   "metadata": {},
   "outputs": [],
   "source": [
    "train_score = []\n",
    "test_score = []\n",
    "for i in range(1, 1000):\n",
    "    model = KNN(i)\n",
    "    model.load([X_train, y_train])\n",
    "    train_score.append(model.score(X_train, y_train))\n",
    "    test_score.append(model.score(X_test, y_test))\n",
    "    \n",
    "plt.ylabel('Accuracy')\n",
    "plt.xlabel('k')\n",
    "all_sample_title = 'Determining Optimal Values of Hyperparameters'\n",
    "plt.title(all_sample_title, size = 15)\n",
    "plt.plot(train_score, linestyle='dashed', label='Training')\n",
    "plt.plot(test_score, label='Testing')\n"
   ]
  },
  {
   "cell_type": "code",
   "execution_count": null,
   "id": "7fefba48",
   "metadata": {},
   "outputs": [],
   "source": []
  },
  {
   "cell_type": "code",
   "execution_count": null,
   "id": "1aa9a3c3",
   "metadata": {},
   "outputs": [],
   "source": []
  }
 ],
 "metadata": {
  "kernelspec": {
   "display_name": "Python 3 (ipykernel)",
   "language": "python",
   "name": "python3"
  },
  "language_info": {
   "codemirror_mode": {
    "name": "ipython",
    "version": 3
   },
   "file_extension": ".py",
   "mimetype": "text/x-python",
   "name": "python",
   "nbconvert_exporter": "python",
   "pygments_lexer": "ipython3",
   "version": "3.9.12"
  }
 },
 "nbformat": 4,
 "nbformat_minor": 5
}
