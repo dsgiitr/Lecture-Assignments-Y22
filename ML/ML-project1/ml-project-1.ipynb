{
 "cells": [
  {
   "cell_type": "code",
   "execution_count": 68,
   "metadata": {
    "_cell_guid": "b1076dfc-b9ad-4769-8c92-a6c4dae69d19",
    "_uuid": "8f2839f25d086af736a60e9eeb907d3b93b6e0e5",
    "execution": {
     "iopub.execute_input": "2022-08-07T08:23:15.153761Z",
     "iopub.status.busy": "2022-08-07T08:23:15.152893Z",
     "iopub.status.idle": "2022-08-07T08:23:15.171359Z",
     "shell.execute_reply": "2022-08-07T08:23:15.170134Z",
     "shell.execute_reply.started": "2022-08-07T08:23:15.153731Z"
    }
   },
   "outputs": [],
   "source": [
    " "
   ]
  },
  {
   "cell_type": "markdown",
   "metadata": {},
   "source": [
    "# Aim Which factor influenced a candidate in getting placed?\n",
    "     Does percentage matters for one to get placed?\n",
    "     Which degree specialization is much demanded by corporate?\n",
    "     all statistical tests."
   ]
  },
  {
   "cell_type": "code",
   "execution_count": 69,
   "metadata": {
    "execution": {
     "iopub.execute_input": "2022-08-07T08:23:15.452987Z",
     "iopub.status.busy": "2022-08-07T08:23:15.451960Z",
     "iopub.status.idle": "2022-08-07T08:23:15.456709Z",
     "shell.execute_reply": "2022-08-07T08:23:15.455446Z",
     "shell.execute_reply.started": "2022-08-07T08:23:15.452962Z"
    }
   },
   "outputs": [],
   "source": [
    "#import all the necessary Libraries\n"
   ]
  },
  {
   "cell_type": "code",
   "execution_count": 2,
   "metadata": {
    "execution": {
     "iopub.execute_input": "2022-08-07T08:24:14.299493Z",
     "iopub.status.busy": "2022-08-07T08:24:14.298688Z",
     "iopub.status.idle": "2022-08-07T08:24:14.306908Z",
     "shell.execute_reply": "2022-08-07T08:24:14.306059Z",
     "shell.execute_reply.started": "2022-08-07T08:24:14.299468Z"
    }
   },
   "outputs": [],
   "source": [
    "# Regular EDA (exploratory data analysis) and plotting libraries\n",
    "import numpy as np\n",
    "import pandas as pd\n",
    "import matplotlib.pyplot as plt\n",
    "import seaborn as sns\n",
    "\n",
    "# we want our plots to appear inside the notebook\n",
    "%matplotlib inline \n",
    "\n",
    "# Models from Scikit-Learn\n",
    "from sklearn.linear_model import LogisticRegression\n",
    "from sklearn.neighbors import KNeighborsClassifier\n",
    "from sklearn.ensemble import RandomForestClassifier\n",
    "from sklearn.naive_bayes import GaussianNB\n",
    "from sklearn.tree import DecisionTreeClassifier\n",
    "\n",
    "# Model Evaluations\n",
    "from sklearn.model_selection import train_test_split, cross_val_score\n",
    "from sklearn.metrics import confusion_matrix, classification_report\n",
    "from sklearn.metrics import precision_score, recall_score, f1_score ,accuracy_score\n",
    " "
   ]
  },
  {
   "cell_type": "code",
   "execution_count": 3,
   "metadata": {
    "execution": {
     "iopub.execute_input": "2022-08-07T08:24:15.679445Z",
     "iopub.status.busy": "2022-08-07T08:24:15.678418Z",
     "iopub.status.idle": "2022-08-07T08:24:15.702229Z",
     "shell.execute_reply": "2022-08-07T08:24:15.701470Z",
     "shell.execute_reply.started": "2022-08-07T08:24:15.679375Z"
    }
   },
   "outputs": [
    {
     "data": {
      "text/html": [
       "<div>\n",
       "<style scoped>\n",
       "    .dataframe tbody tr th:only-of-type {\n",
       "        vertical-align: middle;\n",
       "    }\n",
       "\n",
       "    .dataframe tbody tr th {\n",
       "        vertical-align: top;\n",
       "    }\n",
       "\n",
       "    .dataframe thead th {\n",
       "        text-align: right;\n",
       "    }\n",
       "</style>\n",
       "<table border=\"1\" class=\"dataframe\">\n",
       "  <thead>\n",
       "    <tr style=\"text-align: right;\">\n",
       "      <th></th>\n",
       "      <th>sl_no</th>\n",
       "      <th>gender</th>\n",
       "      <th>ssc_p</th>\n",
       "      <th>ssc_b</th>\n",
       "      <th>hsc_p</th>\n",
       "      <th>hsc_b</th>\n",
       "      <th>hsc_s</th>\n",
       "      <th>degree_p</th>\n",
       "      <th>degree_t</th>\n",
       "      <th>workex</th>\n",
       "      <th>etest_p</th>\n",
       "      <th>specialisation</th>\n",
       "      <th>mba_p</th>\n",
       "      <th>status</th>\n",
       "      <th>salary</th>\n",
       "    </tr>\n",
       "  </thead>\n",
       "  <tbody>\n",
       "    <tr>\n",
       "      <th>0</th>\n",
       "      <td>1</td>\n",
       "      <td>M</td>\n",
       "      <td>67.00</td>\n",
       "      <td>Others</td>\n",
       "      <td>91.00</td>\n",
       "      <td>Others</td>\n",
       "      <td>Commerce</td>\n",
       "      <td>58.00</td>\n",
       "      <td>Sci&amp;Tech</td>\n",
       "      <td>No</td>\n",
       "      <td>55.0</td>\n",
       "      <td>Mkt&amp;HR</td>\n",
       "      <td>58.80</td>\n",
       "      <td>Placed</td>\n",
       "      <td>270000.0</td>\n",
       "    </tr>\n",
       "    <tr>\n",
       "      <th>1</th>\n",
       "      <td>2</td>\n",
       "      <td>M</td>\n",
       "      <td>79.33</td>\n",
       "      <td>Central</td>\n",
       "      <td>78.33</td>\n",
       "      <td>Others</td>\n",
       "      <td>Science</td>\n",
       "      <td>77.48</td>\n",
       "      <td>Sci&amp;Tech</td>\n",
       "      <td>Yes</td>\n",
       "      <td>86.5</td>\n",
       "      <td>Mkt&amp;Fin</td>\n",
       "      <td>66.28</td>\n",
       "      <td>Placed</td>\n",
       "      <td>200000.0</td>\n",
       "    </tr>\n",
       "    <tr>\n",
       "      <th>2</th>\n",
       "      <td>3</td>\n",
       "      <td>M</td>\n",
       "      <td>65.00</td>\n",
       "      <td>Central</td>\n",
       "      <td>68.00</td>\n",
       "      <td>Central</td>\n",
       "      <td>Arts</td>\n",
       "      <td>64.00</td>\n",
       "      <td>Comm&amp;Mgmt</td>\n",
       "      <td>No</td>\n",
       "      <td>75.0</td>\n",
       "      <td>Mkt&amp;Fin</td>\n",
       "      <td>57.80</td>\n",
       "      <td>Placed</td>\n",
       "      <td>250000.0</td>\n",
       "    </tr>\n",
       "    <tr>\n",
       "      <th>3</th>\n",
       "      <td>4</td>\n",
       "      <td>M</td>\n",
       "      <td>56.00</td>\n",
       "      <td>Central</td>\n",
       "      <td>52.00</td>\n",
       "      <td>Central</td>\n",
       "      <td>Science</td>\n",
       "      <td>52.00</td>\n",
       "      <td>Sci&amp;Tech</td>\n",
       "      <td>No</td>\n",
       "      <td>66.0</td>\n",
       "      <td>Mkt&amp;HR</td>\n",
       "      <td>59.43</td>\n",
       "      <td>Not Placed</td>\n",
       "      <td>NaN</td>\n",
       "    </tr>\n",
       "    <tr>\n",
       "      <th>4</th>\n",
       "      <td>5</td>\n",
       "      <td>M</td>\n",
       "      <td>85.80</td>\n",
       "      <td>Central</td>\n",
       "      <td>73.60</td>\n",
       "      <td>Central</td>\n",
       "      <td>Commerce</td>\n",
       "      <td>73.30</td>\n",
       "      <td>Comm&amp;Mgmt</td>\n",
       "      <td>No</td>\n",
       "      <td>96.8</td>\n",
       "      <td>Mkt&amp;Fin</td>\n",
       "      <td>55.50</td>\n",
       "      <td>Placed</td>\n",
       "      <td>425000.0</td>\n",
       "    </tr>\n",
       "  </tbody>\n",
       "</table>\n",
       "</div>"
      ],
      "text/plain": [
       "   sl_no gender  ssc_p    ssc_b  hsc_p    hsc_b     hsc_s  degree_p  \\\n",
       "0      1      M  67.00   Others  91.00   Others  Commerce     58.00   \n",
       "1      2      M  79.33  Central  78.33   Others   Science     77.48   \n",
       "2      3      M  65.00  Central  68.00  Central      Arts     64.00   \n",
       "3      4      M  56.00  Central  52.00  Central   Science     52.00   \n",
       "4      5      M  85.80  Central  73.60  Central  Commerce     73.30   \n",
       "\n",
       "    degree_t workex  etest_p specialisation  mba_p      status    salary  \n",
       "0   Sci&Tech     No     55.0         Mkt&HR  58.80      Placed  270000.0  \n",
       "1   Sci&Tech    Yes     86.5        Mkt&Fin  66.28      Placed  200000.0  \n",
       "2  Comm&Mgmt     No     75.0        Mkt&Fin  57.80      Placed  250000.0  \n",
       "3   Sci&Tech     No     66.0         Mkt&HR  59.43  Not Placed       NaN  \n",
       "4  Comm&Mgmt     No     96.8        Mkt&Fin  55.50      Placed  425000.0  "
      ]
     },
     "execution_count": 3,
     "metadata": {},
     "output_type": "execute_result"
    }
   ],
   "source": [
    "#Data\n",
    "df = pd.read_csv(\"Placement_Data_Full_Class.csv\")\n",
    "df.head()\n"
   ]
  },
  {
   "cell_type": "code",
   "execution_count": 4,
   "metadata": {
    "execution": {
     "iopub.execute_input": "2022-08-07T08:24:17.858408Z",
     "iopub.status.busy": "2022-08-07T08:24:17.858085Z",
     "iopub.status.idle": "2022-08-07T08:24:17.872050Z",
     "shell.execute_reply": "2022-08-07T08:24:17.871245Z",
     "shell.execute_reply.started": "2022-08-07T08:24:17.858376Z"
    }
   },
   "outputs": [
    {
     "name": "stdout",
     "output_type": "stream",
     "text": [
      "<class 'pandas.core.frame.DataFrame'>\n",
      "RangeIndex: 215 entries, 0 to 214\n",
      "Data columns (total 15 columns):\n",
      " #   Column          Non-Null Count  Dtype  \n",
      "---  ------          --------------  -----  \n",
      " 0   sl_no           215 non-null    int64  \n",
      " 1   gender          215 non-null    object \n",
      " 2   ssc_p           215 non-null    float64\n",
      " 3   ssc_b           215 non-null    object \n",
      " 4   hsc_p           215 non-null    float64\n",
      " 5   hsc_b           215 non-null    object \n",
      " 6   hsc_s           215 non-null    object \n",
      " 7   degree_p        215 non-null    float64\n",
      " 8   degree_t        215 non-null    object \n",
      " 9   workex          215 non-null    object \n",
      " 10  etest_p         215 non-null    float64\n",
      " 11  specialisation  215 non-null    object \n",
      " 12  mba_p           215 non-null    float64\n",
      " 13  status          215 non-null    object \n",
      " 14  salary          148 non-null    float64\n",
      "dtypes: float64(6), int64(1), object(8)\n",
      "memory usage: 25.3+ KB\n"
     ]
    }
   ],
   "source": [
    "df.info()"
   ]
  },
  {
   "cell_type": "code",
   "execution_count": 5,
   "metadata": {
    "execution": {
     "iopub.execute_input": "2022-08-07T08:24:19.630863Z",
     "iopub.status.busy": "2022-08-07T08:24:19.630345Z",
     "iopub.status.idle": "2022-08-07T08:24:19.660083Z",
     "shell.execute_reply": "2022-08-07T08:24:19.658937Z",
     "shell.execute_reply.started": "2022-08-07T08:24:19.630839Z"
    }
   },
   "outputs": [
    {
     "data": {
      "text/html": [
       "<div>\n",
       "<style scoped>\n",
       "    .dataframe tbody tr th:only-of-type {\n",
       "        vertical-align: middle;\n",
       "    }\n",
       "\n",
       "    .dataframe tbody tr th {\n",
       "        vertical-align: top;\n",
       "    }\n",
       "\n",
       "    .dataframe thead th {\n",
       "        text-align: right;\n",
       "    }\n",
       "</style>\n",
       "<table border=\"1\" class=\"dataframe\">\n",
       "  <thead>\n",
       "    <tr style=\"text-align: right;\">\n",
       "      <th></th>\n",
       "      <th>sl_no</th>\n",
       "      <th>ssc_p</th>\n",
       "      <th>hsc_p</th>\n",
       "      <th>degree_p</th>\n",
       "      <th>etest_p</th>\n",
       "      <th>mba_p</th>\n",
       "      <th>salary</th>\n",
       "    </tr>\n",
       "  </thead>\n",
       "  <tbody>\n",
       "    <tr>\n",
       "      <th>count</th>\n",
       "      <td>215.000000</td>\n",
       "      <td>215.000000</td>\n",
       "      <td>215.000000</td>\n",
       "      <td>215.000000</td>\n",
       "      <td>215.000000</td>\n",
       "      <td>215.000000</td>\n",
       "      <td>148.000000</td>\n",
       "    </tr>\n",
       "    <tr>\n",
       "      <th>mean</th>\n",
       "      <td>108.000000</td>\n",
       "      <td>67.303395</td>\n",
       "      <td>66.333163</td>\n",
       "      <td>66.370186</td>\n",
       "      <td>72.100558</td>\n",
       "      <td>62.278186</td>\n",
       "      <td>288655.405405</td>\n",
       "    </tr>\n",
       "    <tr>\n",
       "      <th>std</th>\n",
       "      <td>62.209324</td>\n",
       "      <td>10.827205</td>\n",
       "      <td>10.897509</td>\n",
       "      <td>7.358743</td>\n",
       "      <td>13.275956</td>\n",
       "      <td>5.833385</td>\n",
       "      <td>93457.452420</td>\n",
       "    </tr>\n",
       "    <tr>\n",
       "      <th>min</th>\n",
       "      <td>1.000000</td>\n",
       "      <td>40.890000</td>\n",
       "      <td>37.000000</td>\n",
       "      <td>50.000000</td>\n",
       "      <td>50.000000</td>\n",
       "      <td>51.210000</td>\n",
       "      <td>200000.000000</td>\n",
       "    </tr>\n",
       "    <tr>\n",
       "      <th>25%</th>\n",
       "      <td>54.500000</td>\n",
       "      <td>60.600000</td>\n",
       "      <td>60.900000</td>\n",
       "      <td>61.000000</td>\n",
       "      <td>60.000000</td>\n",
       "      <td>57.945000</td>\n",
       "      <td>240000.000000</td>\n",
       "    </tr>\n",
       "    <tr>\n",
       "      <th>50%</th>\n",
       "      <td>108.000000</td>\n",
       "      <td>67.000000</td>\n",
       "      <td>65.000000</td>\n",
       "      <td>66.000000</td>\n",
       "      <td>71.000000</td>\n",
       "      <td>62.000000</td>\n",
       "      <td>265000.000000</td>\n",
       "    </tr>\n",
       "    <tr>\n",
       "      <th>75%</th>\n",
       "      <td>161.500000</td>\n",
       "      <td>75.700000</td>\n",
       "      <td>73.000000</td>\n",
       "      <td>72.000000</td>\n",
       "      <td>83.500000</td>\n",
       "      <td>66.255000</td>\n",
       "      <td>300000.000000</td>\n",
       "    </tr>\n",
       "    <tr>\n",
       "      <th>max</th>\n",
       "      <td>215.000000</td>\n",
       "      <td>89.400000</td>\n",
       "      <td>97.700000</td>\n",
       "      <td>91.000000</td>\n",
       "      <td>98.000000</td>\n",
       "      <td>77.890000</td>\n",
       "      <td>940000.000000</td>\n",
       "    </tr>\n",
       "  </tbody>\n",
       "</table>\n",
       "</div>"
      ],
      "text/plain": [
       "            sl_no       ssc_p       hsc_p    degree_p     etest_p       mba_p  \\\n",
       "count  215.000000  215.000000  215.000000  215.000000  215.000000  215.000000   \n",
       "mean   108.000000   67.303395   66.333163   66.370186   72.100558   62.278186   \n",
       "std     62.209324   10.827205   10.897509    7.358743   13.275956    5.833385   \n",
       "min      1.000000   40.890000   37.000000   50.000000   50.000000   51.210000   \n",
       "25%     54.500000   60.600000   60.900000   61.000000   60.000000   57.945000   \n",
       "50%    108.000000   67.000000   65.000000   66.000000   71.000000   62.000000   \n",
       "75%    161.500000   75.700000   73.000000   72.000000   83.500000   66.255000   \n",
       "max    215.000000   89.400000   97.700000   91.000000   98.000000   77.890000   \n",
       "\n",
       "              salary  \n",
       "count     148.000000  \n",
       "mean   288655.405405  \n",
       "std     93457.452420  \n",
       "min    200000.000000  \n",
       "25%    240000.000000  \n",
       "50%    265000.000000  \n",
       "75%    300000.000000  \n",
       "max    940000.000000  "
      ]
     },
     "execution_count": 5,
     "metadata": {},
     "output_type": "execute_result"
    }
   ],
   "source": [
    "df.describe()"
   ]
  },
  {
   "cell_type": "markdown",
   "metadata": {},
   "source": [
    "Data dictionary\n",
    "\n",
    "1.sl_no : Serial Number,\n",
    "\n",
    "2.ssc_p : Secondary Education percentage- 10th Grade\n",
    "\n",
    "3.ssc_b : Board of Education- Central/ Others\n",
    "\n",
    "4.hsc_p : Higher Secondary Education percentage- 12th Grade\n",
    "\n",
    "5.hsc_b : Board of Education- Central/ Others\n",
    "\n",
    "6.hsc_s : Specialization in Higher Secondary Education\n",
    "\n",
    "7.degree_p : Degree Percentage\n",
    "\n",
    "8.degree_t : Under Graduation(Degree type)- Field of degree education\n",
    "\n",
    "9.workex : Work Experience\n",
    "\n",
    "10.etest_p : Employability test percentage ( conducted by college)\n",
    "\n",
    "11.specialisation : Post Graduation(MBA)- Specialization\n",
    "\n",
    "12.mba_p : MBA percentage\n",
    "\n",
    "13.status : Status of placement- Placed/Not placed\n",
    "\n"
   ]
  },
  {
   "cell_type": "code",
   "execution_count": 6,
   "metadata": {
    "execution": {
     "iopub.execute_input": "2022-08-07T08:24:27.936886Z",
     "iopub.status.busy": "2022-08-07T08:24:27.936581Z",
     "iopub.status.idle": "2022-08-07T08:24:27.945443Z",
     "shell.execute_reply": "2022-08-07T08:24:27.944483Z",
     "shell.execute_reply.started": "2022-08-07T08:24:27.936863Z"
    }
   },
   "outputs": [
    {
     "data": {
      "text/plain": [
       "sl_no              0\n",
       "gender             0\n",
       "ssc_p              0\n",
       "ssc_b              0\n",
       "hsc_p              0\n",
       "hsc_b              0\n",
       "hsc_s              0\n",
       "degree_p           0\n",
       "degree_t           0\n",
       "workex             0\n",
       "etest_p            0\n",
       "specialisation     0\n",
       "mba_p              0\n",
       "status             0\n",
       "salary            67\n",
       "dtype: int64"
      ]
     },
     "execution_count": 6,
     "metadata": {},
     "output_type": "execute_result"
    }
   ],
   "source": [
    "df.isnull().sum()"
   ]
  },
  {
   "cell_type": "code",
   "execution_count": 7,
   "metadata": {
    "execution": {
     "iopub.execute_input": "2022-08-07T08:24:29.355977Z",
     "iopub.status.busy": "2022-08-07T08:24:29.353880Z",
     "iopub.status.idle": "2022-08-07T08:24:29.362388Z",
     "shell.execute_reply": "2022-08-07T08:24:29.361036Z",
     "shell.execute_reply.started": "2022-08-07T08:24:29.355946Z"
    }
   },
   "outputs": [],
   "source": [
    "placed_df=df[df['status']=='Placed']"
   ]
  },
  {
   "cell_type": "code",
   "execution_count": 8,
   "metadata": {
    "execution": {
     "iopub.execute_input": "2022-08-07T08:24:31.412265Z",
     "iopub.status.busy": "2022-08-07T08:24:31.411943Z",
     "iopub.status.idle": "2022-08-07T08:24:31.439386Z",
     "shell.execute_reply": "2022-08-07T08:24:31.438310Z",
     "shell.execute_reply.started": "2022-08-07T08:24:31.412241Z"
    }
   },
   "outputs": [
    {
     "data": {
      "text/html": [
       "<div>\n",
       "<style scoped>\n",
       "    .dataframe tbody tr th:only-of-type {\n",
       "        vertical-align: middle;\n",
       "    }\n",
       "\n",
       "    .dataframe tbody tr th {\n",
       "        vertical-align: top;\n",
       "    }\n",
       "\n",
       "    .dataframe thead th {\n",
       "        text-align: right;\n",
       "    }\n",
       "</style>\n",
       "<table border=\"1\" class=\"dataframe\">\n",
       "  <thead>\n",
       "    <tr style=\"text-align: right;\">\n",
       "      <th></th>\n",
       "      <th>sl_no</th>\n",
       "      <th>gender</th>\n",
       "      <th>ssc_p</th>\n",
       "      <th>ssc_b</th>\n",
       "      <th>hsc_p</th>\n",
       "      <th>hsc_b</th>\n",
       "      <th>hsc_s</th>\n",
       "      <th>degree_p</th>\n",
       "      <th>degree_t</th>\n",
       "      <th>workex</th>\n",
       "      <th>etest_p</th>\n",
       "      <th>specialisation</th>\n",
       "      <th>mba_p</th>\n",
       "      <th>status</th>\n",
       "      <th>salary</th>\n",
       "    </tr>\n",
       "  </thead>\n",
       "  <tbody>\n",
       "    <tr>\n",
       "      <th>0</th>\n",
       "      <td>1</td>\n",
       "      <td>M</td>\n",
       "      <td>67.00</td>\n",
       "      <td>Others</td>\n",
       "      <td>91.00</td>\n",
       "      <td>Others</td>\n",
       "      <td>Commerce</td>\n",
       "      <td>58.00</td>\n",
       "      <td>Sci&amp;Tech</td>\n",
       "      <td>No</td>\n",
       "      <td>55.0</td>\n",
       "      <td>Mkt&amp;HR</td>\n",
       "      <td>58.80</td>\n",
       "      <td>Placed</td>\n",
       "      <td>270000.0</td>\n",
       "    </tr>\n",
       "    <tr>\n",
       "      <th>1</th>\n",
       "      <td>2</td>\n",
       "      <td>M</td>\n",
       "      <td>79.33</td>\n",
       "      <td>Central</td>\n",
       "      <td>78.33</td>\n",
       "      <td>Others</td>\n",
       "      <td>Science</td>\n",
       "      <td>77.48</td>\n",
       "      <td>Sci&amp;Tech</td>\n",
       "      <td>Yes</td>\n",
       "      <td>86.5</td>\n",
       "      <td>Mkt&amp;Fin</td>\n",
       "      <td>66.28</td>\n",
       "      <td>Placed</td>\n",
       "      <td>200000.0</td>\n",
       "    </tr>\n",
       "    <tr>\n",
       "      <th>2</th>\n",
       "      <td>3</td>\n",
       "      <td>M</td>\n",
       "      <td>65.00</td>\n",
       "      <td>Central</td>\n",
       "      <td>68.00</td>\n",
       "      <td>Central</td>\n",
       "      <td>Arts</td>\n",
       "      <td>64.00</td>\n",
       "      <td>Comm&amp;Mgmt</td>\n",
       "      <td>No</td>\n",
       "      <td>75.0</td>\n",
       "      <td>Mkt&amp;Fin</td>\n",
       "      <td>57.80</td>\n",
       "      <td>Placed</td>\n",
       "      <td>250000.0</td>\n",
       "    </tr>\n",
       "    <tr>\n",
       "      <th>4</th>\n",
       "      <td>5</td>\n",
       "      <td>M</td>\n",
       "      <td>85.80</td>\n",
       "      <td>Central</td>\n",
       "      <td>73.60</td>\n",
       "      <td>Central</td>\n",
       "      <td>Commerce</td>\n",
       "      <td>73.30</td>\n",
       "      <td>Comm&amp;Mgmt</td>\n",
       "      <td>No</td>\n",
       "      <td>96.8</td>\n",
       "      <td>Mkt&amp;Fin</td>\n",
       "      <td>55.50</td>\n",
       "      <td>Placed</td>\n",
       "      <td>425000.0</td>\n",
       "    </tr>\n",
       "    <tr>\n",
       "      <th>7</th>\n",
       "      <td>8</td>\n",
       "      <td>M</td>\n",
       "      <td>82.00</td>\n",
       "      <td>Central</td>\n",
       "      <td>64.00</td>\n",
       "      <td>Central</td>\n",
       "      <td>Science</td>\n",
       "      <td>66.00</td>\n",
       "      <td>Sci&amp;Tech</td>\n",
       "      <td>Yes</td>\n",
       "      <td>67.0</td>\n",
       "      <td>Mkt&amp;Fin</td>\n",
       "      <td>62.14</td>\n",
       "      <td>Placed</td>\n",
       "      <td>252000.0</td>\n",
       "    </tr>\n",
       "    <tr>\n",
       "      <th>...</th>\n",
       "      <td>...</td>\n",
       "      <td>...</td>\n",
       "      <td>...</td>\n",
       "      <td>...</td>\n",
       "      <td>...</td>\n",
       "      <td>...</td>\n",
       "      <td>...</td>\n",
       "      <td>...</td>\n",
       "      <td>...</td>\n",
       "      <td>...</td>\n",
       "      <td>...</td>\n",
       "      <td>...</td>\n",
       "      <td>...</td>\n",
       "      <td>...</td>\n",
       "      <td>...</td>\n",
       "    </tr>\n",
       "    <tr>\n",
       "      <th>209</th>\n",
       "      <td>210</td>\n",
       "      <td>M</td>\n",
       "      <td>62.00</td>\n",
       "      <td>Central</td>\n",
       "      <td>72.00</td>\n",
       "      <td>Central</td>\n",
       "      <td>Commerce</td>\n",
       "      <td>65.00</td>\n",
       "      <td>Comm&amp;Mgmt</td>\n",
       "      <td>No</td>\n",
       "      <td>67.0</td>\n",
       "      <td>Mkt&amp;Fin</td>\n",
       "      <td>56.49</td>\n",
       "      <td>Placed</td>\n",
       "      <td>216000.0</td>\n",
       "    </tr>\n",
       "    <tr>\n",
       "      <th>210</th>\n",
       "      <td>211</td>\n",
       "      <td>M</td>\n",
       "      <td>80.60</td>\n",
       "      <td>Others</td>\n",
       "      <td>82.00</td>\n",
       "      <td>Others</td>\n",
       "      <td>Commerce</td>\n",
       "      <td>77.60</td>\n",
       "      <td>Comm&amp;Mgmt</td>\n",
       "      <td>No</td>\n",
       "      <td>91.0</td>\n",
       "      <td>Mkt&amp;Fin</td>\n",
       "      <td>74.49</td>\n",
       "      <td>Placed</td>\n",
       "      <td>400000.0</td>\n",
       "    </tr>\n",
       "    <tr>\n",
       "      <th>211</th>\n",
       "      <td>212</td>\n",
       "      <td>M</td>\n",
       "      <td>58.00</td>\n",
       "      <td>Others</td>\n",
       "      <td>60.00</td>\n",
       "      <td>Others</td>\n",
       "      <td>Science</td>\n",
       "      <td>72.00</td>\n",
       "      <td>Sci&amp;Tech</td>\n",
       "      <td>No</td>\n",
       "      <td>74.0</td>\n",
       "      <td>Mkt&amp;Fin</td>\n",
       "      <td>53.62</td>\n",
       "      <td>Placed</td>\n",
       "      <td>275000.0</td>\n",
       "    </tr>\n",
       "    <tr>\n",
       "      <th>212</th>\n",
       "      <td>213</td>\n",
       "      <td>M</td>\n",
       "      <td>67.00</td>\n",
       "      <td>Others</td>\n",
       "      <td>67.00</td>\n",
       "      <td>Others</td>\n",
       "      <td>Commerce</td>\n",
       "      <td>73.00</td>\n",
       "      <td>Comm&amp;Mgmt</td>\n",
       "      <td>Yes</td>\n",
       "      <td>59.0</td>\n",
       "      <td>Mkt&amp;Fin</td>\n",
       "      <td>69.72</td>\n",
       "      <td>Placed</td>\n",
       "      <td>295000.0</td>\n",
       "    </tr>\n",
       "    <tr>\n",
       "      <th>213</th>\n",
       "      <td>214</td>\n",
       "      <td>F</td>\n",
       "      <td>74.00</td>\n",
       "      <td>Others</td>\n",
       "      <td>66.00</td>\n",
       "      <td>Others</td>\n",
       "      <td>Commerce</td>\n",
       "      <td>58.00</td>\n",
       "      <td>Comm&amp;Mgmt</td>\n",
       "      <td>No</td>\n",
       "      <td>70.0</td>\n",
       "      <td>Mkt&amp;HR</td>\n",
       "      <td>60.23</td>\n",
       "      <td>Placed</td>\n",
       "      <td>204000.0</td>\n",
       "    </tr>\n",
       "  </tbody>\n",
       "</table>\n",
       "<p>148 rows × 15 columns</p>\n",
       "</div>"
      ],
      "text/plain": [
       "     sl_no gender  ssc_p    ssc_b  hsc_p    hsc_b     hsc_s  degree_p  \\\n",
       "0        1      M  67.00   Others  91.00   Others  Commerce     58.00   \n",
       "1        2      M  79.33  Central  78.33   Others   Science     77.48   \n",
       "2        3      M  65.00  Central  68.00  Central      Arts     64.00   \n",
       "4        5      M  85.80  Central  73.60  Central  Commerce     73.30   \n",
       "7        8      M  82.00  Central  64.00  Central   Science     66.00   \n",
       "..     ...    ...    ...      ...    ...      ...       ...       ...   \n",
       "209    210      M  62.00  Central  72.00  Central  Commerce     65.00   \n",
       "210    211      M  80.60   Others  82.00   Others  Commerce     77.60   \n",
       "211    212      M  58.00   Others  60.00   Others   Science     72.00   \n",
       "212    213      M  67.00   Others  67.00   Others  Commerce     73.00   \n",
       "213    214      F  74.00   Others  66.00   Others  Commerce     58.00   \n",
       "\n",
       "      degree_t workex  etest_p specialisation  mba_p  status    salary  \n",
       "0     Sci&Tech     No     55.0         Mkt&HR  58.80  Placed  270000.0  \n",
       "1     Sci&Tech    Yes     86.5        Mkt&Fin  66.28  Placed  200000.0  \n",
       "2    Comm&Mgmt     No     75.0        Mkt&Fin  57.80  Placed  250000.0  \n",
       "4    Comm&Mgmt     No     96.8        Mkt&Fin  55.50  Placed  425000.0  \n",
       "7     Sci&Tech    Yes     67.0        Mkt&Fin  62.14  Placed  252000.0  \n",
       "..         ...    ...      ...            ...    ...     ...       ...  \n",
       "209  Comm&Mgmt     No     67.0        Mkt&Fin  56.49  Placed  216000.0  \n",
       "210  Comm&Mgmt     No     91.0        Mkt&Fin  74.49  Placed  400000.0  \n",
       "211   Sci&Tech     No     74.0        Mkt&Fin  53.62  Placed  275000.0  \n",
       "212  Comm&Mgmt    Yes     59.0        Mkt&Fin  69.72  Placed  295000.0  \n",
       "213  Comm&Mgmt     No     70.0         Mkt&HR  60.23  Placed  204000.0  \n",
       "\n",
       "[148 rows x 15 columns]"
      ]
     },
     "execution_count": 8,
     "metadata": {},
     "output_type": "execute_result"
    }
   ],
   "source": [
    "placed_df"
   ]
  },
  {
   "cell_type": "code",
   "execution_count": 9,
   "metadata": {
    "execution": {
     "iopub.execute_input": "2022-08-07T08:24:37.859390Z",
     "iopub.status.busy": "2022-08-07T08:24:37.859093Z",
     "iopub.status.idle": "2022-08-07T08:24:38.040851Z",
     "shell.execute_reply": "2022-08-07T08:24:38.039981Z",
     "shell.execute_reply.started": "2022-08-07T08:24:37.859367Z"
    }
   },
   "outputs": [
    {
     "data": {
      "text/plain": [
       "<matplotlib.axes._subplots.AxesSubplot at 0x1723bf32148>"
      ]
     },
     "execution_count": 9,
     "metadata": {},
     "output_type": "execute_result"
    },
    {
     "data": {
      "image/png": "[encoded data removed]",
      "text/plain": [
       "<Figure size 432x288 with 1 Axes>"
      ]
     },
     "metadata": {
      "needs_background": "light"
     },
     "output_type": "display_data"
    }
   ],
   "source": [
    "sns.distplot(np.array(placed_df['salary']))"
   ]
  },
  {
   "cell_type": "code",
   "execution_count": 10,
   "metadata": {
    "execution": {
     "iopub.execute_input": "2022-08-07T08:24:39.834087Z",
     "iopub.status.busy": "2022-08-07T08:24:39.833781Z",
     "iopub.status.idle": "2022-08-07T08:24:39.841176Z",
     "shell.execute_reply": "2022-08-07T08:24:39.839988Z",
     "shell.execute_reply.started": "2022-08-07T08:24:39.834061Z"
    }
   },
   "outputs": [
    {
     "data": {
      "text/plain": [
       "(215, 15)"
      ]
     },
     "execution_count": 10,
     "metadata": {},
     "output_type": "execute_result"
    }
   ],
   "source": [
    "df.shape"
   ]
  },
  {
   "cell_type": "markdown",
   "metadata": {},
   "source": [
    "So we have 215 entries and 15 features to judge them."
   ]
  },
  {
   "cell_type": "code",
   "execution_count": 11,
   "metadata": {
    "execution": {
     "iopub.execute_input": "2022-08-07T08:24:44.496844Z",
     "iopub.status.busy": "2022-08-07T08:24:44.496502Z",
     "iopub.status.idle": "2022-08-07T08:24:44.506253Z",
     "shell.execute_reply": "2022-08-07T08:24:44.505445Z",
     "shell.execute_reply.started": "2022-08-07T08:24:44.496821Z"
    }
   },
   "outputs": [
    {
     "data": {
      "text/plain": [
       "degree_t   status    \n",
       "Comm&Mgmt  Placed        102\n",
       "           Not Placed     43\n",
       "Others     Not Placed      6\n",
       "           Placed          5\n",
       "Sci&Tech   Placed         41\n",
       "           Not Placed     18\n",
       "Name: status, dtype: int64"
      ]
     },
     "execution_count": 11,
     "metadata": {},
     "output_type": "execute_result"
    }
   ],
   "source": [
    "df.groupby('degree_t')['status'].value_counts()"
   ]
  },
  {
   "cell_type": "code",
   "execution_count": 12,
   "metadata": {
    "execution": {
     "iopub.execute_input": "2022-08-07T08:24:48.103852Z",
     "iopub.status.busy": "2022-08-07T08:24:48.103531Z",
     "iopub.status.idle": "2022-08-07T08:24:48.112500Z",
     "shell.execute_reply": "2022-08-07T08:24:48.111446Z",
     "shell.execute_reply.started": "2022-08-07T08:24:48.103828Z"
    }
   },
   "outputs": [
    {
     "data": {
      "text/plain": [
       "148"
      ]
     },
     "execution_count": 12,
     "metadata": {},
     "output_type": "execute_result"
    }
   ],
   "source": [
    "df.status.value_counts().Placed#total placed."
   ]
  },
  {
   "cell_type": "code",
   "execution_count": 13,
   "metadata": {
    "execution": {
     "iopub.execute_input": "2022-08-07T08:24:49.883237Z",
     "iopub.status.busy": "2022-08-07T08:24:49.882912Z",
     "iopub.status.idle": "2022-08-07T08:24:49.896691Z",
     "shell.execute_reply": "2022-08-07T08:24:49.895884Z",
     "shell.execute_reply.started": "2022-08-07T08:24:49.883213Z"
    }
   },
   "outputs": [
    {
     "data": {
      "text/html": [
       "<div>\n",
       "<style scoped>\n",
       "    .dataframe tbody tr th:only-of-type {\n",
       "        vertical-align: middle;\n",
       "    }\n",
       "\n",
       "    .dataframe tbody tr th {\n",
       "        vertical-align: top;\n",
       "    }\n",
       "\n",
       "    .dataframe thead th {\n",
       "        text-align: right;\n",
       "    }\n",
       "</style>\n",
       "<table border=\"1\" class=\"dataframe\">\n",
       "  <thead>\n",
       "    <tr style=\"text-align: right;\">\n",
       "      <th>status</th>\n",
       "      <th>Not Placed</th>\n",
       "      <th>Placed</th>\n",
       "    </tr>\n",
       "    <tr>\n",
       "      <th>workex</th>\n",
       "      <th></th>\n",
       "      <th></th>\n",
       "    </tr>\n",
       "  </thead>\n",
       "  <tbody>\n",
       "    <tr>\n",
       "      <th>No</th>\n",
       "      <td>57</td>\n",
       "      <td>84</td>\n",
       "    </tr>\n",
       "    <tr>\n",
       "      <th>Yes</th>\n",
       "      <td>10</td>\n",
       "      <td>64</td>\n",
       "    </tr>\n",
       "  </tbody>\n",
       "</table>\n",
       "</div>"
      ],
      "text/plain": [
       "status  Not Placed  Placed\n",
       "workex                    \n",
       "No              57      84\n",
       "Yes             10      64"
      ]
     },
     "execution_count": 13,
     "metadata": {},
     "output_type": "execute_result"
    }
   ],
   "source": [
    "df.groupby('workex')[\"status\"].value_counts().unstack()\n",
    "#now we would like to viualize the feature co relation with one another."
   ]
  },
  {
   "cell_type": "code",
   "execution_count": 14,
   "metadata": {
    "execution": {
     "iopub.execute_input": "2022-08-07T08:24:51.114541Z",
     "iopub.status.busy": "2022-08-07T08:24:51.114222Z",
     "iopub.status.idle": "2022-08-07T08:24:51.123587Z",
     "shell.execute_reply": "2022-08-07T08:24:51.122629Z",
     "shell.execute_reply.started": "2022-08-07T08:24:51.114518Z"
    }
   },
   "outputs": [],
   "source": [
    "df['status'] = df['status'].replace(['Placed'],1)\n",
    "df['status'] = df['status'].replace(['Not Placed'],0)\n",
    "\n",
    "df['gender'] = df['gender'].replace(['M'],1)\n",
    "df['gender'] = df['gender'].replace(['F'],0)"
   ]
  },
  {
   "cell_type": "code",
   "execution_count": 15,
   "metadata": {
    "execution": {
     "iopub.execute_input": "2022-08-07T08:24:52.576315Z",
     "iopub.status.busy": "2022-08-07T08:24:52.576009Z",
     "iopub.status.idle": "2022-08-07T08:24:53.011050Z",
     "shell.execute_reply": "2022-08-07T08:24:53.009603Z",
     "shell.execute_reply.started": "2022-08-07T08:24:52.576292Z"
    }
   },
   "outputs": [
    {
     "data": {
      "image/png": "[encoded data removed]",
      "text/plain": [
       "<Figure size 1080x720 with 2 Axes>"
      ]
     },
     "metadata": {
      "needs_background": "light"
     },
     "output_type": "display_data"
    }
   ],
   "source": [
    "fig, ax = plt.subplots(figsize=(15, 10))\n",
    "ax = sns.heatmap(df.corr(), annot = True)\n",
    " "
   ]
  },
  {
   "cell_type": "markdown",
   "metadata": {},
   "source": [
    "1.salary is highly corelated with mba_p and etest_p.\n",
    "\n",
    "2.mba_p is also corelated with etest_p as well as hsc_p and ssc  _p, but salary not so much.\n",
    "\n",
    "3.whether Placed or not depends mainly on ssc_p,hsc_p,degree_p.\n",
    "\n",
    "4. Status is not so dependent on gender but salary depends on gender.\n",
    "\n"
   ]
  },
  {
   "cell_type": "code",
   "execution_count": 16,
   "metadata": {
    "execution": {
     "iopub.execute_input": "2022-08-07T08:24:56.460169Z",
     "iopub.status.busy": "2022-08-07T08:24:56.459855Z",
     "iopub.status.idle": "2022-08-07T08:24:56.476366Z",
     "shell.execute_reply": "2022-08-07T08:24:56.474952Z",
     "shell.execute_reply.started": "2022-08-07T08:24:56.460145Z"
    }
   },
   "outputs": [],
   "source": [
    "df= pd.get_dummies(df[[\"sl_no\", \"gender\", \"ssc_p\",\"ssc_b\",\"hsc_p\",\"hsc_b\",\"hsc_s\",\"degree_p\",\"degree_t\",\"workex\",\"etest_p\",\"specialisation\",\"mba_p\",'status',\"salary\"]])\n",
    "#we have categorical values."
   ]
  },
  {
   "cell_type": "code",
   "execution_count": 17,
   "metadata": {
    "execution": {
     "iopub.execute_input": "2022-08-07T08:24:57.954764Z",
     "iopub.status.busy": "2022-08-07T08:24:57.954245Z",
     "iopub.status.idle": "2022-08-07T08:24:57.960392Z",
     "shell.execute_reply": "2022-08-07T08:24:57.959527Z",
     "shell.execute_reply.started": "2022-08-07T08:24:57.954736Z"
    }
   },
   "outputs": [],
   "source": [
    "# Splitting data into X and y we are tackling the problem whwther you will be placed or not.\n",
    "\n",
    "X = df.drop([\"sl_no\",\"status\",\"salary\"], axis=1)\n",
    "y = df[\"status\"]"
   ]
  },
  {
   "cell_type": "code",
   "execution_count": 18,
   "metadata": {
    "execution": {
     "iopub.execute_input": "2022-08-07T08:32:19.118125Z",
     "iopub.status.busy": "2022-08-07T08:32:19.117504Z",
     "iopub.status.idle": "2022-08-07T08:32:19.230038Z",
     "shell.execute_reply": "2022-08-07T08:32:19.229211Z",
     "shell.execute_reply.started": "2022-08-07T08:32:19.118099Z"
    }
   },
   "outputs": [
    {
     "data": {
      "text/plain": [
       "LogisticRegression(C=1.0, class_weight=None, dual=False, fit_intercept=True,\n",
       "                   intercept_scaling=1, l1_ratio=None, max_iter=1000,\n",
       "                   multi_class='auto', n_jobs=None, penalty='l2',\n",
       "                   random_state=None, solver='lbfgs', tol=0.0001, verbose=0,\n",
       "                   warm_start=False)"
      ]
     },
     "execution_count": 18,
     "metadata": {},
     "output_type": "execute_result"
    }
   ],
   "source": [
    "\n",
    "model1=LogisticRegression(max_iter=1000)\n",
    "X_train,X_test,y_train,y_test=train_test_split(X,y,random_state=0)\n",
    "model1.fit(X_train,y_train)"
   ]
  },
  {
   "cell_type": "code",
   "execution_count": 19,
   "metadata": {
    "execution": {
     "iopub.execute_input": "2022-08-07T08:38:44.153476Z",
     "iopub.status.busy": "2022-08-07T08:38:44.153173Z",
     "iopub.status.idle": "2022-08-07T08:38:44.167986Z",
     "shell.execute_reply": "2022-08-07T08:38:44.166443Z",
     "shell.execute_reply.started": "2022-08-07T08:38:44.153453Z"
    }
   },
   "outputs": [
    {
     "name": "stdout",
     "output_type": "stream",
     "text": [
      "[[11  6]\n",
      " [ 3 34]]\n"
     ]
    },
    {
     "data": {
      "text/plain": [
       "0.8333333333333334"
      ]
     },
     "execution_count": 19,
     "metadata": {},
     "output_type": "execute_result"
    }
   ],
   "source": [
    "y_preds=model1.predict(X_test)\n",
    "from sklearn.metrics import confusion_matrix\n",
    "conf_matrix_test=confusion_matrix(y_true=y_test,y_pred=y_preds)\n",
    "print(conf_matrix_test)\n",
    "model1.score(X_test,y_test)"
   ]
  },
  {
   "cell_type": "code",
   "execution_count": 20,
   "metadata": {
    "execution": {
     "iopub.execute_input": "2022-08-07T08:39:09.920091Z",
     "iopub.status.busy": "2022-08-07T08:39:09.919756Z",
     "iopub.status.idle": "2022-08-07T08:39:09.933025Z",
     "shell.execute_reply": "2022-08-07T08:39:09.931918Z",
     "shell.execute_reply.started": "2022-08-07T08:39:09.920068Z"
    }
   },
   "outputs": [
    {
     "name": "stdout",
     "output_type": "stream",
     "text": [
      "[[ 43   7]\n",
      " [  6 105]]\n"
     ]
    },
    {
     "data": {
      "text/plain": [
       "1.0"
      ]
     },
     "execution_count": 20,
     "metadata": {},
     "output_type": "execute_result"
    }
   ],
   "source": [
    "conf_matrix_train=confusion_matrix(y_true=y_train,y_pred=model1.predict(X_train))\n",
    "print(conf_matrix_train)\n",
    "model1.score(X_train,model1.predict(X_train))\n",
    "#if we allow logistic regression to converge it overfits the data same problem with Random forest.\n"
   ]
  },
  {
   "cell_type": "code",
   "execution_count": 21,
   "metadata": {
    "execution": {
     "iopub.execute_input": "2022-08-07T08:25:05.834544Z",
     "iopub.status.busy": "2022-08-07T08:25:05.834231Z",
     "iopub.status.idle": "2022-08-07T08:25:05.840926Z",
     "shell.execute_reply": "2022-08-07T08:25:05.839871Z",
     "shell.execute_reply.started": "2022-08-07T08:25:05.834520Z"
    }
   },
   "outputs": [],
   "source": [
    "# Split into train & test set\n",
    "X_train, X_test, y_train, y_test = train_test_split(X,y,test_size=0.3,random_state=0)              "
   ]
  },
  {
   "cell_type": "code",
   "execution_count": 22,
   "metadata": {
    "execution": {
     "iopub.execute_input": "2022-08-07T08:25:07.393170Z",
     "iopub.status.busy": "2022-08-07T08:25:07.392860Z",
     "iopub.status.idle": "2022-08-07T08:25:07.398505Z",
     "shell.execute_reply": "2022-08-07T08:25:07.397621Z",
     "shell.execute_reply.started": "2022-08-07T08:25:07.393145Z"
    }
   },
   "outputs": [],
   "source": [
    "# Put models in a dictionary\n",
    "models = {\"Logistic Regression\": LogisticRegression(),\n",
    "          \"KNN\": KNeighborsClassifier(),\n",
    "          \"Random Forest\": RandomForestClassifier(),\n",
    "          \"gnb\" : GaussianNB(),\n",
    "          \"decision_tree\" : DecisionTreeClassifier(random_state=0, max_depth=2)}"
   ]
  },
  {
   "cell_type": "code",
   "execution_count": 23,
   "metadata": {
    "execution": {
     "iopub.execute_input": "2022-08-07T08:25:08.574741Z",
     "iopub.status.busy": "2022-08-07T08:25:08.574387Z",
     "iopub.status.idle": "2022-08-07T08:25:08.582586Z",
     "shell.execute_reply": "2022-08-07T08:25:08.581537Z",
     "shell.execute_reply.started": "2022-08-07T08:25:08.574716Z"
    }
   },
   "outputs": [],
   "source": [
    "# Create a function to fit and score models\n",
    "def fit_and_score(models, X_train, X_test, y_train, y_test):   \n",
    "    # Make a dictionary to keep model scores\n",
    "    model_scores = {}\n",
    "    # Loop through models\n",
    "    for name, model in models.items():\n",
    "        # Fit the model to the data\n",
    "        model.fit(X_train, y_train)\n",
    "        # Evaluate the model and append its score to model_scores\n",
    "        model_scores[name] = model.score(X_test, y_test)\n",
    "    return model_scores"
   ]
  },
  {
   "cell_type": "code",
   "execution_count": 24,
   "metadata": {
    "execution": {
     "iopub.execute_input": "2022-08-07T08:25:10.198106Z",
     "iopub.status.busy": "2022-08-07T08:25:10.197816Z",
     "iopub.status.idle": "2022-08-07T08:25:10.368871Z",
     "shell.execute_reply": "2022-08-07T08:25:10.367940Z",
     "shell.execute_reply.started": "2022-08-07T08:25:10.198084Z"
    }
   },
   "outputs": [
    {
     "name": "stderr",
     "output_type": "stream",
     "text": [
      "C:\\Users\\DELL\\anaconda3\\lib\\site-packages\\sklearn\\linear_model\\_logistic.py:940: ConvergenceWarning: lbfgs failed to converge (status=1):\n",
      "STOP: TOTAL NO. of ITERATIONS REACHED LIMIT.\n",
      "\n",
      "Increase the number of iterations (max_iter) or scale the data as shown in:\n",
      "    https://scikit-learn.org/stable/modules/preprocessing.html\n",
      "Please also refer to the documentation for alternative solver options:\n",
      "    https://scikit-learn.org/stable/modules/linear_model.html#logistic-regression\n",
      "  extra_warning_msg=_LOGISTIC_SOLVER_CONVERGENCE_MSG)\n"
     ]
    },
    {
     "data": {
      "text/plain": [
       "{'Logistic Regression': 0.8461538461538461,\n",
       " 'KNN': 0.7846153846153846,\n",
       " 'Random Forest': 0.7846153846153846,\n",
       " 'gnb': 0.8307692307692308,\n",
       " 'decision_tree': 0.7538461538461538}"
      ]
     },
     "execution_count": 24,
     "metadata": {},
     "output_type": "execute_result"
    }
   ],
   "source": [
    "model_scores = fit_and_score(models=models,X_train=X_train,X_test=X_test,y_train=y_train,y_test=y_test)\n",
    "model_scores\n",
    "\n",
    " "
   ]
  },
  {
   "cell_type": "code",
   "execution_count": 25,
   "metadata": {
    "execution": {
     "iopub.execute_input": "2022-08-07T08:26:51.871735Z",
     "iopub.status.busy": "2022-08-07T08:26:51.871416Z",
     "iopub.status.idle": "2022-08-07T08:26:52.117546Z",
     "shell.execute_reply": "2022-08-07T08:26:52.116266Z",
     "shell.execute_reply.started": "2022-08-07T08:26:51.871711Z"
    }
   },
   "outputs": [
    {
     "name": "stderr",
     "output_type": "stream",
     "text": [
      "C:\\Users\\DELL\\anaconda3\\lib\\site-packages\\sklearn\\linear_model\\_logistic.py:940: ConvergenceWarning: lbfgs failed to converge (status=1):\n",
      "STOP: TOTAL NO. of ITERATIONS REACHED LIMIT.\n",
      "\n",
      "Increase the number of iterations (max_iter) or scale the data as shown in:\n",
      "    https://scikit-learn.org/stable/modules/preprocessing.html\n",
      "Please also refer to the documentation for alternative solver options:\n",
      "    https://scikit-learn.org/stable/modules/linear_model.html#logistic-regression\n",
      "  extra_warning_msg=_LOGISTIC_SOLVER_CONVERGENCE_MSG)\n"
     ]
    },
    {
     "data": {
      "text/plain": [
       "{'Logistic Regression': 0.9066666666666666,\n",
       " 'KNN': 0.9,\n",
       " 'Random Forest': 1.0,\n",
       " 'gnb': 0.8533333333333334,\n",
       " 'decision_tree': 0.8866666666666667}"
      ]
     },
     "execution_count": 25,
     "metadata": {},
     "output_type": "execute_result"
    }
   ],
   "source": [
    "model_scores = fit_and_score(models=models,X_train=X_train,X_test=X_train,y_train=y_train,y_test=y_train)\n",
    "model_scores\n",
    "#Checking overfitting\n"
   ]
  },
  {
   "cell_type": "code",
   "execution_count": 26,
   "metadata": {
    "execution": {
     "iopub.execute_input": "2022-08-07T08:25:16.099247Z",
     "iopub.status.busy": "2022-08-07T08:25:16.098945Z",
     "iopub.status.idle": "2022-08-07T08:25:16.225991Z",
     "shell.execute_reply": "2022-08-07T08:25:16.225404Z",
     "shell.execute_reply.started": "2022-08-07T08:25:16.099224Z"
    }
   },
   "outputs": [
    {
     "data": {
      "image/png": "[encoded data removed]",
      "text/plain": [
       "<Figure size 432x288 with 1 Axes>"
      ]
     },
     "metadata": {
      "needs_background": "light"
     },
     "output_type": "display_data"
    }
   ],
   "source": [
    "model_compare = pd.DataFrame(model_scores, index=[\"accuracy\"])\n",
    "model_compare.T.plot.bar(title=\"Score\");"
   ]
  },
  {
   "cell_type": "markdown",
   "metadata": {},
   "source": [
    "#Feature Importance for getting Placed"
   ]
  },
  {
   "cell_type": "code",
   "execution_count": 27,
   "metadata": {
    "execution": {
     "iopub.execute_input": "2022-08-07T08:40:11.921210Z",
     "iopub.status.busy": "2022-08-07T08:40:11.920884Z",
     "iopub.status.idle": "2022-08-07T08:40:11.933406Z",
     "shell.execute_reply": "2022-08-07T08:40:11.932705Z",
     "shell.execute_reply.started": "2022-08-07T08:40:11.921187Z"
    }
   },
   "outputs": [
    {
     "name": "stdout",
     "output_type": "stream",
     "text": [
      "[[ 0.1444417   0.22005514  0.09599851  0.06057507 -0.06940689 -0.28398167\n",
      "  -0.20864054  0.02876432 -0.13757324 -0.04230298  0.13072145 -0.35092136\n",
      "   0.04032368  0.11104349 -0.10139217 -0.18952754 -0.68211265  0.50223642\n",
      "   0.14683752 -0.32671374]]\n"
     ]
    },
    {
     "data": {
      "text/plain": [
       "array([0, 1, 1, 0, 1, 0, 1, 1, 1, 1, 1, 1, 1, 1, 0, 0, 1, 0, 0, 1, 0, 1,\n",
       "       1, 1, 0, 0, 1, 1, 1, 1, 1, 1, 1, 0, 0, 1, 1, 1, 1, 1, 0, 1, 1, 1,\n",
       "       1, 0, 1, 1, 1, 1, 1, 1, 1, 1, 1, 0, 1, 1, 1, 0, 1, 1, 1, 1, 1],\n",
       "      dtype=int64)"
      ]
     },
     "execution_count": 27,
     "metadata": {},
     "output_type": "execute_result"
    }
   ],
   "source": [
    "# Finding constants LogisticRegression\n",
    "modelSelected= LogisticRegression(C=0.20433597178569418,\n",
    "                         solver=\"liblinear\")\n",
    "\n",
    "modelSelected.fit(X_train, y_train);\n",
    "print(modelSelected.coef_)\n",
    "\n",
    "y_pred = modelSelected.predict(X_test)\n",
    "y_pred\n"
   ]
  },
  {
   "cell_type": "code",
   "execution_count": 28,
   "metadata": {
    "execution": {
     "iopub.execute_input": "2022-08-07T08:41:05.249385Z",
     "iopub.status.busy": "2022-08-07T08:41:05.249068Z",
     "iopub.status.idle": "2022-08-07T08:41:05.255900Z",
     "shell.execute_reply": "2022-08-07T08:41:05.255075Z",
     "shell.execute_reply.started": "2022-08-07T08:41:05.249360Z"
    }
   },
   "outputs": [
    {
     "data": {
      "text/plain": [
       "{'gender': 0.14444170470553613,\n",
       " 'ssc_p': 0.22005514252480043,\n",
       " 'hsc_p': 0.09599850999442483,\n",
       " 'degree_p': 0.06057507121068544,\n",
       " 'etest_p': -0.06940688609786852,\n",
       " 'mba_p': -0.28398167235899907,\n",
       " 'ssc_b_Central': -0.20864054339715737,\n",
       " 'ssc_b_Others': 0.0287643209523408,\n",
       " 'hsc_b_Central': -0.1375732441606094,\n",
       " 'hsc_b_Others': -0.04230297828420785,\n",
       " 'hsc_s_Arts': 0.13072145226368959,\n",
       " 'hsc_s_Commerce': -0.35092135919053974,\n",
       " 'hsc_s_Science': 0.04032368448203335,\n",
       " 'degree_t_Comm&Mgmt': 0.11104348831671554,\n",
       " 'degree_t_Others': -0.10139217093546866,\n",
       " 'degree_t_Sci&Tech': -0.1895275398260641,\n",
       " 'workex_No': -0.6821126457436327,\n",
       " 'workex_Yes': 0.5022364232988163,\n",
       " 'specialisation_Mkt&Fin': 0.1468375162586391,\n",
       " 'specialisation_Mkt&HR': -0.3267137387034558}"
      ]
     },
     "execution_count": 28,
     "metadata": {},
     "output_type": "execute_result"
    }
   ],
   "source": [
    "# Match coef's of features to columns\n",
    "feature_dict = dict(zip(X.columns, list(modelSelected.coef_[0])))\n",
    "feature_dict"
   ]
  },
  {
   "cell_type": "code",
   "execution_count": 29,
   "metadata": {
    "execution": {
     "iopub.execute_input": "2022-08-07T08:41:11.312848Z",
     "iopub.status.busy": "2022-08-07T08:41:11.312052Z",
     "iopub.status.idle": "2022-08-07T08:41:11.513096Z",
     "shell.execute_reply": "2022-08-07T08:41:11.512282Z",
     "shell.execute_reply.started": "2022-08-07T08:41:11.312813Z"
    }
   },
   "outputs": [
    {
     "data": {
      "image/png": "[encoded data removed]",
      "text/plain": [
       "<Figure size 432x288 with 1 Axes>"
      ]
     },
     "metadata": {
      "needs_background": "light"
     },
     "output_type": "display_data"
    }
   ],
   "source": [
    "# Visualize feature importance\n",
    "feature_df = pd.DataFrame(feature_dict, index=[0])\n",
    "feature_df.T.plot.bar(title=\"Feature Importance\", legend=False);\n"
   ]
  },
  {
   "cell_type": "code",
   "execution_count": 30,
   "metadata": {
    "execution": {
     "iopub.execute_input": "2022-08-07T08:41:25.270220Z",
     "iopub.status.busy": "2022-08-07T08:41:25.269029Z",
     "iopub.status.idle": "2022-08-07T08:41:25.461281Z",
     "shell.execute_reply": "2022-08-07T08:41:25.460452Z",
     "shell.execute_reply.started": "2022-08-07T08:41:25.270191Z"
    }
   },
   "outputs": [
    {
     "data": {
      "text/plain": [
       "<matplotlib.legend.Legend at 0x1723ca49188>"
      ]
     },
     "execution_count": 30,
     "metadata": {},
     "output_type": "execute_result"
    },
    {
     "data": {
      "image/png": "[encoded data removed]",
      "text/plain": [
       "<Figure size 720x432 with 1 Axes>"
      ]
     },
     "metadata": {
      "needs_background": "light"
     },
     "output_type": "display_data"
    }
   ],
   "source": [
    "plt.figure(figsize=(10, 6))\n",
    "\n",
    "# Scatter with postivie examples\n",
    "plt.scatter(df.ssc_p[df.status==1],\n",
    "            df.degree_p[df.status==1],\n",
    "            c=\"salmon\")\n",
    "\n",
    "# Scatter with negative examples\n",
    "plt.scatter(df.ssc_p[df.status==0],\n",
    "            df.degree_p[df.status==0],\n",
    "            c=\"lightblue\")\n",
    "\n",
    "\n",
    "plt.title(\"Comparison of ssc % and degree %  with status \")\n",
    "plt.xlabel(\"secondary exam  score in % (ssc_p)\")\n",
    "plt.ylabel(\"Degree score in % (degree_p)\")\n",
    "plt.legend([\"Placed\", \"Not Placed\"])"
   ]
  },
  {
   "cell_type": "code",
   "execution_count": 31,
   "metadata": {
    "execution": {
     "iopub.execute_input": "2022-08-07T08:41:26.930125Z",
     "iopub.status.busy": "2022-08-07T08:41:26.929832Z",
     "iopub.status.idle": "2022-08-07T08:41:27.122276Z",
     "shell.execute_reply": "2022-08-07T08:41:27.120973Z",
     "shell.execute_reply.started": "2022-08-07T08:41:26.930100Z"
    }
   },
   "outputs": [
    {
     "data": {
      "image/png": "[encoded data removed]",
      "text/plain": [
       "<Figure size 720x432 with 1 Axes>"
      ]
     },
     "metadata": {
      "needs_background": "light"
     },
     "output_type": "display_data"
    }
   ],
   "source": [
    "plt.figure(figsize=(10, 6))\n",
    "\n",
    "# Scatter with postivie examples\n",
    "plt.scatter(df.ssc_p[df.status==1],\n",
    "            df.hsc_p[df.status==1],\n",
    "            c=\"salmon\")\n",
    "\n",
    "# Scatter with negative examples\n",
    "plt.scatter(df.ssc_p[df.status==0],\n",
    "            df.hsc_p[df.status==0],\n",
    "            c=\"lightblue\")\n",
    "\n",
    "\n",
    "plt.title(\"Comparison of ssc % and hsc %  with status \")\n",
    "plt.xlabel(\"secondary exam  score in % (ssc_p)\")\n",
    "plt.ylabel(\"higher secondary score in % (hsc_p)\")\n",
    "plt.legend([\"Placed\", \"Not Placed\"]);"
   ]
  },
  {
   "cell_type": "markdown",
   "metadata": {
    "execution": {
     "iopub.execute_input": "2022-08-06T10:23:56.151967Z",
     "iopub.status.busy": "2022-08-06T10:23:56.151049Z",
     "iopub.status.idle": "2022-08-06T10:23:56.155982Z",
     "shell.execute_reply": "2022-08-06T10:23:56.154826Z",
     "shell.execute_reply.started": "2022-08-06T10:23:56.151939Z"
    }
   },
   "source": [
    "#From above data we can say that people with work experience have 86% ( 64 placed out of 74) of getting placed"
   ]
  },
  {
   "cell_type": "code",
   "execution_count": 32,
   "metadata": {
    "execution": {
     "iopub.execute_input": "2022-08-07T08:41:36.631920Z",
     "iopub.status.busy": "2022-08-07T08:41:36.631612Z",
     "iopub.status.idle": "2022-08-07T08:41:36.736418Z",
     "shell.execute_reply": "2022-08-07T08:41:36.735737Z",
     "shell.execute_reply.started": "2022-08-07T08:41:36.631897Z"
    }
   },
   "outputs": [
    {
     "data": {
      "image/png": "[encoded data removed]",
      "text/plain": [
       "<Figure size 216x216 with 1 Axes>"
      ]
     },
     "metadata": {},
     "output_type": "display_data"
    }
   ],
   "source": [
    "sns.set(font_scale=1.5)\n",
    "\n",
    "def plot_conf_mat(y_test, y_pred):\n",
    "    fig, ax = plt.subplots(figsize=(3, 3))\n",
    "    ax = sns.heatmap(confusion_matrix(y_test, y_pred),annot=True,cbar=False)\n",
    "    plt.xlabel(\"True label\")\n",
    "    plt.ylabel(\"Predicted label\")\n",
    "    \n",
    "    bottom, top = ax.get_ylim()\n",
    "    ax.set_ylim(bottom + 0.5, top - 0.5)\n",
    "    \n",
    "plot_conf_mat(y_test, y_pred)"
   ]
  },
  {
   "cell_type": "code",
   "execution_count": null,
   "metadata": {},
   "outputs": [],
   "source": []
  }
 ],
 "metadata": {
  "kernelspec": {
   "display_name": "Python 3",
   "language": "python",
   "name": "python3"
  },
  "language_info": {
   "codemirror_mode": {
    "name": "ipython",
    "version": 3
   },
   "file_extension": ".py",
   "mimetype": "text/x-python",
   "name": "python",
   "nbconvert_exporter": "python",
   "pygments_lexer": "ipython3",
   "version": "3.7.6"
  }
 },
 "nbformat": 4,
 "nbformat_minor": 4
}
