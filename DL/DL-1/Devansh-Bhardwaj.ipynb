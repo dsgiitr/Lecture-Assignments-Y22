{
 "cells": [
  {
   "cell_type": "code",
   "execution_count": 1,
   "metadata": {
    "id": "DSn2qGqdhIxk"
   },
   "outputs": [],
   "source": [
    "import torch\n",
    "import torch.nn as nn\n",
    "import torchvision\n",
    "import torchvision.transforms as transforms\n",
    "import matplotlib.pyplot as plt\n",
    "import pandas as pd\n",
    "import numpy as np\n",
    "\n",
    "# Device configuration\n",
    "device = torch.device('cuda' if torch.cuda.is_available() else 'cpu')\n",
    "df = pd.read_csv('train.csv')"
   ]
  },
  {
   "cell_type": "code",
   "execution_count": 2,
   "metadata": {
    "id": "nVRtMF4YCu9U"
   },
   "outputs": [],
   "source": [
    "n_features = df.shape[1]-1\n",
    "n_examples = df.shape[0]\n",
    "h1 = 500\n",
    "h2 = 100\n",
    "num_classes = 10\n",
    "lr = 0.001\n",
    "num_epochs = 10\n",
    "batch_size = 140"
   ]
  },
  {
   "cell_type": "code",
   "execution_count": 3,
   "metadata": {
    "colab": {
     "base_uri": "https://localhost:8080/"
    },
    "id": "Ga2Tln3HNMNA",
    "outputId": "67668832-cfaa-423f-de1c-aecad5204760"
   },
   "outputs": [
    {
     "name": "stdout",
     "output_type": "stream",
     "text": [
      "(42000, 785)\n"
     ]
    }
   ],
   "source": [
    "print(df.shape)"
   ]
  },
  {
   "cell_type": "code",
   "execution_count": 4,
   "metadata": {
    "id": "GMHAafkrDROw"
   },
   "outputs": [],
   "source": [
    "df_train = df.sample(frac=0.75)\n",
    "df_test = df.drop(df_train.index)"
   ]
  },
  {
   "cell_type": "code",
   "execution_count": 5,
   "metadata": {
    "id": "jsDR8tupFs7a"
   },
   "outputs": [],
   "source": [
    "train_target = torch.tensor(df_train['label'].values.astype(np.float32))\n",
    "train_features = torch.tensor(df_train.drop(['label'],axis=1).values.astype(np.float32)) \n",
    "train_tensor = torch.utils.data.TensorDataset(train_target,train_features) \n",
    "train_loader = torch.utils.data.DataLoader(dataset = train_tensor, batch_size = batch_size, shuffle = True)"
   ]
  },
  {
   "cell_type": "code",
   "execution_count": 6,
   "metadata": {
    "id": "MFyf8ijEi18I"
   },
   "outputs": [],
   "source": [
    "test_target = torch.tensor(df_test['label'].values.astype(np.float32))\n",
    "test_features = torch.tensor(df_test.drop(['label'],axis=1).values.astype(np.float32)) \n",
    "test_tensor = torch.utils.data.TensorDataset(test_target,test_features) \n",
    "test_loader = torch.utils.data.DataLoader(dataset = test_tensor, batch_size = batch_size, shuffle = True)"
   ]
  },
  {
   "cell_type": "code",
   "execution_count": 7,
   "metadata": {
    "id": "h3McDTtGEp19"
   },
   "outputs": [],
   "source": [
    "class NeuralNet(nn.Module):\n",
    "    def __init__(self, input_size, hidden_size, num_classes):\n",
    "        super(NeuralNet, self).__init__()\n",
    "        self.input_size = input_size\n",
    "        self.l1 = nn.Linear(input_size, h1) \n",
    "        self.relu = nn.ReLU()\n",
    "#         self.l2 = nn.Linear(h1, h2)\n",
    "#         self.relu = nn.ReLU()\n",
    "        self.l3 = nn.Linear(h1,num_classes)  \n",
    "    \n",
    "    def forward(self, x):\n",
    "        out = self.l1(x)\n",
    "        out = self.relu(out)\n",
    "#         out = self.l2(out)\n",
    "#         out = self.relu(out)\n",
    "        out = self.l3(out)\n",
    "        return out"
   ]
  },
  {
   "cell_type": "code",
   "execution_count": 8,
   "metadata": {
    "id": "gV76kA2rE1xm"
   },
   "outputs": [],
   "source": [
    "model = {\n",
    "    'Adam' : NeuralNet(n_features, h1, num_classes).to(device),\n",
    "    'SGD' : NeuralNet(n_features, h1, num_classes).to(device)\n",
    "}\n",
    "\n",
    "# Loss and optimizer\n",
    "criterion = nn.CrossEntropyLoss()"
   ]
  },
  {
   "cell_type": "code",
   "execution_count": 9,
   "metadata": {
    "colab": {
     "base_uri": "https://localhost:8080/"
    },
    "id": "ysgER3w_mlLZ",
    "outputId": "188bbbe6-0ba8-4234-87fb-b9ec82e8f4c8"
   },
   "outputs": [],
   "source": [
    "def accuracy(loader,model):\n",
    "    with torch.no_grad():\n",
    "        n_correct = 0\n",
    "        n_samples = 0\n",
    "        for labels,images in loader:\n",
    "            images = images.to(device)\n",
    "            labels = labels.to(device)\n",
    "            outputs = model(images)\n",
    "            _, predicted = torch.max(outputs.data, 1)\n",
    "            n_samples += labels.size(0)\n",
    "            n_correct += (predicted == labels).sum().item()\n",
    "        acc = 100.0 * n_correct / n_samples\n",
    "    return acc"
   ]
  },
  {
   "cell_type": "code",
   "execution_count": 10,
   "metadata": {
    "id": "1xl9VgBKGJgP"
   },
   "outputs": [
    {
     "name": "stdout",
     "output_type": "stream",
     "text": [
      "Epoch [0], Optimizer [Adam], Training accuracy: 95.1968253968254\n",
      "Epoch [0], Optimizer [Adam], Test accuracy: 93.2\n",
      "Epoch [1], Optimizer [Adam], Training accuracy: 97.43174603174603\n",
      "Epoch [1], Optimizer [Adam], Test accuracy: 94.77142857142857\n",
      "Epoch [2], Optimizer [Adam], Training accuracy: 97.70793650793651\n",
      "Epoch [2], Optimizer [Adam], Test accuracy: 94.96190476190476\n",
      "Epoch [3], Optimizer [Adam], Training accuracy: 98.35555555555555\n",
      "Epoch [3], Optimizer [Adam], Test accuracy: 95.47619047619048\n",
      "Epoch [4], Optimizer [Adam], Training accuracy: 98.70793650793651\n",
      "Epoch [4], Optimizer [Adam], Test accuracy: 96.13333333333334\n",
      "Epoch [5], Optimizer [Adam], Training accuracy: 98.01904761904763\n",
      "Epoch [5], Optimizer [Adam], Test accuracy: 95.3047619047619\n",
      "Epoch [6], Optimizer [Adam], Training accuracy: 97.88888888888889\n",
      "Epoch [6], Optimizer [Adam], Test accuracy: 95.41904761904762\n",
      "Epoch [7], Optimizer [Adam], Training accuracy: 98.18730158730159\n",
      "Epoch [7], Optimizer [Adam], Test accuracy: 95.65714285714286\n",
      "Epoch [8], Optimizer [Adam], Training accuracy: 98.07936507936508\n",
      "Epoch [8], Optimizer [Adam], Test accuracy: 95.4\n",
      "Epoch [9], Optimizer [Adam], Training accuracy: 98.21587301587302\n",
      "Epoch [9], Optimizer [Adam], Test accuracy: 95.65714285714286\n",
      "Epoch [0], Optimizer [SGD], Training accuracy: 93.2063492063492\n",
      "Epoch [0], Optimizer [SGD], Test accuracy: 90.86666666666666\n",
      "Epoch [1], Optimizer [SGD], Training accuracy: 95.86984126984127\n",
      "Epoch [1], Optimizer [SGD], Test accuracy: 92.6\n",
      "Epoch [2], Optimizer [SGD], Training accuracy: 97.13650793650794\n",
      "Epoch [2], Optimizer [SGD], Test accuracy: 93.5047619047619\n",
      "Epoch [3], Optimizer [SGD], Training accuracy: 97.88253968253969\n",
      "Epoch [3], Optimizer [SGD], Test accuracy: 93.88571428571429\n",
      "Epoch [4], Optimizer [SGD], Training accuracy: 98.63809523809523\n",
      "Epoch [4], Optimizer [SGD], Test accuracy: 94.26666666666667\n",
      "Epoch [5], Optimizer [SGD], Training accuracy: 99.05396825396825\n",
      "Epoch [5], Optimizer [SGD], Test accuracy: 94.32380952380953\n",
      "Epoch [6], Optimizer [SGD], Training accuracy: 99.36190476190477\n",
      "Epoch [6], Optimizer [SGD], Test accuracy: 94.52380952380952\n",
      "Epoch [7], Optimizer [SGD], Training accuracy: 99.51746031746032\n",
      "Epoch [7], Optimizer [SGD], Test accuracy: 94.62857142857143\n",
      "Epoch [8], Optimizer [SGD], Training accuracy: 99.63174603174603\n",
      "Epoch [8], Optimizer [SGD], Test accuracy: 94.67619047619047\n",
      "Epoch [9], Optimizer [SGD], Training accuracy: 99.7015873015873\n",
      "Epoch [9], Optimizer [SGD], Test accuracy: 94.77142857142857\n"
     ]
    }
   ],
   "source": [
    "n_total_steps = len(train_loader)\n",
    "d = {\n",
    "    \"Adam\" : torch.optim.Adam(model['Adam'].parameters(), lr=lr),\n",
    "    \"SGD\"  : torch.optim.SGD(model['SGD'].parameters(), lr=lr)\n",
    "}\n",
    "for optm in d :\n",
    "    optimizer = d[optm]\n",
    "    for epoch in range(num_epochs):\n",
    "        for i, (labels,images) in enumerate(train_loader):  \n",
    "            images = images.to(device)\n",
    "            labels = labels.to(device).long()\n",
    "        \n",
    "        # Forward pass\n",
    "            outputs = model[optm](images)\n",
    "            loss = criterion(outputs, labels)\n",
    "        # Backward and optimize\n",
    "            optimizer.zero_grad()\n",
    "            loss.backward()\n",
    "            optimizer.step()\n",
    "        test_accuracy = accuracy(test_loader,model[optm])\n",
    "        train_accuracy = accuracy(train_loader,model[optm])\n",
    "        print (f'Epoch [{epoch}], Optimizer [{optm}], Training accuracy: {train_accuracy}')\n",
    "        print (f'Epoch [{epoch}], Optimizer [{optm}], Test accuracy: {test_accuracy}')\n",
    "    "
   ]
  }
 ],
 "metadata": {
  "colab": {
   "name": "Untitled2.ipynb",
   "provenance": []
  },
  "kernelspec": {
   "display_name": "Python 3 (ipykernel)",
   "language": "python",
   "name": "python3"
  },
  "language_info": {
   "codemirror_mode": {
    "name": "ipython",
    "version": 3
   },
   "file_extension": ".py",
   "mimetype": "text/x-python",
   "name": "python",
   "nbconvert_exporter": "python",
   "pygments_lexer": "ipython3",
   "version": "3.9.7"
  }
 },
 "nbformat": 4,
 "nbformat_minor": 1
}
