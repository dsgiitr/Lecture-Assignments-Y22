{
 "cells": [
  {
   "cell_type": "markdown",
   "metadata": {
    "id": "e4RnlALYiTfX"
   },
   "source": [
    "\n",
    "<h1 style=\"text-align:center\">Neural Network Assignment</h1>\n",
    "\n",
    "\n"
   ]
  },
  {
   "cell_type": "markdown",
   "metadata": {},
   "source": [
    "<h4 style=\"text-align: right;\">By Aryan Gupta</h4>"
   ]
  },
  {
   "cell_type": "code",
   "execution_count": 142,
   "metadata": {
    "id": "deqY5veipVHN"
   },
   "outputs": [],
   "source": [
    "# importing packages\n",
    "\n",
    "import torch\n",
    "import torch.nn as nn\n",
    "import matplotlib.pyplot as plt\n",
    "from torch.utils.tensorboard import SummaryWriter\n",
    "writer = SummaryWriter(\"runs/mnist_SGD\")# device configuration\n",
    "device = torch.device(\"cuda\" if torch.cuda.is_available() else \"cpu\")\n",
    "\n",
    "# hyperparameters\n",
    "input_size = 28*28 #784\n",
    "hidden_size = 250\n",
    "num_of_classes = 10\n",
    "num_epochs = 5\n",
    "batch_size = 100\n",
    "learning_rate =0.001"
   ]
  },
  {
   "cell_type": "code",
   "execution_count": 143,
   "metadata": {
    "id": "cqsq5YQV9Ywn"
   },
   "outputs": [],
   "source": [
    "import pandas as pd\n",
    "df = pd.read_csv(\"./train.csv\")"
   ]
  },
  {
   "cell_type": "code",
   "execution_count": 144,
   "metadata": {
    "colab": {
     "base_uri": "https://localhost:8080/"
    },
    "id": "_hfrnew39o5k",
    "outputId": "b69026b9-19b5-4b49-a791-4575f29ff920"
   },
   "outputs": [
    {
     "data": {
      "text/plain": [
       "label       0\n",
       "pixel0      0\n",
       "pixel1      0\n",
       "pixel2      0\n",
       "pixel3      0\n",
       "           ..\n",
       "pixel779    0\n",
       "pixel780    0\n",
       "pixel781    0\n",
       "pixel782    0\n",
       "pixel783    0\n",
       "Length: 785, dtype: int64"
      ]
     },
     "execution_count": 144,
     "metadata": {},
     "output_type": "execute_result"
    }
   ],
   "source": [
    "df.isnull().sum()"
   ]
  },
  {
   "cell_type": "code",
   "execution_count": 145,
   "metadata": {
    "colab": {
     "base_uri": "https://localhost:8080/",
     "height": 394
    },
    "id": "zzCr_cY8G7e8",
    "outputId": "c7f91ff9-d01d-4ffe-91a1-e2d9f44a8628"
   },
   "outputs": [
    {
     "data": {
      "text/html": [
       "<div>\n",
       "<style scoped>\n",
       "    .dataframe tbody tr th:only-of-type {\n",
       "        vertical-align: middle;\n",
       "    }\n",
       "\n",
       "    .dataframe tbody tr th {\n",
       "        vertical-align: top;\n",
       "    }\n",
       "\n",
       "    .dataframe thead th {\n",
       "        text-align: right;\n",
       "    }\n",
       "</style>\n",
       "<table border=\"1\" class=\"dataframe\">\n",
       "  <thead>\n",
       "    <tr style=\"text-align: right;\">\n",
       "      <th></th>\n",
       "      <th>label</th>\n",
       "      <th>pixel0</th>\n",
       "      <th>pixel1</th>\n",
       "      <th>pixel2</th>\n",
       "      <th>pixel3</th>\n",
       "      <th>pixel4</th>\n",
       "      <th>pixel5</th>\n",
       "      <th>pixel6</th>\n",
       "      <th>pixel7</th>\n",
       "      <th>pixel8</th>\n",
       "      <th>...</th>\n",
       "      <th>pixel774</th>\n",
       "      <th>pixel775</th>\n",
       "      <th>pixel776</th>\n",
       "      <th>pixel777</th>\n",
       "      <th>pixel778</th>\n",
       "      <th>pixel779</th>\n",
       "      <th>pixel780</th>\n",
       "      <th>pixel781</th>\n",
       "      <th>pixel782</th>\n",
       "      <th>pixel783</th>\n",
       "    </tr>\n",
       "  </thead>\n",
       "  <tbody>\n",
       "    <tr>\n",
       "      <th>count</th>\n",
       "      <td>42000.000000</td>\n",
       "      <td>42000.0</td>\n",
       "      <td>42000.0</td>\n",
       "      <td>42000.0</td>\n",
       "      <td>42000.0</td>\n",
       "      <td>42000.0</td>\n",
       "      <td>42000.0</td>\n",
       "      <td>42000.0</td>\n",
       "      <td>42000.0</td>\n",
       "      <td>42000.0</td>\n",
       "      <td>...</td>\n",
       "      <td>42000.000000</td>\n",
       "      <td>42000.000000</td>\n",
       "      <td>42000.000000</td>\n",
       "      <td>42000.00000</td>\n",
       "      <td>42000.000000</td>\n",
       "      <td>42000.000000</td>\n",
       "      <td>42000.0</td>\n",
       "      <td>42000.0</td>\n",
       "      <td>42000.0</td>\n",
       "      <td>42000.0</td>\n",
       "    </tr>\n",
       "    <tr>\n",
       "      <th>mean</th>\n",
       "      <td>4.456643</td>\n",
       "      <td>0.0</td>\n",
       "      <td>0.0</td>\n",
       "      <td>0.0</td>\n",
       "      <td>0.0</td>\n",
       "      <td>0.0</td>\n",
       "      <td>0.0</td>\n",
       "      <td>0.0</td>\n",
       "      <td>0.0</td>\n",
       "      <td>0.0</td>\n",
       "      <td>...</td>\n",
       "      <td>0.219286</td>\n",
       "      <td>0.117095</td>\n",
       "      <td>0.059024</td>\n",
       "      <td>0.02019</td>\n",
       "      <td>0.017238</td>\n",
       "      <td>0.002857</td>\n",
       "      <td>0.0</td>\n",
       "      <td>0.0</td>\n",
       "      <td>0.0</td>\n",
       "      <td>0.0</td>\n",
       "    </tr>\n",
       "    <tr>\n",
       "      <th>std</th>\n",
       "      <td>2.887730</td>\n",
       "      <td>0.0</td>\n",
       "      <td>0.0</td>\n",
       "      <td>0.0</td>\n",
       "      <td>0.0</td>\n",
       "      <td>0.0</td>\n",
       "      <td>0.0</td>\n",
       "      <td>0.0</td>\n",
       "      <td>0.0</td>\n",
       "      <td>0.0</td>\n",
       "      <td>...</td>\n",
       "      <td>6.312890</td>\n",
       "      <td>4.633819</td>\n",
       "      <td>3.274488</td>\n",
       "      <td>1.75987</td>\n",
       "      <td>1.894498</td>\n",
       "      <td>0.414264</td>\n",
       "      <td>0.0</td>\n",
       "      <td>0.0</td>\n",
       "      <td>0.0</td>\n",
       "      <td>0.0</td>\n",
       "    </tr>\n",
       "    <tr>\n",
       "      <th>min</th>\n",
       "      <td>0.000000</td>\n",
       "      <td>0.0</td>\n",
       "      <td>0.0</td>\n",
       "      <td>0.0</td>\n",
       "      <td>0.0</td>\n",
       "      <td>0.0</td>\n",
       "      <td>0.0</td>\n",
       "      <td>0.0</td>\n",
       "      <td>0.0</td>\n",
       "      <td>0.0</td>\n",
       "      <td>...</td>\n",
       "      <td>0.000000</td>\n",
       "      <td>0.000000</td>\n",
       "      <td>0.000000</td>\n",
       "      <td>0.00000</td>\n",
       "      <td>0.000000</td>\n",
       "      <td>0.000000</td>\n",
       "      <td>0.0</td>\n",
       "      <td>0.0</td>\n",
       "      <td>0.0</td>\n",
       "      <td>0.0</td>\n",
       "    </tr>\n",
       "    <tr>\n",
       "      <th>25%</th>\n",
       "      <td>2.000000</td>\n",
       "      <td>0.0</td>\n",
       "      <td>0.0</td>\n",
       "      <td>0.0</td>\n",
       "      <td>0.0</td>\n",
       "      <td>0.0</td>\n",
       "      <td>0.0</td>\n",
       "      <td>0.0</td>\n",
       "      <td>0.0</td>\n",
       "      <td>0.0</td>\n",
       "      <td>...</td>\n",
       "      <td>0.000000</td>\n",
       "      <td>0.000000</td>\n",
       "      <td>0.000000</td>\n",
       "      <td>0.00000</td>\n",
       "      <td>0.000000</td>\n",
       "      <td>0.000000</td>\n",
       "      <td>0.0</td>\n",
       "      <td>0.0</td>\n",
       "      <td>0.0</td>\n",
       "      <td>0.0</td>\n",
       "    </tr>\n",
       "    <tr>\n",
       "      <th>50%</th>\n",
       "      <td>4.000000</td>\n",
       "      <td>0.0</td>\n",
       "      <td>0.0</td>\n",
       "      <td>0.0</td>\n",
       "      <td>0.0</td>\n",
       "      <td>0.0</td>\n",
       "      <td>0.0</td>\n",
       "      <td>0.0</td>\n",
       "      <td>0.0</td>\n",
       "      <td>0.0</td>\n",
       "      <td>...</td>\n",
       "      <td>0.000000</td>\n",
       "      <td>0.000000</td>\n",
       "      <td>0.000000</td>\n",
       "      <td>0.00000</td>\n",
       "      <td>0.000000</td>\n",
       "      <td>0.000000</td>\n",
       "      <td>0.0</td>\n",
       "      <td>0.0</td>\n",
       "      <td>0.0</td>\n",
       "      <td>0.0</td>\n",
       "    </tr>\n",
       "    <tr>\n",
       "      <th>75%</th>\n",
       "      <td>7.000000</td>\n",
       "      <td>0.0</td>\n",
       "      <td>0.0</td>\n",
       "      <td>0.0</td>\n",
       "      <td>0.0</td>\n",
       "      <td>0.0</td>\n",
       "      <td>0.0</td>\n",
       "      <td>0.0</td>\n",
       "      <td>0.0</td>\n",
       "      <td>0.0</td>\n",
       "      <td>...</td>\n",
       "      <td>0.000000</td>\n",
       "      <td>0.000000</td>\n",
       "      <td>0.000000</td>\n",
       "      <td>0.00000</td>\n",
       "      <td>0.000000</td>\n",
       "      <td>0.000000</td>\n",
       "      <td>0.0</td>\n",
       "      <td>0.0</td>\n",
       "      <td>0.0</td>\n",
       "      <td>0.0</td>\n",
       "    </tr>\n",
       "    <tr>\n",
       "      <th>max</th>\n",
       "      <td>9.000000</td>\n",
       "      <td>0.0</td>\n",
       "      <td>0.0</td>\n",
       "      <td>0.0</td>\n",
       "      <td>0.0</td>\n",
       "      <td>0.0</td>\n",
       "      <td>0.0</td>\n",
       "      <td>0.0</td>\n",
       "      <td>0.0</td>\n",
       "      <td>0.0</td>\n",
       "      <td>...</td>\n",
       "      <td>254.000000</td>\n",
       "      <td>254.000000</td>\n",
       "      <td>253.000000</td>\n",
       "      <td>253.00000</td>\n",
       "      <td>254.000000</td>\n",
       "      <td>62.000000</td>\n",
       "      <td>0.0</td>\n",
       "      <td>0.0</td>\n",
       "      <td>0.0</td>\n",
       "      <td>0.0</td>\n",
       "    </tr>\n",
       "  </tbody>\n",
       "</table>\n",
       "<p>8 rows × 785 columns</p>\n",
       "</div>"
      ],
      "text/plain": [
       "              label   pixel0   pixel1   pixel2   pixel3   pixel4   pixel5  \\\n",
       "count  42000.000000  42000.0  42000.0  42000.0  42000.0  42000.0  42000.0   \n",
       "mean       4.456643      0.0      0.0      0.0      0.0      0.0      0.0   \n",
       "std        2.887730      0.0      0.0      0.0      0.0      0.0      0.0   \n",
       "min        0.000000      0.0      0.0      0.0      0.0      0.0      0.0   \n",
       "25%        2.000000      0.0      0.0      0.0      0.0      0.0      0.0   \n",
       "50%        4.000000      0.0      0.0      0.0      0.0      0.0      0.0   \n",
       "75%        7.000000      0.0      0.0      0.0      0.0      0.0      0.0   \n",
       "max        9.000000      0.0      0.0      0.0      0.0      0.0      0.0   \n",
       "\n",
       "        pixel6   pixel7   pixel8  ...      pixel774      pixel775  \\\n",
       "count  42000.0  42000.0  42000.0  ...  42000.000000  42000.000000   \n",
       "mean       0.0      0.0      0.0  ...      0.219286      0.117095   \n",
       "std        0.0      0.0      0.0  ...      6.312890      4.633819   \n",
       "min        0.0      0.0      0.0  ...      0.000000      0.000000   \n",
       "25%        0.0      0.0      0.0  ...      0.000000      0.000000   \n",
       "50%        0.0      0.0      0.0  ...      0.000000      0.000000   \n",
       "75%        0.0      0.0      0.0  ...      0.000000      0.000000   \n",
       "max        0.0      0.0      0.0  ...    254.000000    254.000000   \n",
       "\n",
       "           pixel776     pixel777      pixel778      pixel779  pixel780  \\\n",
       "count  42000.000000  42000.00000  42000.000000  42000.000000   42000.0   \n",
       "mean       0.059024      0.02019      0.017238      0.002857       0.0   \n",
       "std        3.274488      1.75987      1.894498      0.414264       0.0   \n",
       "min        0.000000      0.00000      0.000000      0.000000       0.0   \n",
       "25%        0.000000      0.00000      0.000000      0.000000       0.0   \n",
       "50%        0.000000      0.00000      0.000000      0.000000       0.0   \n",
       "75%        0.000000      0.00000      0.000000      0.000000       0.0   \n",
       "max      253.000000    253.00000    254.000000     62.000000       0.0   \n",
       "\n",
       "       pixel781  pixel782  pixel783  \n",
       "count   42000.0   42000.0   42000.0  \n",
       "mean        0.0       0.0       0.0  \n",
       "std         0.0       0.0       0.0  \n",
       "min         0.0       0.0       0.0  \n",
       "25%         0.0       0.0       0.0  \n",
       "50%         0.0       0.0       0.0  \n",
       "75%         0.0       0.0       0.0  \n",
       "max         0.0       0.0       0.0  \n",
       "\n",
       "[8 rows x 785 columns]"
      ]
     },
     "execution_count": 145,
     "metadata": {},
     "output_type": "execute_result"
    }
   ],
   "source": [
    "df.describe()"
   ]
  },
  {
   "cell_type": "code",
   "execution_count": 146,
   "metadata": {
    "colab": {
     "base_uri": "https://localhost:8080/",
     "height": 488
    },
    "id": "zH3QVtbwHM1M",
    "outputId": "25263aba-6163-4ffd-a893-56c8d62b2176"
   },
   "outputs": [
    {
     "data": {
      "text/html": [
       "<div>\n",
       "<style scoped>\n",
       "    .dataframe tbody tr th:only-of-type {\n",
       "        vertical-align: middle;\n",
       "    }\n",
       "\n",
       "    .dataframe tbody tr th {\n",
       "        vertical-align: top;\n",
       "    }\n",
       "\n",
       "    .dataframe thead th {\n",
       "        text-align: right;\n",
       "    }\n",
       "</style>\n",
       "<table border=\"1\" class=\"dataframe\">\n",
       "  <thead>\n",
       "    <tr style=\"text-align: right;\">\n",
       "      <th></th>\n",
       "      <th>label</th>\n",
       "      <th>pixel0</th>\n",
       "      <th>pixel1</th>\n",
       "      <th>pixel2</th>\n",
       "      <th>pixel3</th>\n",
       "      <th>pixel4</th>\n",
       "      <th>pixel5</th>\n",
       "      <th>pixel6</th>\n",
       "      <th>pixel7</th>\n",
       "      <th>pixel8</th>\n",
       "      <th>...</th>\n",
       "      <th>pixel774</th>\n",
       "      <th>pixel775</th>\n",
       "      <th>pixel776</th>\n",
       "      <th>pixel777</th>\n",
       "      <th>pixel778</th>\n",
       "      <th>pixel779</th>\n",
       "      <th>pixel780</th>\n",
       "      <th>pixel781</th>\n",
       "      <th>pixel782</th>\n",
       "      <th>pixel783</th>\n",
       "    </tr>\n",
       "  </thead>\n",
       "  <tbody>\n",
       "    <tr>\n",
       "      <th>0</th>\n",
       "      <td>1</td>\n",
       "      <td>0</td>\n",
       "      <td>0</td>\n",
       "      <td>0</td>\n",
       "      <td>0</td>\n",
       "      <td>0</td>\n",
       "      <td>0</td>\n",
       "      <td>0</td>\n",
       "      <td>0</td>\n",
       "      <td>0</td>\n",
       "      <td>...</td>\n",
       "      <td>0</td>\n",
       "      <td>0</td>\n",
       "      <td>0</td>\n",
       "      <td>0</td>\n",
       "      <td>0</td>\n",
       "      <td>0</td>\n",
       "      <td>0</td>\n",
       "      <td>0</td>\n",
       "      <td>0</td>\n",
       "      <td>0</td>\n",
       "    </tr>\n",
       "    <tr>\n",
       "      <th>1</th>\n",
       "      <td>0</td>\n",
       "      <td>0</td>\n",
       "      <td>0</td>\n",
       "      <td>0</td>\n",
       "      <td>0</td>\n",
       "      <td>0</td>\n",
       "      <td>0</td>\n",
       "      <td>0</td>\n",
       "      <td>0</td>\n",
       "      <td>0</td>\n",
       "      <td>...</td>\n",
       "      <td>0</td>\n",
       "      <td>0</td>\n",
       "      <td>0</td>\n",
       "      <td>0</td>\n",
       "      <td>0</td>\n",
       "      <td>0</td>\n",
       "      <td>0</td>\n",
       "      <td>0</td>\n",
       "      <td>0</td>\n",
       "      <td>0</td>\n",
       "    </tr>\n",
       "    <tr>\n",
       "      <th>2</th>\n",
       "      <td>1</td>\n",
       "      <td>0</td>\n",
       "      <td>0</td>\n",
       "      <td>0</td>\n",
       "      <td>0</td>\n",
       "      <td>0</td>\n",
       "      <td>0</td>\n",
       "      <td>0</td>\n",
       "      <td>0</td>\n",
       "      <td>0</td>\n",
       "      <td>...</td>\n",
       "      <td>0</td>\n",
       "      <td>0</td>\n",
       "      <td>0</td>\n",
       "      <td>0</td>\n",
       "      <td>0</td>\n",
       "      <td>0</td>\n",
       "      <td>0</td>\n",
       "      <td>0</td>\n",
       "      <td>0</td>\n",
       "      <td>0</td>\n",
       "    </tr>\n",
       "    <tr>\n",
       "      <th>3</th>\n",
       "      <td>4</td>\n",
       "      <td>0</td>\n",
       "      <td>0</td>\n",
       "      <td>0</td>\n",
       "      <td>0</td>\n",
       "      <td>0</td>\n",
       "      <td>0</td>\n",
       "      <td>0</td>\n",
       "      <td>0</td>\n",
       "      <td>0</td>\n",
       "      <td>...</td>\n",
       "      <td>0</td>\n",
       "      <td>0</td>\n",
       "      <td>0</td>\n",
       "      <td>0</td>\n",
       "      <td>0</td>\n",
       "      <td>0</td>\n",
       "      <td>0</td>\n",
       "      <td>0</td>\n",
       "      <td>0</td>\n",
       "      <td>0</td>\n",
       "    </tr>\n",
       "    <tr>\n",
       "      <th>4</th>\n",
       "      <td>0</td>\n",
       "      <td>0</td>\n",
       "      <td>0</td>\n",
       "      <td>0</td>\n",
       "      <td>0</td>\n",
       "      <td>0</td>\n",
       "      <td>0</td>\n",
       "      <td>0</td>\n",
       "      <td>0</td>\n",
       "      <td>0</td>\n",
       "      <td>...</td>\n",
       "      <td>0</td>\n",
       "      <td>0</td>\n",
       "      <td>0</td>\n",
       "      <td>0</td>\n",
       "      <td>0</td>\n",
       "      <td>0</td>\n",
       "      <td>0</td>\n",
       "      <td>0</td>\n",
       "      <td>0</td>\n",
       "      <td>0</td>\n",
       "    </tr>\n",
       "    <tr>\n",
       "      <th>...</th>\n",
       "      <td>...</td>\n",
       "      <td>...</td>\n",
       "      <td>...</td>\n",
       "      <td>...</td>\n",
       "      <td>...</td>\n",
       "      <td>...</td>\n",
       "      <td>...</td>\n",
       "      <td>...</td>\n",
       "      <td>...</td>\n",
       "      <td>...</td>\n",
       "      <td>...</td>\n",
       "      <td>...</td>\n",
       "      <td>...</td>\n",
       "      <td>...</td>\n",
       "      <td>...</td>\n",
       "      <td>...</td>\n",
       "      <td>...</td>\n",
       "      <td>...</td>\n",
       "      <td>...</td>\n",
       "      <td>...</td>\n",
       "      <td>...</td>\n",
       "    </tr>\n",
       "    <tr>\n",
       "      <th>41995</th>\n",
       "      <td>0</td>\n",
       "      <td>0</td>\n",
       "      <td>0</td>\n",
       "      <td>0</td>\n",
       "      <td>0</td>\n",
       "      <td>0</td>\n",
       "      <td>0</td>\n",
       "      <td>0</td>\n",
       "      <td>0</td>\n",
       "      <td>0</td>\n",
       "      <td>...</td>\n",
       "      <td>0</td>\n",
       "      <td>0</td>\n",
       "      <td>0</td>\n",
       "      <td>0</td>\n",
       "      <td>0</td>\n",
       "      <td>0</td>\n",
       "      <td>0</td>\n",
       "      <td>0</td>\n",
       "      <td>0</td>\n",
       "      <td>0</td>\n",
       "    </tr>\n",
       "    <tr>\n",
       "      <th>41996</th>\n",
       "      <td>1</td>\n",
       "      <td>0</td>\n",
       "      <td>0</td>\n",
       "      <td>0</td>\n",
       "      <td>0</td>\n",
       "      <td>0</td>\n",
       "      <td>0</td>\n",
       "      <td>0</td>\n",
       "      <td>0</td>\n",
       "      <td>0</td>\n",
       "      <td>...</td>\n",
       "      <td>0</td>\n",
       "      <td>0</td>\n",
       "      <td>0</td>\n",
       "      <td>0</td>\n",
       "      <td>0</td>\n",
       "      <td>0</td>\n",
       "      <td>0</td>\n",
       "      <td>0</td>\n",
       "      <td>0</td>\n",
       "      <td>0</td>\n",
       "    </tr>\n",
       "    <tr>\n",
       "      <th>41997</th>\n",
       "      <td>7</td>\n",
       "      <td>0</td>\n",
       "      <td>0</td>\n",
       "      <td>0</td>\n",
       "      <td>0</td>\n",
       "      <td>0</td>\n",
       "      <td>0</td>\n",
       "      <td>0</td>\n",
       "      <td>0</td>\n",
       "      <td>0</td>\n",
       "      <td>...</td>\n",
       "      <td>0</td>\n",
       "      <td>0</td>\n",
       "      <td>0</td>\n",
       "      <td>0</td>\n",
       "      <td>0</td>\n",
       "      <td>0</td>\n",
       "      <td>0</td>\n",
       "      <td>0</td>\n",
       "      <td>0</td>\n",
       "      <td>0</td>\n",
       "    </tr>\n",
       "    <tr>\n",
       "      <th>41998</th>\n",
       "      <td>6</td>\n",
       "      <td>0</td>\n",
       "      <td>0</td>\n",
       "      <td>0</td>\n",
       "      <td>0</td>\n",
       "      <td>0</td>\n",
       "      <td>0</td>\n",
       "      <td>0</td>\n",
       "      <td>0</td>\n",
       "      <td>0</td>\n",
       "      <td>...</td>\n",
       "      <td>0</td>\n",
       "      <td>0</td>\n",
       "      <td>0</td>\n",
       "      <td>0</td>\n",
       "      <td>0</td>\n",
       "      <td>0</td>\n",
       "      <td>0</td>\n",
       "      <td>0</td>\n",
       "      <td>0</td>\n",
       "      <td>0</td>\n",
       "    </tr>\n",
       "    <tr>\n",
       "      <th>41999</th>\n",
       "      <td>9</td>\n",
       "      <td>0</td>\n",
       "      <td>0</td>\n",
       "      <td>0</td>\n",
       "      <td>0</td>\n",
       "      <td>0</td>\n",
       "      <td>0</td>\n",
       "      <td>0</td>\n",
       "      <td>0</td>\n",
       "      <td>0</td>\n",
       "      <td>...</td>\n",
       "      <td>0</td>\n",
       "      <td>0</td>\n",
       "      <td>0</td>\n",
       "      <td>0</td>\n",
       "      <td>0</td>\n",
       "      <td>0</td>\n",
       "      <td>0</td>\n",
       "      <td>0</td>\n",
       "      <td>0</td>\n",
       "      <td>0</td>\n",
       "    </tr>\n",
       "  </tbody>\n",
       "</table>\n",
       "<p>42000 rows × 785 columns</p>\n",
       "</div>"
      ],
      "text/plain": [
       "       label  pixel0  pixel1  pixel2  pixel3  pixel4  pixel5  pixel6  pixel7  \\\n",
       "0          1       0       0       0       0       0       0       0       0   \n",
       "1          0       0       0       0       0       0       0       0       0   \n",
       "2          1       0       0       0       0       0       0       0       0   \n",
       "3          4       0       0       0       0       0       0       0       0   \n",
       "4          0       0       0       0       0       0       0       0       0   \n",
       "...      ...     ...     ...     ...     ...     ...     ...     ...     ...   \n",
       "41995      0       0       0       0       0       0       0       0       0   \n",
       "41996      1       0       0       0       0       0       0       0       0   \n",
       "41997      7       0       0       0       0       0       0       0       0   \n",
       "41998      6       0       0       0       0       0       0       0       0   \n",
       "41999      9       0       0       0       0       0       0       0       0   \n",
       "\n",
       "       pixel8  ...  pixel774  pixel775  pixel776  pixel777  pixel778  \\\n",
       "0           0  ...         0         0         0         0         0   \n",
       "1           0  ...         0         0         0         0         0   \n",
       "2           0  ...         0         0         0         0         0   \n",
       "3           0  ...         0         0         0         0         0   \n",
       "4           0  ...         0         0         0         0         0   \n",
       "...       ...  ...       ...       ...       ...       ...       ...   \n",
       "41995       0  ...         0         0         0         0         0   \n",
       "41996       0  ...         0         0         0         0         0   \n",
       "41997       0  ...         0         0         0         0         0   \n",
       "41998       0  ...         0         0         0         0         0   \n",
       "41999       0  ...         0         0         0         0         0   \n",
       "\n",
       "       pixel779  pixel780  pixel781  pixel782  pixel783  \n",
       "0             0         0         0         0         0  \n",
       "1             0         0         0         0         0  \n",
       "2             0         0         0         0         0  \n",
       "3             0         0         0         0         0  \n",
       "4             0         0         0         0         0  \n",
       "...         ...       ...       ...       ...       ...  \n",
       "41995         0         0         0         0         0  \n",
       "41996         0         0         0         0         0  \n",
       "41997         0         0         0         0         0  \n",
       "41998         0         0         0         0         0  \n",
       "41999         0         0         0         0         0  \n",
       "\n",
       "[42000 rows x 785 columns]"
      ]
     },
     "execution_count": 146,
     "metadata": {},
     "output_type": "execute_result"
    }
   ],
   "source": [
    "df.dropna()"
   ]
  },
  {
   "cell_type": "code",
   "execution_count": 147,
   "metadata": {
    "id": "xl8I4RMep-SJ"
   },
   "outputs": [],
   "source": [
    "# Distorted MNIST Dataset\n",
    "# train data loader\n",
    "import torch\n",
    "import torchvision\n",
    "from torch.utils.data import Dataset, DataLoader\n",
    "import numpy as np\n",
    "import math\n",
    "\n",
    "class DistortedMNIST(Dataset):\n",
    "  def __init__(self):\n",
    "    # data loading\n",
    "    #xy = np.loadtxt(\"Clean_train_mnist.csv\", delimiter=\",\", dtype = np.float32, skiprows=1)\n",
    "    xy = df.to_numpy()\n",
    "    self.x = torch.from_numpy(xy[:,1:].astype(np.float32)).view(-1, 1, 28,28)\n",
    "    self.y = torch.from_numpy(xy[:,0]) # n_samples,1\n",
    "    self.num_of_samples = xy.shape[0]\n",
    "\n",
    "  def __getitem__(self, index):\n",
    "    # dataset[0]\n",
    "    return self.x[index], self.y[index]\n",
    "  def __len__(self):\n",
    "    # len(dataset) \n",
    "    return self.num_of_samples\n",
    "\n",
    "train_datasets = DistortedMNIST()\n",
    "\n",
    "# test dataset formulation class\n",
    "class DistortedMNIST_test(Dataset):\n",
    "  # implement init with self\n",
    "  def __init__(self):\n",
    "    # data loading\n",
    "    x = np.loadtxt(\"/content/test.csv\", delimiter=\",\", dtype = np.float32, skiprows=1)\n",
    "    self.x = torch.from_numpy(x).view(-1, 1, 28,28)\n",
    "    self.num_of_samples = x.shape[0]\n",
    "  def __len__(self):\n",
    "    # len(dataset) \n",
    "    return self.num_of_samples\n",
    "\n"
   ]
  },
  {
   "cell_type": "code",
   "execution_count": 148,
   "metadata": {
    "id": "RnS79jdcwtwS"
   },
   "outputs": [],
   "source": [
    "train_datasets = DistortedMNIST()\n",
    "#test_datasets = DistortedMNIST_test()"
   ]
  },
  {
   "cell_type": "code",
   "execution_count": 149,
   "metadata": {
    "colab": {
     "base_uri": "https://localhost:8080/"
    },
    "id": "T-GUWiJO47Rd",
    "outputId": "934d081f-1719-41e2-aa07-037ea571ab66"
   },
   "outputs": [
    {
     "name": "stdout",
     "output_type": "stream",
     "text": [
      "42000\n"
     ]
    }
   ],
   "source": [
    "print(train_datasets.__len__())"
   ]
  },
  {
   "cell_type": "code",
   "execution_count": 150,
   "metadata": {
    "colab": {
     "base_uri": "https://localhost:8080/"
    },
    "id": "M3EqHL1xpY4-",
    "outputId": "8a7efbd0-fd31-4354-ae25-8c634f4adc88"
   },
   "outputs": [
    {
     "name": "stdout",
     "output_type": "stream",
     "text": [
      "torch.Size([100, 1, 28, 28]) torch.Size([100])\n"
     ]
    }
   ],
   "source": [
    "train_loader = torch.utils.data.DataLoader(dataset=train_datasets, batch_size=batch_size, shuffle=True)\n",
    "#test_loader = torch.utils.data.DataLoader(dataset=test_datasets, batch_size=batch_size, shuffle=False)\n",
    "\n",
    "examples = iter(train_loader)\n",
    "samples, labels = examples.next()\n",
    "print(samples.shape, labels.shape)"
   ]
  },
  {
   "cell_type": "code",
   "execution_count": 151,
   "metadata": {
    "colab": {
     "base_uri": "https://localhost:8080/",
     "height": 809
    },
    "id": "PM_XajkYpZlv",
    "outputId": "7a426888-6540-4a20-d6a6-f13a175bb9ce"
   },
   "outputs": [
    {
     "data": {
      "image/png": "[encoded data removed]",
      "text/plain": [
       "<Figure size 432x288 with 1 Axes>"
      ]
     },
     "metadata": {
      "needs_background": "light"
     },
     "output_type": "display_data"
    },
    {
     "data": {
      "image/png": "[encoded data removed]",
      "text/plain": [
       "<Figure size 432x288 with 1 Axes>"
      ]
     },
     "metadata": {
      "needs_background": "light"
     },
     "output_type": "display_data"
    },
    {
     "data": {
      "image/png": "[encoded data removed]",
      "text/plain": [
       "<Figure size 432x288 with 1 Axes>"
      ]
     },
     "metadata": {
      "needs_background": "light"
     },
     "output_type": "display_data"
    },
    {
     "data": {
      "image/png": "[encoded data removed]",
      "text/plain": [
       "<Figure size 432x288 with 1 Axes>"
      ]
     },
     "metadata": {
      "needs_background": "light"
     },
     "output_type": "display_data"
    },
    {
     "data": {
      "image/png": "[encoded data removed]",
      "text/plain": [
       "<Figure size 432x288 with 1 Axes>"
      ]
     },
     "metadata": {
      "needs_background": "light"
     },
     "output_type": "display_data"
    },
    {
     "data": {
      "image/png": "[encoded data removed]",
      "text/plain": [
       "<Figure size 432x288 with 1 Axes>"
      ]
     },
     "metadata": {
      "needs_background": "light"
     },
     "output_type": "display_data"
    }
   ],
   "source": [
    "for i in range(6):\n",
    "  plt.subplot(2,3,i+1)\n",
    "  plt.imshow(samples[i][0], cmap=\"gray\")\n",
    "  plt.show()\n",
    "image_grid = torchvision.utils.make_grid(samples)\n",
    "writer.add_image('mnist_images', image_grid)\n",
    "writer.close()"
   ]
  },
  {
   "cell_type": "markdown",
   "metadata": {
    "pycharm": {
     "name": "#%% md\n"
    }
   },
   "source": [
    "# Defining the neural network"
   ]
  },
  {
   "cell_type": "code",
   "execution_count": 152,
   "metadata": {},
   "outputs": [],
   "source": [
    "# defining the neural network\n",
    "class NeuralNetwork(nn.Module):\n",
    "  def __init__(self, input_size, hidden_size, num_classes):\n",
    "    super(NeuralNetwork, self).__init__()\n",
    "    self.l1 = nn.Linear(input_size, hidden_size)\n",
    "    self.relu = nn.ReLU()\n",
    "    self.l2 = nn.Linear(hidden_size, num_classes)\n",
    "  def forward(self, x):\n",
    "    out = self.l1(x)\n",
    "    out = self.relu(out)\n",
    "    out = self.l2(out)\n",
    "    return out"
   ]
  },
  {
   "cell_type": "markdown",
   "metadata": {},
   "source": [
    "## With SGD:"
   ]
  },
  {
   "cell_type": "markdown",
   "metadata": {},
   "source": [
    "#### Training (Loss and Accuracy)"
   ]
  },
  {
   "cell_type": "code",
   "execution_count": 153,
   "metadata": {
    "pycharm": {
     "name": "#%%\n"
    }
   },
   "outputs": [
    {
     "name": "stdout",
     "output_type": "stream",
     "text": [
      "epoch 1/5, step 64/420,Training accuracy on a sample: 94.0, loss = 0.7944\n",
      "epoch 1/5, step 128/420,Training accuracy on a sample: 98.0, loss = 0.2563\n",
      "epoch 1/5, step 192/420,Training accuracy on a sample: 95.0, loss = 0.2968\n",
      "epoch 1/5, step 256/420,Training accuracy on a sample: 95.0, loss = 0.2941\n",
      "epoch 1/5, step 320/420,Training accuracy on a sample: 93.0, loss = 0.4512\n",
      "epoch 1/5, step 384/420,Training accuracy on a sample: 92.0, loss = 0.6557\n",
      "epoch 2/5, step 64/420,Training accuracy on a sample: 95.0, loss = 0.2792\n",
      "epoch 2/5, step 128/420,Training accuracy on a sample: 97.0, loss = 0.1716\n",
      "epoch 2/5, step 192/420,Training accuracy on a sample: 98.0, loss = 0.1162\n",
      "epoch 2/5, step 256/420,Training accuracy on a sample: 97.0, loss = 0.3267\n",
      "epoch 2/5, step 320/420,Training accuracy on a sample: 96.0, loss = 0.2258\n",
      "epoch 2/5, step 384/420,Training accuracy on a sample: 97.0, loss = 0.1622\n",
      "epoch 3/5, step 64/420,Training accuracy on a sample: 96.0, loss = 0.2636\n",
      "epoch 3/5, step 128/420,Training accuracy on a sample: 97.0, loss = 0.2068\n",
      "epoch 3/5, step 192/420,Training accuracy on a sample: 99.0, loss = 0.1756\n",
      "epoch 3/5, step 256/420,Training accuracy on a sample: 98.0, loss = 0.1945\n",
      "epoch 3/5, step 320/420,Training accuracy on a sample: 96.0, loss = 0.2198\n",
      "epoch 3/5, step 384/420,Training accuracy on a sample: 99.0, loss = 0.1195\n",
      "epoch 4/5, step 64/420,Training accuracy on a sample: 98.0, loss = 0.1436\n",
      "epoch 4/5, step 128/420,Training accuracy on a sample: 100.0, loss = 0.0677\n",
      "epoch 4/5, step 192/420,Training accuracy on a sample: 97.0, loss = 0.1337\n",
      "epoch 4/5, step 256/420,Training accuracy on a sample: 99.0, loss = 0.1758\n",
      "epoch 4/5, step 320/420,Training accuracy on a sample: 99.0, loss = 0.0627\n",
      "epoch 4/5, step 384/420,Training accuracy on a sample: 99.0, loss = 0.1594\n",
      "epoch 5/5, step 64/420,Training accuracy on a sample: 100.0, loss = 0.0445\n",
      "epoch 5/5, step 128/420,Training accuracy on a sample: 99.0, loss = 0.0601\n",
      "epoch 5/5, step 192/420,Training accuracy on a sample: 99.0, loss = 0.0298\n",
      "epoch 5/5, step 256/420,Training accuracy on a sample: 99.0, loss = 0.1154\n",
      "epoch 5/5, step 320/420,Training accuracy on a sample: 99.0, loss = 0.0966\n",
      "epoch 5/5, step 384/420,Training accuracy on a sample: 99.0, loss = 0.0974\n"
     ]
    }
   ],
   "source": [
    "model_SGD = NeuralNetwork(input_size, hidden_size, num_of_classes)\n",
    "# loss and optimizer\n",
    "criterion = nn.CrossEntropyLoss()\n",
    "optimizer = torch.optim.SGD(model_SGD.parameters(), lr = learning_rate)\n",
    "\n",
    "# for tensorboard\n",
    "samples = samples.reshape(-1, 28*28).to(device)\n",
    "writer.add_graph(model_SGD, samples)\n",
    "\n",
    "# training loops\n",
    "n_total_steps = len(train_loader)\n",
    "for epoch in range(num_epochs):\n",
    "  for i,(images, labels) in enumerate(train_loader):\n",
    "    # 100, 1, 28, 28\n",
    "    # 100, 784\n",
    "    images = images.reshape(-1, 28*28).to(device)\n",
    "    labels = labels.long().to(device)\n",
    "\n",
    "    # forward\n",
    "    output = model_SGD(images)\n",
    "    loss = criterion(output, labels)\n",
    "\n",
    "    # backward pass\n",
    "    optimizer.zero_grad()\n",
    "    loss.backward()\n",
    "    optimizer.step()\n",
    "    if (i+1)%64 == 0:\n",
    "      with torch.no_grad():\n",
    "        n_correct = 0\n",
    "        n_samples = 0\n",
    "        images = images.reshape(-1, 28*28).to(device)\n",
    "        output= model_SGD(images)\n",
    "        a, predictions = torch.max(output,1)\n",
    "        n_samples += labels.shape[0]\n",
    "        n_correct += (predictions==labels).sum().item()\n",
    "        train_accuracy = 100.0 *(n_correct/ n_samples)\n",
    "        print(f\"epoch {epoch+1}/{num_epochs}, step {i+1}/{n_total_steps},Training accuracy on a sample: {train_accuracy}, loss = {loss.item():.4f}\")\n",
    "        writer.add_scalar('training loss', loss.item(), epoch*n_total_steps + i)\n",
    "        writer.add_scalar('training accuracy', train_accuracy, epoch*n_total_steps + i)"
   ]
  },
  {
   "cell_type": "markdown",
   "metadata": {},
   "source": [
    "#### Testing accuracy :"
   ]
  },
  {
   "cell_type": "code",
   "execution_count": 154,
   "metadata": {
    "pycharm": {
     "name": "#%%\n"
    }
   },
   "outputs": [
    {
     "name": "stdout",
     "output_type": "stream",
     "text": [
      "epoch 1/5, step 64/420,Testing accuracy on a sample: 95.0\n",
      "epoch 1/5, step 128/420,Testing accuracy on a sample: 99.0\n",
      "epoch 1/5, step 192/420,Testing accuracy on a sample: 100.0\n",
      "epoch 1/5, step 256/420,Testing accuracy on a sample: 97.0\n",
      "epoch 1/5, step 320/420,Testing accuracy on a sample: 95.0\n",
      "epoch 1/5, step 384/420,Testing accuracy on a sample: 99.0\n",
      "epoch 2/5, step 64/420,Testing accuracy on a sample: 98.0\n",
      "epoch 2/5, step 128/420,Testing accuracy on a sample: 98.0\n",
      "epoch 2/5, step 192/420,Testing accuracy on a sample: 99.0\n",
      "epoch 2/5, step 256/420,Testing accuracy on a sample: 97.0\n",
      "epoch 2/5, step 320/420,Testing accuracy on a sample: 98.0\n",
      "epoch 2/5, step 384/420,Testing accuracy on a sample: 97.0\n",
      "epoch 3/5, step 64/420,Testing accuracy on a sample: 99.0\n",
      "epoch 3/5, step 128/420,Testing accuracy on a sample: 98.0\n",
      "epoch 3/5, step 192/420,Testing accuracy on a sample: 100.0\n",
      "epoch 3/5, step 256/420,Testing accuracy on a sample: 99.0\n",
      "epoch 3/5, step 320/420,Testing accuracy on a sample: 99.0\n",
      "epoch 3/5, step 384/420,Testing accuracy on a sample: 96.0\n",
      "epoch 4/5, step 64/420,Testing accuracy on a sample: 98.0\n",
      "epoch 4/5, step 128/420,Testing accuracy on a sample: 98.0\n",
      "epoch 4/5, step 192/420,Testing accuracy on a sample: 99.0\n",
      "epoch 4/5, step 256/420,Testing accuracy on a sample: 98.0\n",
      "epoch 4/5, step 320/420,Testing accuracy on a sample: 99.0\n",
      "epoch 4/5, step 384/420,Testing accuracy on a sample: 97.0\n",
      "epoch 5/5, step 64/420,Testing accuracy on a sample: 98.0\n",
      "epoch 5/5, step 128/420,Testing accuracy on a sample: 99.0\n",
      "epoch 5/5, step 192/420,Testing accuracy on a sample: 99.0\n",
      "epoch 5/5, step 256/420,Testing accuracy on a sample: 97.0\n",
      "epoch 5/5, step 320/420,Testing accuracy on a sample: 96.0\n",
      "epoch 5/5, step 384/420,Testing accuracy on a sample: 97.0\n"
     ]
    }
   ],
   "source": [
    "# testing accuracy on the sample\n",
    "for epoch in range(num_epochs):\n",
    "  for i,(images, labels) in enumerate(train_loader):\n",
    "    images = images.reshape(-1, 28*28).to(device)\n",
    "    labels = labels.long().to(device)\n",
    "    output = model_SGD(images)\n",
    "    if (i+1)%64 == 0:\n",
    "      with torch.no_grad():\n",
    "        n_correct = 0\n",
    "        n_samples = 0\n",
    "        images = images.reshape(-1, 28*28).to(device)\n",
    "        output= model_SGD(images)\n",
    "        a, predictions = torch.max(output,1)\n",
    "        n_samples += labels.shape[0]\n",
    "        n_correct += (predictions==labels).sum().item()\n",
    "        test_accuracy = 100.0 *(n_correct/ n_samples)\n",
    "        print(f\"epoch {epoch+1}/{num_epochs}, step {i+1}/{n_total_steps},Testing accuracy on a sample: {test_accuracy}\")\n",
    "        writer.add_scalar('testing accuracy', test_accuracy, epoch*n_total_steps + i)"
   ]
  },
  {
   "cell_type": "code",
   "execution_count": 155,
   "metadata": {
    "collapsed": false,
    "pycharm": {
     "name": "#%%\n"
    }
   },
   "outputs": [],
   "source": [
    "writer.flush()\n",
    "writer.close()"
   ]
  },
  {
   "cell_type": "markdown",
   "metadata": {},
   "source": [
    "## With Adam"
   ]
  },
  {
   "cell_type": "markdown",
   "metadata": {
    "collapsed": false
   },
   "source": [
    "#### Training (Loss and Accuracy)"
   ]
  },
  {
   "cell_type": "code",
   "execution_count": 156,
   "metadata": {
    "pycharm": {
     "name": "#%%\n"
    }
   },
   "outputs": [
    {
     "name": "stdout",
     "output_type": "stream",
     "text": [
      "epoch 3/5, step 384/420,Training accuracy on a sample: 95.0, loss = 0.3069\n",
      "epoch 4/5, step 64/420,Training accuracy on a sample: 100.0, loss = 0.0430\n",
      "epoch 4/5, step 128/420,Training accuracy on a sample: 96.0, loss = 0.2503\n",
      "epoch 4/5, step 192/420,Training accuracy on a sample: 96.0, loss = 0.1387\n",
      "epoch 4/5, step 256/420,Training accuracy on a sample: 98.0, loss = 0.0892\n",
      "epoch 4/5, step 320/420,Training accuracy on a sample: 100.0, loss = 0.0298\n",
      "epoch 4/5, step 384/420,Training accuracy on a sample: 98.0, loss = 0.1306\n",
      "epoch 5/5, step 64/420,Training accuracy on a sample: 98.0, loss = 0.1575\n",
      "epoch 5/5, step 128/420,Training accuracy on a sample: 99.0, loss = 0.0569\n",
      "epoch 5/5, step 192/420,Training accuracy on a sample: 99.0, loss = 0.1325\n",
      "epoch 5/5, step 256/420,Training accuracy on a sample: 98.0, loss = 0.0779\n",
      "epoch 5/5, step 320/420,Training accuracy on a sample: 98.0, loss = 0.0486\n",
      "epoch 5/5, step 384/420,Training accuracy on a sample: 99.0, loss = 0.1050\n",
      "epoch 1/5, step 64/420,Training accuracy on a sample: 86.0, loss = 1.6140\n",
      "epoch 1/5, step 128/420,Training accuracy on a sample: 92.0, loss = 0.7686\n",
      "epoch 1/5, step 192/420,Training accuracy on a sample: 97.0, loss = 0.4050\n",
      "epoch 1/5, step 256/420,Training accuracy on a sample: 98.0, loss = 0.2424\n",
      "epoch 1/5, step 320/420,Training accuracy on a sample: 93.0, loss = 0.3363\n",
      "epoch 1/5, step 384/420,Training accuracy on a sample: 97.0, loss = 0.1495\n",
      "epoch 2/5, step 64/420,Training accuracy on a sample: 97.0, loss = 0.1578\n",
      "epoch 2/5, step 128/420,Training accuracy on a sample: 97.0, loss = 0.1474\n",
      "epoch 2/5, step 192/420,Training accuracy on a sample: 97.0, loss = 0.1198\n",
      "epoch 2/5, step 256/420,Training accuracy on a sample: 99.0, loss = 0.0626\n",
      "epoch 2/5, step 320/420,Training accuracy on a sample: 95.0, loss = 0.2649\n",
      "epoch 2/5, step 384/420,Training accuracy on a sample: 96.0, loss = 0.2057\n",
      "epoch 3/5, step 64/420,Training accuracy on a sample: 97.0, loss = 0.1573\n",
      "epoch 3/5, step 128/420,Training accuracy on a sample: 99.0, loss = 0.1431\n",
      "epoch 3/5, step 192/420,Training accuracy on a sample: 99.0, loss = 0.0686\n",
      "epoch 3/5, step 256/420,Training accuracy on a sample: 95.0, loss = 0.1988\n",
      "epoch 3/5, step 320/420,Training accuracy on a sample: 99.0, loss = 0.0603\n",
      "epoch 3/5, step 384/420,Training accuracy on a sample: 94.0, loss = 0.2156\n",
      "epoch 4/5, step 64/420,Training accuracy on a sample: 99.0, loss = 0.0496\n",
      "epoch 4/5, step 128/420,Training accuracy on a sample: 100.0, loss = 0.1270\n",
      "epoch 4/5, step 192/420,Training accuracy on a sample: 100.0, loss = 0.0469\n",
      "epoch 4/5, step 256/420,Training accuracy on a sample: 99.0, loss = 0.0907\n",
      "epoch 4/5, step 320/420,Training accuracy on a sample: 99.0, loss = 0.0550\n",
      "epoch 4/5, step 384/420,Training accuracy on a sample: 98.0, loss = 0.1043\n",
      "epoch 5/5, step 64/420,Training accuracy on a sample: 100.0, loss = 0.0061\n",
      "epoch 5/5, step 128/420,Training accuracy on a sample: 97.0, loss = 0.1577\n",
      "epoch 5/5, step 192/420,Training accuracy on a sample: 98.0, loss = 0.0692\n",
      "epoch 5/5, step 256/420,Training accuracy on a sample: 98.0, loss = 0.0921\n",
      "epoch 5/5, step 320/420,Training accuracy on a sample: 100.0, loss = 0.0371\n",
      "epoch 5/5, step 384/420,Training accuracy on a sample: 98.0, loss = 0.0755\n"
     ]
    }
   ],
   "source": [
    "writer = SummaryWriter(\"runs/MNIST_Adam\")\n",
    "model_Adam = NeuralNetwork(input_size, hidden_size, num_of_classes)\n",
    "# loss and optimizer\n",
    "criterion = nn.CrossEntropyLoss()\n",
    "optimizer = torch.optim.Adam(model_Adam.parameters(), lr = learning_rate)\n",
    "\n",
    "# training loops\n",
    "n_total_steps = len(train_loader)\n",
    "for epoch in range(num_epochs):\n",
    "  for i,(images, labels) in enumerate(train_loader):\n",
    "    # 100, 1, 28, 28\n",
    "    # 100, 784\n",
    "    images = images.reshape(-1, 28*28).to(device)\n",
    "    labels = labels.long().to(device)\n",
    "\n",
    "    # forward\n",
    "    output = model_Adam(images)\n",
    "    loss = criterion(output, labels)\n",
    "\n",
    "    # backward pass\n",
    "    optimizer.zero_grad()\n",
    "    loss.backward()\n",
    "    optimizer.step()\n",
    "    if (i+1)%64 == 0:\n",
    "      with torch.no_grad():\n",
    "        n_correct = 0\n",
    "        n_samples = 0\n",
    "        images = images.reshape(-1, 28*28).to(device)\n",
    "        output= model_Adam(images)\n",
    "        a, predictions = torch.max(output,1)\n",
    "        n_samples += labels.shape[0]\n",
    "        n_correct += (predictions==labels).sum().item()\n",
    "        train_accuracy = 100.0 *(n_correct/ n_samples)\n",
    "        print(f\"epoch {epoch+1}/{num_epochs}, step {i+1}/{n_total_steps},Training accuracy on a sample: {train_accuracy}, loss = {loss.item():.4f}\")\n",
    "        writer.add_scalar('training loss', loss.item(), epoch*n_total_steps + i)\n",
    "        writer.add_scalar('training accuracy', train_accuracy, epoch*n_total_steps + i)"
   ]
  },
  {
   "cell_type": "markdown",
   "metadata": {
    "pycharm": {
     "name": "#%% md\n"
    }
   },
   "source": [
    "#### Testing accuracy :"
   ]
  },
  {
   "cell_type": "code",
   "execution_count": 157,
   "metadata": {
    "pycharm": {
     "name": "#%%\n"
    }
   },
   "outputs": [
    {
     "name": "stdout",
     "output_type": "stream",
     "text": [
      "epoch 1/5, step 64/420,Testing accuracy on a sample: 99.0\n",
      "epoch 1/5, step 128/420,Testing accuracy on a sample: 98.0\n",
      "epoch 1/5, step 192/420,Testing accuracy on a sample: 94.0\n",
      "epoch 1/5, step 256/420,Testing accuracy on a sample: 97.0\n",
      "epoch 1/5, step 320/420,Testing accuracy on a sample: 98.0\n",
      "epoch 1/5, step 384/420,Testing accuracy on a sample: 97.0\n",
      "epoch 2/5, step 64/420,Testing accuracy on a sample: 95.0\n",
      "epoch 2/5, step 128/420,Testing accuracy on a sample: 95.0\n",
      "epoch 2/5, step 192/420,Testing accuracy on a sample: 99.0\n",
      "epoch 2/5, step 256/420,Testing accuracy on a sample: 96.0\n",
      "epoch 2/5, step 320/420,Testing accuracy on a sample: 94.0\n",
      "epoch 2/5, step 384/420,Testing accuracy on a sample: 95.0\n",
      "epoch 3/5, step 64/420,Testing accuracy on a sample: 95.0\n",
      "epoch 3/5, step 128/420,Testing accuracy on a sample: 100.0\n",
      "epoch 3/5, step 192/420,Testing accuracy on a sample: 98.0\n",
      "epoch 3/5, step 256/420,Testing accuracy on a sample: 97.0\n",
      "epoch 3/5, step 320/420,Testing accuracy on a sample: 98.0\n",
      "epoch 3/5, step 384/420,Testing accuracy on a sample: 96.0\n",
      "epoch 4/5, step 64/420,Testing accuracy on a sample: 96.0\n",
      "epoch 4/5, step 128/420,Testing accuracy on a sample: 96.0\n",
      "epoch 4/5, step 192/420,Testing accuracy on a sample: 97.0\n",
      "epoch 4/5, step 256/420,Testing accuracy on a sample: 97.0\n",
      "epoch 4/5, step 320/420,Testing accuracy on a sample: 93.0\n",
      "epoch 4/5, step 384/420,Testing accuracy on a sample: 99.0\n",
      "epoch 5/5, step 64/420,Testing accuracy on a sample: 98.0\n",
      "epoch 5/5, step 128/420,Testing accuracy on a sample: 99.0\n",
      "epoch 5/5, step 192/420,Testing accuracy on a sample: 98.0\n",
      "epoch 5/5, step 256/420,Testing accuracy on a sample: 97.0\n",
      "epoch 5/5, step 320/420,Testing accuracy on a sample: 97.0\n",
      "epoch 5/5, step 384/420,Testing accuracy on a sample: 98.0\n"
     ]
    }
   ],
   "source": [
    "# testing accuracy on the sample\n",
    "for epoch in range(num_epochs):\n",
    "  for i,(images, labels) in enumerate(train_loader):\n",
    "    images = images.reshape(-1, 28*28).to(device)\n",
    "    labels = labels.long().to(device)\n",
    "    output = model_Adam(images)\n",
    "    if (i+1)%64 == 0:\n",
    "      with torch.no_grad():\n",
    "        n_correct = 0\n",
    "        n_samples = 0\n",
    "        images = images.reshape(-1, 28*28).to(device)\n",
    "        output= model_Adam(images)\n",
    "        a, predictions = torch.max(output,1)\n",
    "        n_samples += labels.shape[0]\n",
    "        n_correct += (predictions==labels).sum().item()\n",
    "        train_accuracy = 100.0 *(n_correct/ n_samples)\n",
    "        print(f\"epoch {epoch+1}/{num_epochs}, step {i+1}/{n_total_steps},Testing accuracy on a sample: {train_accuracy}\")\n",
    "        writer.add_scalar('testing accuracy', test_accuracy, epoch*n_total_steps + i)"
   ]
  },
  {
   "cell_type": "code",
   "execution_count": 158,
   "metadata": {
    "collapsed": false,
    "pycharm": {
     "name": "#%%\n"
    }
   },
   "outputs": [],
   "source": [
    "writer.flush()\n",
    "writer.close()"
   ]
  },
  {
   "cell_type": "markdown",
   "metadata": {},
   "source": [
    "for running tenserboard on the terminal, write the following in terminal\n",
    "\n",
    "`tensorboard --logdir=runs`"
   ]
  }
 ],
 "metadata": {
  "colab": {
   "collapsed_sections": [],
   "name": "Untitled7.ipynb",
   "provenance": []
  },
  "kernelspec": {
   "display_name": "Python 3 (ipykernel)",
   "language": "python",
   "name": "python3"
  },
  "language_info": {
   "codemirror_mode": {
    "name": "ipython",
    "version": 3
   },
   "file_extension": ".py",
   "mimetype": "text/x-python",
   "name": "python",
   "nbconvert_exporter": "python",
   "pygments_lexer": "ipython3",
   "version": "3.10.4"
  }
 },
 "nbformat": 4,
 "nbformat_minor": 1
}
