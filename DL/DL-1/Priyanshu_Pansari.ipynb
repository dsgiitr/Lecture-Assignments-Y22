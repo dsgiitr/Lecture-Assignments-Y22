{
 "cells": [
  {
   "cell_type": "code",
   "execution_count": null,
   "metadata": {},
   "outputs": [],
   "source": [
    "import numpy as np \n",
    "import pandas as pd \n",
    "\n",
    "df = pd.read_csv(\"./Datasets/train.csv\")"
   ]
  },
  {
   "cell_type": "code",
   "execution_count": null,
   "metadata": {},
   "outputs": [],
   "source": [
    "df.head()"
   ]
  },
  {
   "cell_type": "code",
   "execution_count": null,
   "metadata": {},
   "outputs": [],
   "source": [
    "import torch\n",
    "import torch.nn as nn\n",
    "import torch.nn.functional as F\n",
    "import torch.optim as optim\n",
    "from torch.utils.data import DataLoader \n",
    "from torch.utils.data import Dataset"
   ]
  },
  {
   "cell_type": "code",
   "execution_count": null,
   "metadata": {},
   "outputs": [],
   "source": [
    "from sklearn.model_selection import train_test_split\n",
    "train,test= train_test_split(df, test_size=0.4)\n",
    "val,test= train_test_split(test, test_size=0.5)"
   ]
  },
  {
   "cell_type": "code",
   "execution_count": null,
   "metadata": {},
   "outputs": [],
   "source": [
    "class MyDataset(Dataset):\n",
    "  def __init__(self,df):\n",
    "\n",
    "    x=df.iloc[:,1:786].values\n",
    "    y=df.iloc[:,0].values\n",
    "    self.x_train=torch.tensor(x,dtype=torch.float32)\n",
    "    self.y_train=F.one_hot(torch.tensor(y,dtype=torch.float32).type(torch.LongTensor)).type(torch.FloatTensor)\n",
    "\n",
    " \n",
    "  def __len__(self):\n",
    "    return len(self.y_train)\n",
    "   \n",
    "  def __getitem__(self,idx):\n",
    "    return self.x_train[idx],self.y_train[idx]"
   ]
  },
  {
   "cell_type": "code",
   "execution_count": null,
   "metadata": {},
   "outputs": [],
   "source": [
    "data=MyDataset(train)\n",
    "train_loader=DataLoader(data,batch_size=10)\n",
    "data=MyDataset(val)\n",
    "val_loader=DataLoader(data,batch_size=10)\n",
    "data=MyDataset(test)\n",
    "test_loader=DataLoader(data,batch_size=10)"
   ]
  },
  {
   "cell_type": "code",
   "execution_count": null,
   "metadata": {},
   "outputs": [],
   "source": [
    "class NN(nn.Module):\n",
    "    def __init__(self, input_size, num_classes):\n",
    "        super(NN, self).__init__()\n",
    "        self.fc1 = nn.Linear(input_size, 100)\n",
    "        self.fc2 = nn.Linear(100, 50)\n",
    "        self.fco = nn.Linear(50, num_classes)\n",
    "        self.softmax = nn.Softmax(dim=1)\n",
    "\n",
    "    def forward(self, x):\n",
    "        x = F.relu(self.fc1(x))\n",
    "        x = F.relu(self.fc2(x))\n",
    "        x = self.fco(x)\n",
    "        x= self.softmax(x)\n",
    "        return x "
   ]
  },
  {
   "cell_type": "code",
   "execution_count": null,
   "metadata": {},
   "outputs": [],
   "source": [
    "#device = torch.device(\"cuda\" if torch.cuda.is_available() else \"cpu\")\n",
    "input_size = 784 \n",
    "num_classes = 10\n",
    "learning_rate = 0.0001\n",
    "num_epochs = 20"
   ]
  },
  {
   "cell_type": "code",
   "execution_count": null,
   "metadata": {},
   "outputs": [],
   "source": [
    "model = NN(input_size=input_size, num_classes=num_classes)#.to(device)\n",
    "criterion = nn.CrossEntropyLoss()\n",
    "optimizer = optim.Adam(model.parameters(), lr=learning_rate)\n",
    "print(model)"
   ]
  },
  {
   "cell_type": "code",
   "execution_count": null,
   "metadata": {},
   "outputs": [],
   "source": [
    "def check_accuracy(loader, model):\n",
    "    num_correct = 0\n",
    "    num_samples = 0\n",
    "    model.eval()\n",
    "\n",
    "    with torch.no_grad():\n",
    "        for x, y in loader:\n",
    "            x = x.reshape(x.shape[0], -1)\n",
    "\n",
    "            scores = model(x)\n",
    "            _, predictions = scores.max(1)\n",
    "            _, truth = y.max(1)\n",
    "            num_correct += (predictions == truth).sum()\n",
    "            num_samples += predictions.size(0)\n",
    "    model.train()\n",
    "    return float(num_correct) / float(num_samples) * 100"
   ]
  },
  {
   "cell_type": "code",
   "execution_count": 33,
   "metadata": {},
   "outputs": [
    {
     "name": "stdout",
     "output_type": "stream",
     "text": [
      "Epoch: 0 Train_accuracy: 4.107142857142857 Cross_validation_accuracy: 4.488095238095238\n",
      "Epoch: 1 Train_accuracy: 83.51984126984127 Cross_validation_accuracy: 83.05952380952381\n",
      "Epoch: 2 Train_accuracy: 85.78968253968254 Cross_validation_accuracy: 85.19047619047619\n",
      "Epoch: 3 Train_accuracy: 86.85714285714286 Cross_validation_accuracy: 85.66666666666667\n",
      "Epoch: 4 Train_accuracy: 87.53968253968254 Cross_validation_accuracy: 86.22619047619048\n",
      "Epoch: 5 Train_accuracy: 88.0 Cross_validation_accuracy: 86.55952380952381\n",
      "Epoch: 6 Train_accuracy: 88.52380952380953 Cross_validation_accuracy: 86.96428571428572\n",
      "Epoch: 7 Train_accuracy: 88.54761904761905 Cross_validation_accuracy: 87.05952380952381\n",
      "Epoch: 8 Train_accuracy: 88.95238095238095 Cross_validation_accuracy: 87.05952380952381\n",
      "Epoch: 9 Train_accuracy: 88.94444444444444 Cross_validation_accuracy: 87.22619047619048\n",
      "Epoch: 10 Train_accuracy: 88.89285714285714 Cross_validation_accuracy: 86.94047619047619\n",
      "Epoch: 11 Train_accuracy: 96.21428571428572 Cross_validation_accuracy: 94.89285714285714\n",
      "Epoch: 12 Train_accuracy: 97.05555555555556 Cross_validation_accuracy: 95.64285714285714\n",
      "Epoch: 13 Train_accuracy: 97.78174603174602 Cross_validation_accuracy: 96.02380952380952\n",
      "Epoch: 14 Train_accuracy: 97.73809523809524 Cross_validation_accuracy: 95.78571428571429\n",
      "Epoch: 15 Train_accuracy: 97.67857142857143 Cross_validation_accuracy: 95.72619047619048\n",
      "Epoch: 16 Train_accuracy: 97.99603174603175 Cross_validation_accuracy: 95.9047619047619\n",
      "Epoch: 17 Train_accuracy: 97.80555555555556 Cross_validation_accuracy: 95.69047619047619\n",
      "Epoch: 18 Train_accuracy: 98.18253968253968 Cross_validation_accuracy: 96.30952380952381\n",
      "Epoch: 19 Train_accuracy: 97.3015873015873 Cross_validation_accuracy: 95.39285714285714\n"
     ]
    }
   ],
   "source": [
    "for epoch in range(num_epochs):\n",
    "    train_ac=check_accuracy(train_loader, model)\n",
    "    val_ac=check_accuracy(val_loader, model)\n",
    "    print(f\"Epoch: {epoch}\",f\"Train_accuracy: {train_ac}\",f\"Cross_validation_accuracy: {val_ac}\")\n",
    "    for batch_idx, (data, targets) in enumerate(train_loader):\n",
    "        # Get data to cuda if possible\n",
    "        #data = data.to(device=device)\n",
    "        #targets = targets.to(device=device)\n",
    "\n",
    "        # Get to correct shape, 28x28->784\n",
    "        # -1 will flatten all outer dimensions into one\n",
    "        data = data.reshape(data.shape[0], -1) \n",
    "\n",
    "        # forward propagation\n",
    "        scores = model(data)\n",
    "        loss = criterion(scores, targets)\n",
    "\n",
    "        # zero previous gradients\n",
    "        optimizer.zero_grad()\n",
    "        \n",
    "        # back-propagation\n",
    "        loss.backward()\n",
    "\n",
    "        # gradient descent or adam step\n",
    "        optimizer.step()"
   ]
  },
  {
   "cell_type": "code",
   "execution_count": 35,
   "metadata": {},
   "outputs": [
    {
     "data": {
      "text/plain": [
       "96.10714285714286"
      ]
     },
     "execution_count": 35,
     "metadata": {},
     "output_type": "execute_result"
    }
   ],
   "source": [
    "check_accuracy(test_loader, model)"
   ]
  },
  {
   "cell_type": "code",
   "execution_count": null,
   "metadata": {},
   "outputs": [],
   "source": []
  },
  {
   "cell_type": "code",
   "execution_count": null,
   "metadata": {},
   "outputs": [],
   "source": []
  }
 ],
 "metadata": {
  "kernelspec": {
   "display_name": "Python 3.10.4 ('base')",
   "language": "python",
   "name": "python3"
  },
  "language_info": {
   "codemirror_mode": {
    "name": "ipython",
    "version": 3
   },
   "file_extension": ".py",
   "mimetype": "text/x-python",
   "name": "python",
   "nbconvert_exporter": "python",
   "pygments_lexer": "ipython3",
   "version": "3.10.4"
  },
  "orig_nbformat": 4,
  "vscode": {
   "interpreter": {
    "hash": "f203ad0a10091f4da9d51006e96eaa0965bcd4ccbf4c36fc9b007b764f1ea852"
   }
  }
 },
 "nbformat": 4,
 "nbformat_minor": 2
}
