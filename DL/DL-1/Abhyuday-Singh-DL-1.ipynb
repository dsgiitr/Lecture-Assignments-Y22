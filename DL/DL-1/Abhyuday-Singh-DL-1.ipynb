{
  "cells": [
    {
      "cell_type": "code",
      "execution_count": null,
      "metadata": {
        "id": "gaszOzESngeF"
      },
      "outputs": [],
      "source": [
        "import torch \n",
        "import torch.nn as nn \n",
        "import torchvision\n",
        "import torchvision.transforms as transforms\n",
        "import matplotlib.pyplot as plt\n",
        "\n",
        "device = torch.device('cuda' if torch.cuda.is_available() else 'cpu')"
      ]
    },
    {
      "cell_type": "code",
      "execution_count": null,
      "metadata": {
        "id": "17MPNtkSnhgq"
      },
      "outputs": [],
      "source": [
        "input_size = 784\n",
        "hidden_size = 100\n",
        "num_classes= 10\n",
        "num_epochs = 5\n",
        "batch_size = 100\n",
        "learning_rate = 0.001"
      ]
    },
    {
      "cell_type": "code",
      "execution_count": null,
      "metadata": {
        "colab": {
          "base_uri": "https://localhost:8080/",
          "height": 285
        },
        "id": "9eEZdBpAnlQa",
        "outputId": "f96d5ab2-5bb5-41c7-a48a-17914fe11dbe"
      },
      "outputs": [
        {
          "name": "stdout",
          "output_type": "stream",
          "text": [
            "torch.Size([100, 1, 28, 28]) torch.Size([100])\n"
          ]
        },
        {
          "data": {
            "image/png": "[encoded data removed]",
            "text/plain": [
              "<Figure size 432x288 with 12 Axes>"
            ]
          },
          "metadata": {
            "needs_background": "light"
          },
          "output_type": "display_data"
        }
      ],
      "source": [
        "train_dataset = torchvision.datasets.MNIST(root='./data', train = True,transform = transforms.ToTensor(), download=True)\n",
        "\n",
        "test_dataset = torchvision.datasets.MNIST(root='./data', train =False,transform = transforms.ToTensor())\n",
        "\n",
        "train_loader = torch.utils.data.DataLoader(dataset= train_dataset,batch_size = batch_size, shuffle = True)\n",
        "\n",
        "test_loader = torch.utils.data.DataLoader(dataset= test_dataset,batch_size = batch_size, shuffle = False)\n",
        "\n",
        "examples = iter(train_loader)\n",
        "samples, labels =examples.next()\n",
        "print(samples.shape, labels.shape)\n",
        "\n",
        "for i in range(12):\n",
        "  plt.subplot(4,3,i+1)\n",
        "  plt.imshow(samples[i][0], cmap='gray')\n",
        "#plt.show\n"
      ]
    },
    {
      "cell_type": "code",
      "execution_count": null,
      "metadata": {
        "id": "EVIczGFcnmei"
      },
      "outputs": [],
      "source": [
        "# Fully connected neural network with one hidden layer\n",
        "class NeuralNet(nn.Module):\n",
        "    def __init__(self, input_size, hidden_size, num_classes):\n",
        "        super(NeuralNet, self).__init__()\n",
        "        self.input_size = input_size\n",
        "        self.l1 = nn.Linear(input_size, hidden_size) \n",
        "        self.relu = nn.ReLU()\n",
        "        self.l2 = nn.Linear(hidden_size, num_classes)  \n",
        "    \n",
        "    def forward(self, x):\n",
        "        out = self.l1(x)\n",
        "        out = self.relu(out)\n",
        "        out = self.l2(out)\n",
        "        # no activation and no softmax at the end as we will implement the whole loss type differently\n",
        "        return out\n",
        "\n",
        "model = NeuralNet(input_size, hidden_size, num_classes).to(device)"
      ]
    },
    {
      "cell_type": "code",
      "execution_count": null,
      "metadata": {
        "id": "wNtjVrZjnq8y"
      },
      "outputs": [],
      "source": [
        "# Loss and optimizer\n",
        "criterion = nn.CrossEntropyLoss()\n",
        "optimizer = torch.optim.SGD(model.parameters(), lr=learning_rate)  "
      ]
    },
    {
      "cell_type": "code",
      "execution_count": null,
      "metadata": {
        "colab": {
          "base_uri": "https://localhost:8080/"
        },
        "id": "kD81ZoyTnvcr",
        "outputId": "d568e090-8b58-40dd-b06c-4c644bf98e0f"
      },
      "outputs": [
        {
          "name": "stdout",
          "output_type": "stream",
          "text": [
            "Epoch [1/5], Step [100/600], Loss: 2.2915\n",
            "Epoch [1/5], Step [200/600], Loss: 2.2643\n",
            "Epoch [1/5], Step [300/600], Loss: 2.2609\n",
            "Epoch [1/5], Step [400/600], Loss: 2.2246\n",
            "Epoch [1/5], Step [500/600], Loss: 2.2285\n",
            "Epoch [1/5], Step [600/600], Loss: 2.1904\n",
            "Epoch [2/5], Step [100/600], Loss: 2.1650\n",
            "Epoch [2/5], Step [200/600], Loss: 2.1393\n",
            "Epoch [2/5], Step [300/600], Loss: 2.1423\n",
            "Epoch [2/5], Step [400/600], Loss: 2.1070\n",
            "Epoch [2/5], Step [500/600], Loss: 2.0829\n",
            "Epoch [2/5], Step [600/600], Loss: 2.0758\n",
            "Epoch [3/5], Step [100/600], Loss: 2.0234\n",
            "Epoch [3/5], Step [200/600], Loss: 2.0180\n",
            "Epoch [3/5], Step [300/600], Loss: 1.9826\n",
            "Epoch [3/5], Step [400/600], Loss: 1.9282\n",
            "Epoch [3/5], Step [500/600], Loss: 1.8808\n",
            "Epoch [3/5], Step [600/600], Loss: 1.8828\n",
            "Epoch [4/5], Step [100/600], Loss: 1.8606\n",
            "Epoch [4/5], Step [200/600], Loss: 1.8669\n",
            "Epoch [4/5], Step [300/600], Loss: 1.7882\n",
            "Epoch [4/5], Step [400/600], Loss: 1.7769\n",
            "Epoch [4/5], Step [500/600], Loss: 1.7131\n",
            "Epoch [4/5], Step [600/600], Loss: 1.6691\n",
            "Epoch [5/5], Step [100/600], Loss: 1.6825\n",
            "Epoch [5/5], Step [200/600], Loss: 1.6921\n",
            "Epoch [5/5], Step [300/600], Loss: 1.6623\n",
            "Epoch [5/5], Step [400/600], Loss: 1.6284\n",
            "Epoch [5/5], Step [500/600], Loss: 1.5600\n",
            "Epoch [5/5], Step [600/600], Loss: 1.5366\n",
            "Accuracy of the network on the 10000 test images: 75.76 %\n"
          ]
        }
      ],
      "source": [
        "# Train the model\n",
        "n_total_steps = len(train_loader)\n",
        "for epoch in range(num_epochs):\n",
        "    for i, (images, labels) in enumerate(train_loader):  \n",
        "        # origin shape: [100, 1, 28, 28]\n",
        "        # resized: [100, 784]\n",
        "        images = images.reshape(-1, 28*28).to(device)\n",
        "        labels = labels.to(device)\n",
        "        \n",
        "        # Forward pass\n",
        "        outputs = model(images)\n",
        "        loss = criterion(outputs, labels)\n",
        "        \n",
        "        # Backward and optimize\n",
        "        optimizer.zero_grad()\n",
        "        loss.backward()\n",
        "        optimizer.step()\n",
        "        \n",
        "        if (i+1) % 100 == 0:\n",
        "            print (f'Epoch [{epoch+1}/{num_epochs}], Step [{i+1}/{n_total_steps}], Loss: {loss.item():.4f}')\n",
        "\n",
        "# Test the model\n",
        "# In test phase, we don't need to compute gradients (for memory efficiency)\n",
        "with torch.no_grad():\n",
        "    n_correct = 0\n",
        "    n_samples = 0\n",
        "    for images, labels in test_loader:\n",
        "        images = images.reshape(-1, 28*28).to(device)\n",
        "        labels = labels.to(device)\n",
        "        outputs = model(images)\n",
        "        # max returns (value ,index)\n",
        "        _, predicted = torch.max(outputs.data, 1)\n",
        "        n_samples += labels.size(0)\n",
        "        n_correct += (predicted == labels).sum().item()\n",
        "\n",
        "    acc = 100.0 * n_correct / n_samples\n",
        "    print(f'Accuracy of the network on the 10000 test images: {acc} %')"
      ]
    },
    {
      "cell_type": "code",
      "execution_count": null,
      "metadata": {
        "id": "1A1FL89tnvfa"
      },
      "outputs": [],
      "source": [
        "# Loss and optimizer\n",
        "criterion = nn.CrossEntropyLoss()\n",
        "optimizer = torch.optim.Adam(model.parameters(), lr=learning_rate)  "
      ]
    },
    {
      "cell_type": "code",
      "execution_count": null,
      "metadata": {
        "colab": {
          "base_uri": "https://localhost:8080/"
        },
        "id": "Chyv0sfPnvie",
        "outputId": "45491978-b584-4d88-d81b-7a824d3e2d2e"
      },
      "outputs": [
        {
          "name": "stdout",
          "output_type": "stream",
          "text": [
            "Epoch [1/5], Step [100/600], Loss: 0.5538\n",
            "Epoch [1/5], Step [200/600], Loss: 0.2563\n",
            "Epoch [1/5], Step [300/600], Loss: 0.3184\n",
            "Epoch [1/5], Step [400/600], Loss: 0.1850\n",
            "Epoch [1/5], Step [500/600], Loss: 0.2303\n",
            "Epoch [1/5], Step [600/600], Loss: 0.2747\n",
            "Epoch [2/5], Step [100/600], Loss: 0.1941\n",
            "Epoch [2/5], Step [200/600], Loss: 0.1875\n",
            "Epoch [2/5], Step [300/600], Loss: 0.2089\n",
            "Epoch [2/5], Step [400/600], Loss: 0.1641\n",
            "Epoch [2/5], Step [500/600], Loss: 0.1494\n",
            "Epoch [2/5], Step [600/600], Loss: 0.2163\n",
            "Epoch [3/5], Step [100/600], Loss: 0.2439\n",
            "Epoch [3/5], Step [200/600], Loss: 0.1147\n",
            "Epoch [3/5], Step [300/600], Loss: 0.1132\n",
            "Epoch [3/5], Step [400/600], Loss: 0.1270\n",
            "Epoch [3/5], Step [500/600], Loss: 0.2398\n",
            "Epoch [3/5], Step [600/600], Loss: 0.0972\n",
            "Epoch [4/5], Step [100/600], Loss: 0.0896\n",
            "Epoch [4/5], Step [200/600], Loss: 0.1185\n",
            "Epoch [4/5], Step [300/600], Loss: 0.1122\n",
            "Epoch [4/5], Step [400/600], Loss: 0.0415\n",
            "Epoch [4/5], Step [500/600], Loss: 0.0340\n",
            "Epoch [4/5], Step [600/600], Loss: 0.0843\n",
            "Epoch [5/5], Step [100/600], Loss: 0.0472\n",
            "Epoch [5/5], Step [200/600], Loss: 0.0518\n",
            "Epoch [5/5], Step [300/600], Loss: 0.0610\n",
            "Epoch [5/5], Step [400/600], Loss: 0.0147\n",
            "Epoch [5/5], Step [500/600], Loss: 0.0589\n",
            "Epoch [5/5], Step [600/600], Loss: 0.1876\n",
            "Accuracy of the network on the 10000 test images: 97.02 %\n"
          ]
        }
      ],
      "source": [
        "# Train the model\n",
        "n_total_steps = len(train_loader)\n",
        "for epoch in range(num_epochs):\n",
        "    for i, (images, labels) in enumerate(train_loader):  \n",
        "        # origin shape: [100, 1, 28, 28]\n",
        "        # resized: [100, 784]\n",
        "        images = images.reshape(-1, 28*28).to(device)\n",
        "        labels = labels.to(device)\n",
        "        \n",
        "        # Forward pass\n",
        "        outputs = model(images)\n",
        "        loss = criterion(outputs, labels)\n",
        "        \n",
        "        # Backward and optimize\n",
        "        optimizer.zero_grad()\n",
        "        loss.backward()\n",
        "        optimizer.step()\n",
        "        \n",
        "        if (i+1) % 100 == 0:\n",
        "            print (f'Epoch [{epoch+1}/{num_epochs}], Step [{i+1}/{n_total_steps}], Loss: {loss.item():.4f}')\n",
        "\n",
        "# Test the model\n",
        "# In test phase, we don't need to compute gradients (for memory efficiency)\n",
        "with torch.no_grad():\n",
        "    n_correct = 0\n",
        "    n_samples = 0\n",
        "    for images, labels in test_loader:\n",
        "        images = images.reshape(-1, 28*28).to(device)\n",
        "        labels = labels.to(device)\n",
        "        outputs = model(images)\n",
        "        # max returns (value ,index)\n",
        "        _, predicted = torch.max(outputs.data, 1)\n",
        "        n_samples += labels.size(0)\n",
        "        n_correct += (predicted == labels).sum().item()\n",
        "\n",
        "    acc = 100.0 * n_correct / n_samples\n",
        "    print(f'Accuracy of the network on the 10000 test images: {acc} %')"
      ]
    },
    {
      "cell_type": "markdown",
      "metadata": {
        "id": "RJsQMKSzyLmA"
      },
      "source": [
        "NOW LET'S IMPLEMENT IT USING NLL LOSS FUNCTION BUT NOW WE WILLL BE REQUIRED TO ADD ANOTHER LogSoftmax layer to it"
      ]
    },
    {
      "cell_type": "code",
      "execution_count": null,
      "metadata": {
        "id": "CaErgacSqh4E"
      },
      "outputs": [],
      "source": [
        "from time import time\n",
        "from torchvision import datasets, transforms\n",
        "from torch import nn, optim\n",
        "batch_size = 64"
      ]
    },
    {
      "cell_type": "code",
      "execution_count": null,
      "metadata": {
        "id": "nSWC2plGtca5"
      },
      "outputs": [],
      "source": [
        "transform = transforms.Compose([transforms.ToTensor(),transforms.Normalize((0.5,), (0.5,)),])"
      ]
    },
    {
      "cell_type": "code",
      "execution_count": null,
      "metadata": {
        "id": "EIvcqNTbuDmy"
      },
      "outputs": [],
      "source": [
        "train_dataset = torchvision.datasets.MNIST(root='./data', train = True,transform = transforms.ToTensor(), download=True)\n",
        "\n",
        "test_dataset = torchvision.datasets.MNIST(root='./data', train =False,transform = transforms.ToTensor())\n",
        "\n",
        "train_loader = torch.utils.data.DataLoader(dataset= train_dataset,batch_size = batch_size, shuffle = True)\n",
        "\n",
        "test_loader = torch.utils.data.DataLoader(dataset= test_dataset,batch_size = batch_size, shuffle = False)"
      ]
    },
    {
      "cell_type": "code",
      "execution_count": null,
      "metadata": {
        "colab": {
          "base_uri": "https://localhost:8080/"
        },
        "id": "CdGXVa5quBXS",
        "outputId": "f1c9ef4c-103a-470e-8c99-18e3d8a03bfa"
      },
      "outputs": [
        {
          "name": "stdout",
          "output_type": "stream",
          "text": [
            "torch.Size([64, 1, 28, 28])\n",
            "torch.Size([64])\n"
          ]
        }
      ],
      "source": [
        "dataiter = iter(train_loader) # creating a iterator\n",
        "images, labels = dataiter.next() # creating images for image and lables for image number (0 to 9) \n",
        "\n",
        "print(images.shape)\n",
        "print(labels.shape)"
      ]
    },
    {
      "cell_type": "markdown",
      "metadata": {
        "id": "uqzG2C2wvhT2"
      },
      "source": [
        "PyTorch provides an easy way to build networks like this. By using nn.Sequential, a tensor is passed sequentially through operations."
      ]
    },
    {
      "cell_type": "code",
      "execution_count": null,
      "metadata": {
        "colab": {
          "base_uri": "https://localhost:8080/"
        },
        "id": "Iu4jEVjBuU8R",
        "outputId": "5bc1a7cd-0159-4fce-bf29-a6f9e36d8e49"
      },
      "outputs": [
        {
          "name": "stdout",
          "output_type": "stream",
          "text": [
            "Sequential(\n",
            "  (0): Linear(in_features=784, out_features=128, bias=True)\n",
            "  (1): ReLU()\n",
            "  (2): Linear(in_features=128, out_features=64, bias=True)\n",
            "  (3): Tanh()\n",
            "  (4): Linear(in_features=64, out_features=10, bias=True)\n",
            "  (5): LogSoftmax(dim=1)\n",
            ")\n"
          ]
        }
      ],
      "source": [
        "model=nn.Sequential(nn.Linear(784,128), # 1 layer:- 784 input 128 o/p\n",
        "                    nn.ReLU(),          # Defining Regular linear unit as activation\n",
        "                    nn.Linear(128,64),  # 2 Layer:- 128 Input and 64 O/p\n",
        "                    nn.Tanh(),          # Defining Regular linear unit as activation\n",
        "                    nn.Linear(64,10),   # 3 Layer:- 64 Input and 10 O/P as (0-9)\n",
        "                    nn.LogSoftmax(dim=1) # Defining the log softmax to find the probablities for the last output unit\n",
        "                  ) \n",
        "\n",
        "print(model)"
      ]
    },
    {
      "cell_type": "code",
      "execution_count": null,
      "metadata": {
        "id": "bRiedNwnvfrn"
      },
      "outputs": [],
      "source": [
        "# defining the negative log-likelihood loss for calculating loss\n",
        "criterion = nn.NLLLoss() "
      ]
    },
    {
      "cell_type": "code",
      "execution_count": null,
      "metadata": {
        "id": "2DYV955Jv2Sj"
      },
      "outputs": [],
      "source": [
        "images, labels = next(iter(train_loader))\n",
        "images = images.view(images.shape[0], -1)\n",
        "\n",
        "logps = model(images) #log probabilities\n",
        "loss = criterion(logps, labels) #calculate the NLL-loss"
      ]
    },
    {
      "cell_type": "markdown",
      "metadata": {
        "id": "xefNmcKKwHEU"
      },
      "source": [
        "The autograd module automatically calculates the gradient of the tensor. The small change in the input weight that reflects the change in loss is called the gradient of that weight and is calculated using backpropagation. It is then used to update the weights by using a learning rate. It reduces the overall loss and trains the neural net"
      ]
    },
    {
      "cell_type": "code",
      "execution_count": null,
      "metadata": {
        "colab": {
          "base_uri": "https://localhost:8080/"
        },
        "id": "-Vh1tqScv8kS",
        "outputId": "e15f1798-09a0-4d5c-8f4d-9bec577de47b"
      },
      "outputs": [
        {
          "name": "stdout",
          "output_type": "stream",
          "text": [
            "Before backward pass: \n",
            " None\n",
            "After backward pass: \n",
            " tensor([[0., 0., 0.,  ..., 0., 0., 0.],\n",
            "        [0., 0., 0.,  ..., 0., 0., 0.],\n",
            "        [0., 0., 0.,  ..., 0., 0., 0.],\n",
            "        ...,\n",
            "        [0., 0., 0.,  ..., 0., 0., 0.],\n",
            "        [0., 0., 0.,  ..., 0., 0., 0.],\n",
            "        [0., 0., 0.,  ..., 0., 0., 0.]])\n"
          ]
        }
      ],
      "source": [
        "print('Before backward pass: \\n', model[0].weight.grad)\n",
        "loss.backward() # to calculate gradients of parameter \n",
        "print('After backward pass: \\n', model[0].weight.grad)"
      ]
    },
    {
      "cell_type": "code",
      "execution_count": null,
      "metadata": {
        "colab": {
          "base_uri": "https://localhost:8080/"
        },
        "id": "2Uds95z8wSO4",
        "outputId": "cda602a5-29c2-4710-958d-97b3a6e485fa"
      },
      "outputs": [
        {
          "name": "stdout",
          "output_type": "stream",
          "text": [
            "Initial weights -  Parameter containing:\n",
            "tensor([[ 0.0097,  0.0257, -0.0178,  ..., -0.0059,  0.0202,  0.0232],\n",
            "        [ 0.0149,  0.0102,  0.0192,  ..., -0.0292, -0.0126,  0.0227],\n",
            "        [ 0.0111, -0.0041,  0.0027,  ..., -0.0263,  0.0192, -0.0326],\n",
            "        ...,\n",
            "        [-0.0077, -0.0339,  0.0175,  ...,  0.0296,  0.0279,  0.0081],\n",
            "        [-0.0203,  0.0051,  0.0183,  ...,  0.0032,  0.0101, -0.0050],\n",
            "        [-0.0069,  0.0070,  0.0230,  ...,  0.0108,  0.0292,  0.0207]],\n",
            "       requires_grad=True)\n",
            "Gradient - tensor([[0., 0., 0.,  ..., 0., 0., 0.],\n",
            "        [0., 0., 0.,  ..., 0., 0., 0.],\n",
            "        [0., 0., 0.,  ..., 0., 0., 0.],\n",
            "        ...,\n",
            "        [0., 0., 0.,  ..., 0., 0., 0.],\n",
            "        [0., 0., 0.,  ..., 0., 0., 0.],\n",
            "        [0., 0., 0.,  ..., 0., 0., 0.]])\n"
          ]
        }
      ],
      "source": [
        "optimizer = optim.SGD(model.parameters(), lr=0.01, momentum=0.9)\n",
        "\n",
        "print('Initial weights - ', model[0].weight)\n",
        "\n",
        "images, labels = next(iter(train_loader))\n",
        "images.resize_(64, 784)\n",
        "\n",
        "# Clear the gradients, do this because gradients are accumulated\n",
        "optimizer.zero_grad()\n",
        "\n",
        "# Forward pass\n",
        "output = model(images)\n",
        "loss = criterion(output, labels)\n",
        "# the backward pass and update weights\n",
        "loss.backward()\n",
        "print('Gradient -', model[0].weight.grad)"
      ]
    },
    {
      "cell_type": "code",
      "execution_count": null,
      "metadata": {
        "colab": {
          "base_uri": "https://localhost:8080/"
        },
        "id": "DKgdgrRbwoxf",
        "outputId": "20d9b18b-0cde-40fa-c69e-ec788d778f1b"
      },
      "outputs": [
        {
          "name": "stdout",
          "output_type": "stream",
          "text": [
            "Epoch 0 - Training loss: 0.49316510715797895\n",
            "Epoch 1 - Training loss: 0.18413351670797193\n",
            "Epoch 2 - Training loss: 0.1284561393075565\n",
            "Epoch 3 - Training loss: 0.09992842464002846\n",
            "Epoch 4 - Training loss: 0.0804767858103982\n",
            "Epoch 5 - Training loss: 0.06738451667137936\n",
            "Epoch 6 - Training loss: 0.05669641059273278\n",
            "Epoch 7 - Training loss: 0.048656132356422556\n",
            "Epoch 8 - Training loss: 0.041214336930309486\n",
            "Epoch 9 - Training loss: 0.03643270289308941\n",
            "Epoch 10 - Training loss: 0.030739688300224804\n",
            "Epoch 11 - Training loss: 0.026318009155911645\n",
            "Epoch 12 - Training loss: 0.02298819043411454\n",
            "Epoch 13 - Training loss: 0.019398515822732252\n",
            "Epoch 14 - Training loss: 0.017204339078355477\n",
            "\n",
            "Training Time (in minutes) = 1.8678260127703348\n"
          ]
        }
      ],
      "source": [
        "time0 = time()\n",
        "epochs = 15 # total number of iteration for training\n",
        "running_loss_list= []\n",
        "epochs_list = []\n",
        "\n",
        "for e in range(epochs):\n",
        "    running_loss = 0\n",
        "    for images, labels in train_loader:\n",
        "        # Flatenning MNIST images with size [64,784]\n",
        "        images = images.view(images.shape[0], -1) \n",
        "    \n",
        "        # defining gradient in each epoch as 0\n",
        "        optimizer.zero_grad()\n",
        "        \n",
        "        # modeling for each image batch\n",
        "        output = model(images)\n",
        "        \n",
        "        # calculating the loss\n",
        "        loss = criterion(output, labels)\n",
        "        \n",
        "        # This is where the model learns by backpropagating\n",
        "        loss.backward()\n",
        "        \n",
        "        # And optimizes its weights here\n",
        "        optimizer.step()\n",
        "        \n",
        "        # calculating the loss\n",
        "        running_loss += loss.item()\n",
        "        \n",
        "    else:\n",
        "        print(\"Epoch {} - Training loss: {}\".format(e, running_loss/len(train_loader)))\n",
        "print(\"\\nTraining Time (in minutes) =\",(time()-time0)/60)"
      ]
    },
    {
      "cell_type": "code",
      "execution_count": null,
      "metadata": {
        "id": "kDqH3KPDw-l-"
      },
      "outputs": [],
      "source": [
        "def classify(img, ps):\n",
        "    ''' \n",
        "    Function for viewing an image and it's predicted classes.\n",
        "    '''\n",
        "    ps = ps.data.numpy().squeeze()\n",
        "\n",
        "    fig, (ax1, ax2) = plt.subplots(figsize=(6,9), ncols=2)\n",
        "    ax1.imshow(img.resize_(1, 28, 28).numpy().squeeze())\n",
        "    ax1.axis('off')\n",
        "    ax2.barh(np.arange(10), ps)\n",
        "    ax2.set_aspect(0.1)\n",
        "    ax2.set_yticks(np.arange(10))\n",
        "    ax2.set_yticklabels(np.arange(10))\n",
        "    ax2.set_title('Class Probability')\n",
        "    ax2.set_xlim(0, 1.1)\n",
        "    plt.tight_layout()\n",
        "import numpy as np    "
      ]
    },
    {
      "cell_type": "code",
      "execution_count": null,
      "metadata": {
        "colab": {
          "base_uri": "https://localhost:8080/",
          "height": 270
        },
        "id": "T1LxcgHSxKDD",
        "outputId": "f94b2547-6402-4808-a07a-8f88c7ecccb2"
      },
      "outputs": [
        {
          "name": "stdout",
          "output_type": "stream",
          "text": [
            "Predicted Digit = 7\n"
          ]
        },
        {
          "data": {
            "image/png": "[encoded data removed]",
            "text/plain": [
              "<Figure size 432x648 with 2 Axes>"
            ]
          },
          "metadata": {
            "needs_background": "light"
          },
          "output_type": "display_data"
        }
      ],
      "source": [
        "images, labels = next(iter(test_loader))\n",
        "# replace trainloader to check training accuracy.\n",
        "\n",
        "img = images[0].view(1, 784)\n",
        "# Turn off gradients to speed up this part\n",
        "with torch.no_grad():\n",
        "    logpb = model(img)\n",
        "\n",
        "# Output of the network are log-probabilities, need to take exponential for probabilities\n",
        "pb = torch.exp(logpb)\n",
        "probab = list(pb.numpy()[0])\n",
        "print(\"Predicted Digit =\", probab.index(max(probab)))\n",
        "classify(img.view(1, 28, 28), pb)"
      ]
    },
    {
      "cell_type": "code",
      "execution_count": null,
      "metadata": {
        "colab": {
          "base_uri": "https://localhost:8080/"
        },
        "id": "0recu-WAxNLR",
        "outputId": "4c25cc7e-471f-4e08-e1eb-b7e2c3a91df6"
      },
      "outputs": [
        {
          "name": "stdout",
          "output_type": "stream",
          "text": [
            "Number Of Images Tested = 10000\n",
            "\n",
            "Model Accuracy = 0.9785\n"
          ]
        }
      ],
      "source": [
        "correct_count, all_count = 0, 0\n",
        "for images,labels in test_loader:\n",
        "  for i in range(len(labels)):\n",
        "    img = images[i].view(1, 784)\n",
        "\n",
        "    with torch.no_grad():\n",
        "        logps = model(img)\n",
        "\n",
        "    ps = torch.exp(logps)\n",
        "    probab = list(ps.numpy()[0])\n",
        "    pred_label = probab.index(max(probab))\n",
        "    true_label = labels.numpy()[i]\n",
        "    if(true_label == pred_label):\n",
        "      correct_count += 1\n",
        "    all_count += 1\n",
        "\n",
        "print(\"Number Of Images Tested =\", all_count)\n",
        "print(\"\\nModel Accuracy =\", (correct_count/all_count))"
      ]
    },
    {
      "cell_type": "markdown",
      "metadata": {
        "id": "cn35XoVpy1MD"
      },
      "source": [
        "NOW WITH ADAM"
      ]
    },
    {
      "cell_type": "code",
      "execution_count": null,
      "metadata": {
        "colab": {
          "base_uri": "https://localhost:8080/"
        },
        "id": "VdBxl73MzWWz",
        "outputId": "20842602-ef00-47db-8fb5-d369eda31e49"
      },
      "outputs": [
        {
          "name": "stdout",
          "output_type": "stream",
          "text": [
            "Initial weights -  Parameter containing:\n",
            "tensor([[ 0.0097,  0.0257, -0.0178,  ..., -0.0059,  0.0202,  0.0232],\n",
            "        [ 0.0149,  0.0102,  0.0192,  ..., -0.0292, -0.0126,  0.0227],\n",
            "        [ 0.0111, -0.0041,  0.0027,  ..., -0.0263,  0.0192, -0.0326],\n",
            "        ...,\n",
            "        [-0.0077, -0.0339,  0.0175,  ...,  0.0296,  0.0279,  0.0081],\n",
            "        [-0.0203,  0.0051,  0.0183,  ...,  0.0032,  0.0101, -0.0050],\n",
            "        [-0.0069,  0.0070,  0.0230,  ...,  0.0108,  0.0292,  0.0207]],\n",
            "       requires_grad=True)\n",
            "Gradient - tensor([[0., 0., 0.,  ..., 0., 0., 0.],\n",
            "        [0., 0., 0.,  ..., 0., 0., 0.],\n",
            "        [0., 0., 0.,  ..., 0., 0., 0.],\n",
            "        ...,\n",
            "        [0., 0., 0.,  ..., 0., 0., 0.],\n",
            "        [0., 0., 0.,  ..., 0., 0., 0.],\n",
            "        [0., 0., 0.,  ..., 0., 0., 0.]])\n"
          ]
        }
      ],
      "source": [
        "optimizer = optim.Adam(model.parameters(), lr=0.01)\n",
        "\n",
        "print('Initial weights - ', model[0].weight)\n",
        "\n",
        "images, labels = next(iter(train_loader))\n",
        "images.resize_(64, 784)\n",
        "\n",
        "# Clear the gradients, do this because gradients are accumulated\n",
        "optimizer.zero_grad()\n",
        "\n",
        "# Forward pass\n",
        "output = model(images)\n",
        "loss = criterion(output, labels)\n",
        "# the backward pass and update weights\n",
        "loss.backward()\n",
        "print('Gradient -', model[0].weight.grad)"
      ]
    },
    {
      "cell_type": "code",
      "execution_count": null,
      "metadata": {
        "colab": {
          "base_uri": "https://localhost:8080/"
        },
        "id": "FAN4r7UgyiOD",
        "outputId": "1850689a-4b14-484f-9a58-118341710b1d"
      },
      "outputs": [
        {
          "name": "stdout",
          "output_type": "stream",
          "text": [
            "Epoch 0 - Training loss: 0.18991783885598015\n",
            "Epoch 1 - Training loss: 0.12805385356183166\n",
            "Epoch 2 - Training loss: 0.12871000591043963\n",
            "Epoch 3 - Training loss: 0.127197500208079\n",
            "Epoch 4 - Training loss: 0.13115563589919693\n",
            "Epoch 5 - Training loss: 0.1291613669649982\n",
            "Epoch 6 - Training loss: 0.1259581066513144\n",
            "Epoch 7 - Training loss: 0.14134504251243638\n",
            "Epoch 8 - Training loss: 0.1376389161627025\n",
            "Epoch 9 - Training loss: 0.12564207488216206\n",
            "Epoch 10 - Training loss: 0.13677222223312996\n",
            "Epoch 11 - Training loss: 0.12889280329261826\n",
            "Epoch 12 - Training loss: 0.13200003618219577\n",
            "Epoch 13 - Training loss: 0.12952542334481248\n",
            "Epoch 14 - Training loss: 0.13949380491151295\n",
            "\n",
            "Training Time (in minutes) = 2.7060992399851482\n"
          ]
        }
      ],
      "source": [
        "time0 = time()\n",
        "epochs = 15 # total number of iteration for training\n",
        "running_loss_list= []\n",
        "epochs_list = []\n",
        "\n",
        "for e in range(epochs):\n",
        "    running_loss = 0\n",
        "    for images, labels in train_loader:\n",
        "        # Flatenning MNIST images with size [64,784]\n",
        "        images = images.view(images.shape[0], -1) \n",
        "    \n",
        "        # defining gradient in each epoch as 0\n",
        "        optimizer.zero_grad()\n",
        "        \n",
        "        # modeling for each image batch\n",
        "        output = model(images)\n",
        "        \n",
        "        # calculating the loss\n",
        "        loss = criterion(output, labels)\n",
        "        \n",
        "        # This is where the model learns by backpropagating\n",
        "        loss.backward()\n",
        "        \n",
        "        # And optimizes its weights here\n",
        "        optimizer.step()\n",
        "        \n",
        "        # calculating the loss\n",
        "        running_loss += loss.item()\n",
        "        \n",
        "    else:\n",
        "        print(\"Epoch {} - Training loss: {}\".format(e, running_loss/len(train_loader)))\n",
        "print(\"\\nTraining Time (in minutes) =\",(time()-time0)/60)"
      ]
    },
    {
      "cell_type": "code",
      "execution_count": null,
      "metadata": {
        "id": "RMrGlf46yiQR"
      },
      "outputs": [],
      "source": [
        "def classify(img, ps):\n",
        "    ''' \n",
        "    Function for viewing an image and it's predicted classes.\n",
        "    '''\n",
        "    ps = ps.data.numpy().squeeze()\n",
        "\n",
        "    fig, (ax1, ax2) = plt.subplots(figsize=(6,9), ncols=2)\n",
        "    ax1.imshow(img.resize_(1, 28, 28).numpy().squeeze())\n",
        "    ax1.axis('off')\n",
        "    ax2.barh(np.arange(10), ps)\n",
        "    ax2.set_aspect(0.1)\n",
        "    ax2.set_yticks(np.arange(10))\n",
        "    ax2.set_yticklabels(np.arange(10))\n",
        "    ax2.set_title('Class Probability')\n",
        "    ax2.set_xlim(0, 1.1)\n",
        "    plt.tight_layout()\n",
        "import numpy as np    "
      ]
    },
    {
      "cell_type": "markdown",
      "metadata": {
        "id": "ifrzfOOO0K7q"
      },
      "source": [
        "the working for a sample digit."
      ]
    },
    {
      "cell_type": "code",
      "execution_count": null,
      "metadata": {
        "colab": {
          "base_uri": "https://localhost:8080/",
          "height": 270
        },
        "id": "NVDL5u-HyiS3",
        "outputId": "0475566e-9312-4fc7-a69a-b08689257453"
      },
      "outputs": [
        {
          "name": "stdout",
          "output_type": "stream",
          "text": [
            "Predicted Digit = 7\n"
          ]
        },
        {
          "data": {
            "image/png": "[encoded data removed]",
            "text/plain": [
              "<Figure size 432x648 with 2 Axes>"
            ]
          },
          "metadata": {
            "needs_background": "light"
          },
          "output_type": "display_data"
        }
      ],
      "source": [
        "images, labels = next(iter(test_loader))\n",
        "# replace trainloader to check training accuracy.\n",
        "\n",
        "img = images[0].view(1, 784)\n",
        "# Turn off gradients to speed up this part\n",
        "with torch.no_grad():\n",
        "    logpb = model(img)\n",
        "\n",
        "# Output of the network are log-probabilities, need to take exponential for probabilities\n",
        "pb = torch.exp(logpb)\n",
        "probab = list(pb.numpy()[0])\n",
        "print(\"Predicted Digit =\", probab.index(max(probab)))\n",
        "classify(img.view(1, 28, 28), pb)"
      ]
    },
    {
      "cell_type": "code",
      "execution_count": null,
      "metadata": {
        "colab": {
          "base_uri": "https://localhost:8080/"
        },
        "id": "vMPdjHVCyiU6",
        "outputId": "4ef39ecb-255b-44ab-d6e4-49da137d9c07"
      },
      "outputs": [
        {
          "name": "stdout",
          "output_type": "stream",
          "text": [
            "Number Of Images Tested = 10000\n",
            "\n",
            "Model Accuracy = 0.9543\n"
          ]
        }
      ],
      "source": [
        "correct_count, all_count = 0, 0\n",
        "for images,labels in test_loader:\n",
        "  for i in range(len(labels)):\n",
        "    img = images[i].view(1, 784)\n",
        "\n",
        "    with torch.no_grad():\n",
        "        logps = model(img)\n",
        "\n",
        "    ps = torch.exp(logps)\n",
        "    probab = list(ps.numpy()[0])\n",
        "    pred_label = probab.index(max(probab))\n",
        "    true_label = labels.numpy()[i]\n",
        "    if(true_label == pred_label):\n",
        "      correct_count += 1\n",
        "    all_count += 1\n",
        "\n",
        "print(\"Number Of Images Tested =\", all_count)\n",
        "print(\"\\nModel Accuracy =\", (correct_count/all_count))"
      ]
    },
    {
      "cell_type": "markdown",
      "metadata": {
        "id": "PPSIdWuezlP8"
      },
      "source": [
        "CONCLUSION : DURING THIS EXPLORATION WE FIRST DEALT WITH DEVELOPING SHORTER HIDDEN LAYER FOR CROSS ENTROPY LOSS CASE BUT THEN DEVISED HIGHER LAYER MODEL BY USING SEQUENTIAL DIRECTLY AND IMPLEMENTING IT FOR SECOND TYPE OF LOSS AS WELL i.e. NLL loss."
      ]
    }
  ],
  "metadata": {
    "colab": {
      "provenance": []
    },
    "kernelspec": {
      "display_name": "Python 3.10.4 64-bit",
      "language": "python",
      "name": "python3"
    },
    "language_info": {
      "name": "python",
      "version": "3.10.4"
    },
    "vscode": {
      "interpreter": {
        "hash": "bb6058f67df2767453fc1aba60dd2214a013254e082fc463255d189a09321456"
      }
    }
  },
  "nbformat": 4,
  "nbformat_minor": 0
}
